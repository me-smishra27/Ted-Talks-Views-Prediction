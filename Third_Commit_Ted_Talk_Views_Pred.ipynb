{
  "nbformat": 4,
  "nbformat_minor": 0,
  "metadata": {
    "colab": {
      "name": "Third_Commit_Ted_Talk_Views_Pred.ipynb",
      "provenance": [],
      "collapsed_sections": [
        "sJrU8XdNcCp0",
        "xtE7TOw89pbh",
        "FMPK7ZU49zqw",
        "7qbCzxFaoK1Z",
        "P5LWfvYrALwQ",
        "9SDrJAXryQKy",
        "S7pzHKQ-IQYq",
        "dHsRueKQNljm",
        "3cmMSp9XAFAq",
        "pLGmmw_1h7SP",
        "VnNl6KkE9hC8"
      ],
      "mount_file_id": "1ko7whIUWBR1YGM3g8TRsP0AxL4gaoUZ-",
      "authorship_tag": "ABX9TyPNovsB1O5II3/Q0ppoCsz0",
      "include_colab_link": true
    },
    "kernelspec": {
      "name": "python3",
      "display_name": "Python 3"
    },
    "language_info": {
      "name": "python"
    }
  },
  "cells": [
    {
      "cell_type": "markdown",
      "metadata": {
        "id": "view-in-github",
        "colab_type": "text"
      },
      "source": [
        "<a href=\"https://colab.research.google.com/github/me-smishra27/Ted-Talks-Views-Prediction/blob/main/Third_Commit_Ted_Talk_Views_Pred.ipynb\" target=\"_parent\"><img src=\"https://colab.research.google.com/assets/colab-badge.svg\" alt=\"Open In Colab\"/></a>"
      ]
    },
    {
      "cell_type": "code",
      "metadata": {
        "id": "JcDOSswaMKgb"
      },
      "source": [
        "import pandas as pd\n",
        "import numpy as np\n",
        "import matplotlib.pyplot as plt\n",
        "import seaborn as sns\n",
        "import missingno as mno\n",
        "import ast\n",
        "from nltk.corpus import stopwords\n",
        "import string"
      ],
      "execution_count": null,
      "outputs": []
    },
    {
      "cell_type": "code",
      "metadata": {
        "colab": {
          "base_uri": "https://localhost:8080/"
        },
        "id": "dgfc7NzC28XO",
        "outputId": "bf4de268-524f-4145-d337-8992ab3b684b"
      },
      "source": [
        "import nltk\n",
        "nltk.download('stopwords')"
      ],
      "execution_count": null,
      "outputs": [
        {
          "output_type": "stream",
          "name": "stdout",
          "text": [
            "[nltk_data] Downloading package stopwords to /root/nltk_data...\n",
            "[nltk_data]   Unzipping corpora/stopwords.zip.\n"
          ]
        },
        {
          "output_type": "execute_result",
          "data": {
            "text/plain": [
              "True"
            ]
          },
          "metadata": {},
          "execution_count": 2
        }
      ]
    },
    {
      "cell_type": "markdown",
      "metadata": {
        "id": "t1sxHxoN-waC"
      },
      "source": [
        "#IMPORT DATA"
      ]
    },
    {
      "cell_type": "code",
      "metadata": {
        "id": "DHagYNWfLqFH"
      },
      "source": [
        "filepath = '/content/drive/MyDrive/Colab Notebooks/Cohort_Himalaya_AlmaBetter/ML_CAPSTONE/Capstone 3-Ted_Talk_Views_Prediction/data_ted_talks.csv'\n",
        "r_data = pd.read_csv(filepath)"
      ],
      "execution_count": null,
      "outputs": []
    },
    {
      "cell_type": "code",
      "metadata": {
        "colab": {
          "base_uri": "https://localhost:8080/",
          "height": 583
        },
        "id": "q8B0wqwPMJGG",
        "outputId": "e8db4bc9-ec4c-47c4-cd0e-d02b1a680a7e"
      },
      "source": [
        "r_data.head()"
      ],
      "execution_count": null,
      "outputs": [
        {
          "output_type": "execute_result",
          "data": {
            "text/html": [
              "<div>\n",
              "<style scoped>\n",
              "    .dataframe tbody tr th:only-of-type {\n",
              "        vertical-align: middle;\n",
              "    }\n",
              "\n",
              "    .dataframe tbody tr th {\n",
              "        vertical-align: top;\n",
              "    }\n",
              "\n",
              "    .dataframe thead th {\n",
              "        text-align: right;\n",
              "    }\n",
              "</style>\n",
              "<table border=\"1\" class=\"dataframe\">\n",
              "  <thead>\n",
              "    <tr style=\"text-align: right;\">\n",
              "      <th></th>\n",
              "      <th>talk_id</th>\n",
              "      <th>title</th>\n",
              "      <th>speaker_1</th>\n",
              "      <th>all_speakers</th>\n",
              "      <th>occupations</th>\n",
              "      <th>about_speakers</th>\n",
              "      <th>views</th>\n",
              "      <th>recorded_date</th>\n",
              "      <th>published_date</th>\n",
              "      <th>event</th>\n",
              "      <th>native_lang</th>\n",
              "      <th>available_lang</th>\n",
              "      <th>comments</th>\n",
              "      <th>duration</th>\n",
              "      <th>topics</th>\n",
              "      <th>related_talks</th>\n",
              "      <th>url</th>\n",
              "      <th>description</th>\n",
              "      <th>transcript</th>\n",
              "    </tr>\n",
              "  </thead>\n",
              "  <tbody>\n",
              "    <tr>\n",
              "      <th>0</th>\n",
              "      <td>1</td>\n",
              "      <td>Averting the climate crisis</td>\n",
              "      <td>Al Gore</td>\n",
              "      <td>{0: 'Al Gore'}</td>\n",
              "      <td>{0: ['climate advocate']}</td>\n",
              "      <td>{0: 'Nobel Laureate Al Gore focused the world’...</td>\n",
              "      <td>3523392</td>\n",
              "      <td>2006-02-25</td>\n",
              "      <td>2006-06-27</td>\n",
              "      <td>TED2006</td>\n",
              "      <td>en</td>\n",
              "      <td>['ar', 'bg', 'cs', 'de', 'el', 'en', 'es', 'fa...</td>\n",
              "      <td>272.0</td>\n",
              "      <td>977</td>\n",
              "      <td>['alternative energy', 'cars', 'climate change...</td>\n",
              "      <td>{243: 'New thinking on the climate crisis', 54...</td>\n",
              "      <td>https://www.ted.com/talks/al_gore_averting_the...</td>\n",
              "      <td>With the same humor and humanity he exuded in ...</td>\n",
              "      <td>Thank you so much, Chris. And it's truly a gre...</td>\n",
              "    </tr>\n",
              "    <tr>\n",
              "      <th>1</th>\n",
              "      <td>92</td>\n",
              "      <td>The best stats you've ever seen</td>\n",
              "      <td>Hans Rosling</td>\n",
              "      <td>{0: 'Hans Rosling'}</td>\n",
              "      <td>{0: ['global health expert; data visionary']}</td>\n",
              "      <td>{0: 'In Hans Rosling’s hands, data sings. Glob...</td>\n",
              "      <td>14501685</td>\n",
              "      <td>2006-02-22</td>\n",
              "      <td>2006-06-27</td>\n",
              "      <td>TED2006</td>\n",
              "      <td>en</td>\n",
              "      <td>['ar', 'az', 'bg', 'bn', 'bs', 'cs', 'da', 'de...</td>\n",
              "      <td>628.0</td>\n",
              "      <td>1190</td>\n",
              "      <td>['Africa', 'Asia', 'Google', 'demo', 'economic...</td>\n",
              "      <td>{2056: \"Own your body's data\", 2296: 'A visual...</td>\n",
              "      <td>https://www.ted.com/talks/hans_rosling_the_bes...</td>\n",
              "      <td>You've never seen data presented like this. Wi...</td>\n",
              "      <td>About 10 years ago, I took on the task to teac...</td>\n",
              "    </tr>\n",
              "    <tr>\n",
              "      <th>2</th>\n",
              "      <td>7</td>\n",
              "      <td>Simplicity sells</td>\n",
              "      <td>David Pogue</td>\n",
              "      <td>{0: 'David Pogue'}</td>\n",
              "      <td>{0: ['technology columnist']}</td>\n",
              "      <td>{0: 'David Pogue is the personal technology co...</td>\n",
              "      <td>1920832</td>\n",
              "      <td>2006-02-24</td>\n",
              "      <td>2006-06-27</td>\n",
              "      <td>TED2006</td>\n",
              "      <td>en</td>\n",
              "      <td>['ar', 'bg', 'de', 'el', 'en', 'es', 'fa', 'fr...</td>\n",
              "      <td>124.0</td>\n",
              "      <td>1286</td>\n",
              "      <td>['computers', 'entertainment', 'interface desi...</td>\n",
              "      <td>{1725: '10 top time-saving tech tips', 2274: '...</td>\n",
              "      <td>https://www.ted.com/talks/david_pogue_simplici...</td>\n",
              "      <td>New York Times columnist David Pogue takes aim...</td>\n",
              "      <td>(Music: \"The Sound of Silence,\" Simon &amp; Garfun...</td>\n",
              "    </tr>\n",
              "    <tr>\n",
              "      <th>3</th>\n",
              "      <td>53</td>\n",
              "      <td>Greening the ghetto</td>\n",
              "      <td>Majora Carter</td>\n",
              "      <td>{0: 'Majora Carter'}</td>\n",
              "      <td>{0: ['activist for environmental justice']}</td>\n",
              "      <td>{0: 'Majora Carter redefined the field of envi...</td>\n",
              "      <td>2664069</td>\n",
              "      <td>2006-02-26</td>\n",
              "      <td>2006-06-27</td>\n",
              "      <td>TED2006</td>\n",
              "      <td>en</td>\n",
              "      <td>['ar', 'bg', 'bn', 'ca', 'cs', 'de', 'en', 'es...</td>\n",
              "      <td>219.0</td>\n",
              "      <td>1116</td>\n",
              "      <td>['MacArthur grant', 'activism', 'business', 'c...</td>\n",
              "      <td>{1041: '3 stories of local eco-entrepreneurshi...</td>\n",
              "      <td>https://www.ted.com/talks/majora_carter_greeni...</td>\n",
              "      <td>In an emotionally charged talk, MacArthur-winn...</td>\n",
              "      <td>If you're here today — and I'm very happy that...</td>\n",
              "    </tr>\n",
              "    <tr>\n",
              "      <th>4</th>\n",
              "      <td>66</td>\n",
              "      <td>Do schools kill creativity?</td>\n",
              "      <td>Sir Ken Robinson</td>\n",
              "      <td>{0: 'Sir Ken Robinson'}</td>\n",
              "      <td>{0: ['author', 'educator']}</td>\n",
              "      <td>{0: \"Creativity expert Sir Ken Robinson challe...</td>\n",
              "      <td>65051954</td>\n",
              "      <td>2006-02-25</td>\n",
              "      <td>2006-06-27</td>\n",
              "      <td>TED2006</td>\n",
              "      <td>en</td>\n",
              "      <td>['af', 'ar', 'az', 'be', 'bg', 'bn', 'ca', 'cs...</td>\n",
              "      <td>4931.0</td>\n",
              "      <td>1164</td>\n",
              "      <td>['children', 'creativity', 'culture', 'dance',...</td>\n",
              "      <td>{865: 'Bring on the learning revolution!', 173...</td>\n",
              "      <td>https://www.ted.com/talks/sir_ken_robinson_do_...</td>\n",
              "      <td>Sir Ken Robinson makes an entertaining and pro...</td>\n",
              "      <td>Good morning. How are you? (Audience) Good. It...</td>\n",
              "    </tr>\n",
              "  </tbody>\n",
              "</table>\n",
              "</div>"
            ],
            "text/plain": [
              "   talk_id  ...                                         transcript\n",
              "0        1  ...  Thank you so much, Chris. And it's truly a gre...\n",
              "1       92  ...  About 10 years ago, I took on the task to teac...\n",
              "2        7  ...  (Music: \"The Sound of Silence,\" Simon & Garfun...\n",
              "3       53  ...  If you're here today — and I'm very happy that...\n",
              "4       66  ...  Good morning. How are you? (Audience) Good. It...\n",
              "\n",
              "[5 rows x 19 columns]"
            ]
          },
          "metadata": {},
          "execution_count": 4
        }
      ]
    },
    {
      "cell_type": "code",
      "metadata": {
        "colab": {
          "base_uri": "https://localhost:8080/",
          "height": 366
        },
        "id": "L9bv_gbd80c8",
        "outputId": "7c67f47e-f3ae-4150-bb72-bd74db32c87f"
      },
      "source": [
        "sns.distplot(r_data['views'], bins = 1000)\n",
        "plt.title('Denisty plot for views')"
      ],
      "execution_count": null,
      "outputs": [
        {
          "output_type": "stream",
          "name": "stderr",
          "text": [
            "/usr/local/lib/python3.7/dist-packages/seaborn/distributions.py:2557: FutureWarning: `distplot` is a deprecated function and will be removed in a future version. Please adapt your code to use either `displot` (a figure-level function with similar flexibility) or `histplot` (an axes-level function for histograms).\n",
            "  warnings.warn(msg, FutureWarning)\n"
          ]
        },
        {
          "output_type": "execute_result",
          "data": {
            "text/plain": [
              "Text(0.5, 1.0, 'Denisty plot for views')"
            ]
          },
          "metadata": {},
          "execution_count": 8
        },
        {
          "output_type": "display_data",
          "data": {
            "image/png": "[encoded data removed]",
            "text/plain": [
              "<Figure size 432x288 with 1 Axes>"
            ]
          },
          "metadata": {
            "needs_background": "light"
          }
        }
      ]
    },
    {
      "cell_type": "code",
      "metadata": {
        "colab": {
          "base_uri": "https://localhost:8080/",
          "height": 366
        },
        "id": "sd0ktgOj-V6_",
        "outputId": "def9a7a5-d7a5-436b-e9f7-8591c54ee9be"
      },
      "source": [
        "sns.distplot(r_data['comments'], bins = 1000)\n",
        "plt.title('Denisty plot for comments')"
      ],
      "execution_count": null,
      "outputs": [
        {
          "output_type": "stream",
          "name": "stderr",
          "text": [
            "/usr/local/lib/python3.7/dist-packages/seaborn/distributions.py:2557: FutureWarning: `distplot` is a deprecated function and will be removed in a future version. Please adapt your code to use either `displot` (a figure-level function with similar flexibility) or `histplot` (an axes-level function for histograms).\n",
            "  warnings.warn(msg, FutureWarning)\n"
          ]
        },
        {
          "output_type": "execute_result",
          "data": {
            "text/plain": [
              "Text(0.5, 1.0, 'Denisty plot for comments')"
            ]
          },
          "metadata": {},
          "execution_count": 9
        },
        {
          "output_type": "display_data",
          "data": {
            "image/png": "[encoded data removed]",
            "text/plain": [
              "<Figure size 432x288 with 1 Axes>"
            ]
          },
          "metadata": {
            "needs_background": "light"
          }
        }
      ]
    },
    {
      "cell_type": "code",
      "metadata": {
        "colab": {
          "base_uri": "https://localhost:8080/",
          "height": 366
        },
        "id": "wsid1aC9_mXD",
        "outputId": "a51dce07-f618-4cbc-d3b5-a95e2a2e1db9"
      },
      "source": [
        "sns.distplot(r_data['duration'], bins = 1000)\n",
        "plt.title('Denisty plot for duration')"
      ],
      "execution_count": null,
      "outputs": [
        {
          "output_type": "stream",
          "name": "stderr",
          "text": [
            "/usr/local/lib/python3.7/dist-packages/seaborn/distributions.py:2557: FutureWarning: `distplot` is a deprecated function and will be removed in a future version. Please adapt your code to use either `displot` (a figure-level function with similar flexibility) or `histplot` (an axes-level function for histograms).\n",
            "  warnings.warn(msg, FutureWarning)\n"
          ]
        },
        {
          "output_type": "execute_result",
          "data": {
            "text/plain": [
              "Text(0.5, 1.0, 'Denisty plot for duration')"
            ]
          },
          "metadata": {},
          "execution_count": 10
        },
        {
          "output_type": "display_data",
          "data": {
            "image/png": "[encoded data removed]",
            "text/plain": [
              "<Figure size 432x288 with 1 Axes>"
            ]
          },
          "metadata": {
            "needs_background": "light"
          }
        }
      ]
    },
    {
      "cell_type": "markdown",
      "metadata": {
        "id": "sJrU8XdNcCp0"
      },
      "source": [
        "#Checking for duplicate Rows\n"
      ]
    },
    {
      "cell_type": "code",
      "metadata": {
        "colab": {
          "base_uri": "https://localhost:8080/"
        },
        "id": "ZfN07FQzXrw0",
        "outputId": "a4c40ad0-738a-4970-f932-51aee6ca054f"
      },
      "source": [
        "r_data.duplicated().sum()"
      ],
      "execution_count": null,
      "outputs": [
        {
          "output_type": "execute_result",
          "data": {
            "text/plain": [
              "0"
            ]
          },
          "metadata": {},
          "execution_count": 5
        }
      ]
    },
    {
      "cell_type": "markdown",
      "metadata": {
        "id": "xtE7TOw89pbh"
      },
      "source": [
        "#KNOWING DATA "
      ]
    },
    {
      "cell_type": "code",
      "metadata": {
        "colab": {
          "base_uri": "https://localhost:8080/"
        },
        "id": "BQKSZeZXMem2",
        "outputId": "cf6f0525-1524-4434-9335-a3107fec4994"
      },
      "source": [
        "r_data.shape"
      ],
      "execution_count": null,
      "outputs": [
        {
          "output_type": "execute_result",
          "data": {
            "text/plain": [
              "(4005, 19)"
            ]
          },
          "metadata": {},
          "execution_count": 6
        }
      ]
    },
    {
      "cell_type": "code",
      "metadata": {
        "colab": {
          "base_uri": "https://localhost:8080/"
        },
        "id": "pKwOLUuKModp",
        "outputId": "760894fb-763e-4daa-bb21-09893c69c3ee"
      },
      "source": [
        "r_data.info()"
      ],
      "execution_count": null,
      "outputs": [
        {
          "output_type": "stream",
          "name": "stdout",
          "text": [
            "<class 'pandas.core.frame.DataFrame'>\n",
            "RangeIndex: 4005 entries, 0 to 4004\n",
            "Data columns (total 19 columns):\n",
            " #   Column          Non-Null Count  Dtype  \n",
            "---  ------          --------------  -----  \n",
            " 0   talk_id         4005 non-null   int64  \n",
            " 1   title           4005 non-null   object \n",
            " 2   speaker_1       4005 non-null   object \n",
            " 3   all_speakers    4001 non-null   object \n",
            " 4   occupations     3483 non-null   object \n",
            " 5   about_speakers  3502 non-null   object \n",
            " 6   views           4005 non-null   int64  \n",
            " 7   recorded_date   4004 non-null   object \n",
            " 8   published_date  4005 non-null   object \n",
            " 9   event           4005 non-null   object \n",
            " 10  native_lang     4005 non-null   object \n",
            " 11  available_lang  4005 non-null   object \n",
            " 12  comments        3350 non-null   float64\n",
            " 13  duration        4005 non-null   int64  \n",
            " 14  topics          4005 non-null   object \n",
            " 15  related_talks   4005 non-null   object \n",
            " 16  url             4005 non-null   object \n",
            " 17  description     4005 non-null   object \n",
            " 18  transcript      4005 non-null   object \n",
            "dtypes: float64(1), int64(3), object(15)\n",
            "memory usage: 594.6+ KB\n"
          ]
        }
      ]
    },
    {
      "cell_type": "code",
      "metadata": {
        "colab": {
          "base_uri": "https://localhost:8080/"
        },
        "id": "cnkHiCuBVLLm",
        "outputId": "cc352673-ba7c-4152-b4ac-0f43ea229a9c"
      },
      "source": [
        "r_data.columns"
      ],
      "execution_count": null,
      "outputs": [
        {
          "output_type": "execute_result",
          "data": {
            "text/plain": [
              "Index(['talk_id', 'title', 'speaker_1', 'all_speakers', 'occupations',\n",
              "       'about_speakers', 'views', 'recorded_date', 'published_date', 'event',\n",
              "       'native_lang', 'available_lang', 'comments', 'duration', 'topics',\n",
              "       'related_talks', 'url', 'description', 'transcript'],\n",
              "      dtype='object')"
            ]
          },
          "metadata": {},
          "execution_count": 8
        }
      ]
    },
    {
      "cell_type": "markdown",
      "metadata": {
        "id": "FMPK7ZU49zqw"
      },
      "source": [
        "#MISSING DATA"
      ]
    },
    {
      "cell_type": "code",
      "metadata": {
        "colab": {
          "base_uri": "https://localhost:8080/"
        },
        "id": "0NLshahlXvns",
        "outputId": "8f2225d1-88b6-4337-94a6-8a03d480b122"
      },
      "source": [
        "r_data.isnull().sum()"
      ],
      "execution_count": null,
      "outputs": [
        {
          "output_type": "execute_result",
          "data": {
            "text/plain": [
              "talk_id             0\n",
              "title               0\n",
              "speaker_1           0\n",
              "all_speakers        4\n",
              "occupations       522\n",
              "about_speakers    503\n",
              "views               0\n",
              "recorded_date       1\n",
              "published_date      0\n",
              "event               0\n",
              "native_lang         0\n",
              "available_lang      0\n",
              "comments          655\n",
              "duration            0\n",
              "topics              0\n",
              "related_talks       0\n",
              "url                 0\n",
              "description         0\n",
              "transcript          0\n",
              "dtype: int64"
            ]
          },
          "metadata": {},
          "execution_count": 9
        }
      ]
    },
    {
      "cell_type": "code",
      "metadata": {
        "colab": {
          "base_uri": "https://localhost:8080/",
          "height": 746
        },
        "id": "9SbpxlG3-TkL",
        "outputId": "f66f8b97-9384-41fa-8272-bd736b90f7f1"
      },
      "source": [
        "mno.bar(r_data.iloc[:, :],\n",
        "        color = 'blue',\n",
        "        sort = 'ascending')\n",
        "plt.title('Checking Missing Values Heap Map ', fontsize = 15)\n",
        "plt.show()"
      ],
      "execution_count": null,
      "outputs": [
        {
          "output_type": "display_data",
          "data": {
            "image/png": "[encoded data removed]",
            "text/plain": [
              "<Figure size 1800x720 with 3 Axes>"
            ]
          },
          "metadata": {
            "needs_background": "light"
          }
        }
      ]
    },
    {
      "cell_type": "markdown",
      "metadata": {
        "id": "7qbCzxFaoK1Z"
      },
      "source": [
        "#COPIED DATA / SET INDEX"
      ]
    },
    {
      "cell_type": "code",
      "metadata": {
        "id": "I12-c31SM3Is"
      },
      "source": [
        "set_data = r_data.copy()"
      ],
      "execution_count": null,
      "outputs": []
    },
    {
      "cell_type": "code",
      "metadata": {
        "id": "g7zCxi-KUfhe"
      },
      "source": [
        "set_data.set_index('talk_id', inplace = True)"
      ],
      "execution_count": null,
      "outputs": []
    },
    {
      "cell_type": "code",
      "metadata": {
        "colab": {
          "base_uri": "https://localhost:8080/",
          "height": 398
        },
        "id": "YqULtHLPXhA4",
        "outputId": "32236b30-4f06-4e4f-e375-24b2f38854ca"
      },
      "source": [
        "set_data.head(3)"
      ],
      "execution_count": null,
      "outputs": [
        {
          "output_type": "execute_result",
          "data": {
            "text/html": [
              "<div>\n",
              "<style scoped>\n",
              "    .dataframe tbody tr th:only-of-type {\n",
              "        vertical-align: middle;\n",
              "    }\n",
              "\n",
              "    .dataframe tbody tr th {\n",
              "        vertical-align: top;\n",
              "    }\n",
              "\n",
              "    .dataframe thead th {\n",
              "        text-align: right;\n",
              "    }\n",
              "</style>\n",
              "<table border=\"1\" class=\"dataframe\">\n",
              "  <thead>\n",
              "    <tr style=\"text-align: right;\">\n",
              "      <th></th>\n",
              "      <th>title</th>\n",
              "      <th>speaker_1</th>\n",
              "      <th>all_speakers</th>\n",
              "      <th>occupations</th>\n",
              "      <th>about_speakers</th>\n",
              "      <th>views</th>\n",
              "      <th>recorded_date</th>\n",
              "      <th>published_date</th>\n",
              "      <th>event</th>\n",
              "      <th>native_lang</th>\n",
              "      <th>available_lang</th>\n",
              "      <th>comments</th>\n",
              "      <th>duration</th>\n",
              "      <th>topics</th>\n",
              "      <th>related_talks</th>\n",
              "      <th>url</th>\n",
              "      <th>description</th>\n",
              "      <th>transcript</th>\n",
              "    </tr>\n",
              "    <tr>\n",
              "      <th>talk_id</th>\n",
              "      <th></th>\n",
              "      <th></th>\n",
              "      <th></th>\n",
              "      <th></th>\n",
              "      <th></th>\n",
              "      <th></th>\n",
              "      <th></th>\n",
              "      <th></th>\n",
              "      <th></th>\n",
              "      <th></th>\n",
              "      <th></th>\n",
              "      <th></th>\n",
              "      <th></th>\n",
              "      <th></th>\n",
              "      <th></th>\n",
              "      <th></th>\n",
              "      <th></th>\n",
              "      <th></th>\n",
              "    </tr>\n",
              "  </thead>\n",
              "  <tbody>\n",
              "    <tr>\n",
              "      <th>1</th>\n",
              "      <td>Averting the climate crisis</td>\n",
              "      <td>Al Gore</td>\n",
              "      <td>{0: 'Al Gore'}</td>\n",
              "      <td>{0: ['climate advocate']}</td>\n",
              "      <td>{0: 'Nobel Laureate Al Gore focused the world’...</td>\n",
              "      <td>3523392</td>\n",
              "      <td>2006-02-25</td>\n",
              "      <td>2006-06-27</td>\n",
              "      <td>TED2006</td>\n",
              "      <td>en</td>\n",
              "      <td>['ar', 'bg', 'cs', 'de', 'el', 'en', 'es', 'fa...</td>\n",
              "      <td>272.0</td>\n",
              "      <td>977</td>\n",
              "      <td>['alternative energy', 'cars', 'climate change...</td>\n",
              "      <td>{243: 'New thinking on the climate crisis', 54...</td>\n",
              "      <td>https://www.ted.com/talks/al_gore_averting_the...</td>\n",
              "      <td>With the same humor and humanity he exuded in ...</td>\n",
              "      <td>Thank you so much, Chris. And it's truly a gre...</td>\n",
              "    </tr>\n",
              "    <tr>\n",
              "      <th>92</th>\n",
              "      <td>The best stats you've ever seen</td>\n",
              "      <td>Hans Rosling</td>\n",
              "      <td>{0: 'Hans Rosling'}</td>\n",
              "      <td>{0: ['global health expert; data visionary']}</td>\n",
              "      <td>{0: 'In Hans Rosling’s hands, data sings. Glob...</td>\n",
              "      <td>14501685</td>\n",
              "      <td>2006-02-22</td>\n",
              "      <td>2006-06-27</td>\n",
              "      <td>TED2006</td>\n",
              "      <td>en</td>\n",
              "      <td>['ar', 'az', 'bg', 'bn', 'bs', 'cs', 'da', 'de...</td>\n",
              "      <td>628.0</td>\n",
              "      <td>1190</td>\n",
              "      <td>['Africa', 'Asia', 'Google', 'demo', 'economic...</td>\n",
              "      <td>{2056: \"Own your body's data\", 2296: 'A visual...</td>\n",
              "      <td>https://www.ted.com/talks/hans_rosling_the_bes...</td>\n",
              "      <td>You've never seen data presented like this. Wi...</td>\n",
              "      <td>About 10 years ago, I took on the task to teac...</td>\n",
              "    </tr>\n",
              "    <tr>\n",
              "      <th>7</th>\n",
              "      <td>Simplicity sells</td>\n",
              "      <td>David Pogue</td>\n",
              "      <td>{0: 'David Pogue'}</td>\n",
              "      <td>{0: ['technology columnist']}</td>\n",
              "      <td>{0: 'David Pogue is the personal technology co...</td>\n",
              "      <td>1920832</td>\n",
              "      <td>2006-02-24</td>\n",
              "      <td>2006-06-27</td>\n",
              "      <td>TED2006</td>\n",
              "      <td>en</td>\n",
              "      <td>['ar', 'bg', 'de', 'el', 'en', 'es', 'fa', 'fr...</td>\n",
              "      <td>124.0</td>\n",
              "      <td>1286</td>\n",
              "      <td>['computers', 'entertainment', 'interface desi...</td>\n",
              "      <td>{1725: '10 top time-saving tech tips', 2274: '...</td>\n",
              "      <td>https://www.ted.com/talks/david_pogue_simplici...</td>\n",
              "      <td>New York Times columnist David Pogue takes aim...</td>\n",
              "      <td>(Music: \"The Sound of Silence,\" Simon &amp; Garfun...</td>\n",
              "    </tr>\n",
              "  </tbody>\n",
              "</table>\n",
              "</div>"
            ],
            "text/plain": [
              "                                   title  ...                                         transcript\n",
              "talk_id                                   ...                                                   \n",
              "1            Averting the climate crisis  ...  Thank you so much, Chris. And it's truly a gre...\n",
              "92       The best stats you've ever seen  ...  About 10 years ago, I took on the task to teac...\n",
              "7                       Simplicity sells  ...  (Music: \"The Sound of Silence,\" Simon & Garfun...\n",
              "\n",
              "[3 rows x 18 columns]"
            ]
          },
          "metadata": {},
          "execution_count": 13
        }
      ]
    },
    {
      "cell_type": "markdown",
      "metadata": {
        "id": "P5LWfvYrALwQ"
      },
      "source": [
        "#Title_Analysis"
      ]
    },
    {
      "cell_type": "code",
      "metadata": {
        "colab": {
          "base_uri": "https://localhost:8080/"
        },
        "id": "AdmH-ItHAP8I",
        "outputId": "e2647fc0-6039-4892-ee5d-636379c4dbf1"
      },
      "source": [
        "set_data['title'].nunique()"
      ],
      "execution_count": null,
      "outputs": [
        {
          "output_type": "execute_result",
          "data": {
            "text/plain": [
              "4005"
            ]
          },
          "metadata": {},
          "execution_count": 14
        }
      ]
    },
    {
      "cell_type": "markdown",
      "metadata": {
        "id": "9SDrJAXryQKy"
      },
      "source": [
        "#Speaker_1 Analaysis"
      ]
    },
    {
      "cell_type": "code",
      "metadata": {
        "colab": {
          "base_uri": "https://localhost:8080/",
          "height": 163
        },
        "id": "_K4vC7kIXo-n",
        "outputId": "942d9f3b-5a0d-4360-d233-c81f220cd530"
      },
      "source": [
        "set_data['speaker_1'].nunique()"
      ],
      "execution_count": null,
      "outputs": [
        {
          "output_type": "error",
          "ename": "NameError",
          "evalue": "ignored",
          "traceback": [
            "\u001b[0;31m---------------------------------------------------------------------------\u001b[0m",
            "\u001b[0;31mNameError\u001b[0m                                 Traceback (most recent call last)",
            "\u001b[0;32m<ipython-input-11-7f657aaebc8e>\u001b[0m in \u001b[0;36m<module>\u001b[0;34m()\u001b[0m\n\u001b[0;32m----> 1\u001b[0;31m \u001b[0mset_data\u001b[0m\u001b[0;34m[\u001b[0m\u001b[0;34m'speaker_1'\u001b[0m\u001b[0;34m]\u001b[0m\u001b[0;34m.\u001b[0m\u001b[0mnunique\u001b[0m\u001b[0;34m(\u001b[0m\u001b[0;34m)\u001b[0m\u001b[0;34m\u001b[0m\u001b[0;34m\u001b[0m\u001b[0m\n\u001b[0m",
            "\u001b[0;31mNameError\u001b[0m: name 'set_data' is not defined"
          ]
        }
      ]
    },
    {
      "cell_type": "code",
      "metadata": {
        "id": "ymUHXbQbj0ik",
        "colab": {
          "base_uri": "https://localhost:8080/",
          "height": 214
        },
        "outputId": "005e2077-aee8-4971-ea48-3bce699a9507"
      },
      "source": [
        "speaker_count = set_data['speaker_1'].value_counts().to_frame()\n",
        "df_speaker_count = pd.DataFrame(speaker_count)\n",
        "df_speaker_count = df_speaker_count.reset_index()\n",
        "df_speaker_count.columns = ['Speaker_name', 'talks_delivered']"
      ],
      "execution_count": null,
      "outputs": [
        {
          "output_type": "error",
          "ename": "NameError",
          "evalue": "ignored",
          "traceback": [
            "\u001b[0;31m---------------------------------------------------------------------------\u001b[0m",
            "\u001b[0;31mNameError\u001b[0m                                 Traceback (most recent call last)",
            "\u001b[0;32m<ipython-input-12-e599f750cdfc>\u001b[0m in \u001b[0;36m<module>\u001b[0;34m()\u001b[0m\n\u001b[0;32m----> 1\u001b[0;31m \u001b[0mspeaker_count\u001b[0m \u001b[0;34m=\u001b[0m \u001b[0mset_data\u001b[0m\u001b[0;34m[\u001b[0m\u001b[0;34m'speaker_1'\u001b[0m\u001b[0;34m]\u001b[0m\u001b[0;34m.\u001b[0m\u001b[0mvalue_counts\u001b[0m\u001b[0;34m(\u001b[0m\u001b[0;34m)\u001b[0m\u001b[0;34m.\u001b[0m\u001b[0mto_frame\u001b[0m\u001b[0;34m(\u001b[0m\u001b[0;34m)\u001b[0m\u001b[0;34m\u001b[0m\u001b[0;34m\u001b[0m\u001b[0m\n\u001b[0m\u001b[1;32m      2\u001b[0m \u001b[0mdf_speaker_count\u001b[0m \u001b[0;34m=\u001b[0m \u001b[0mpd\u001b[0m\u001b[0;34m.\u001b[0m\u001b[0mDataFrame\u001b[0m\u001b[0;34m(\u001b[0m\u001b[0mspeaker_count\u001b[0m\u001b[0;34m)\u001b[0m\u001b[0;34m\u001b[0m\u001b[0;34m\u001b[0m\u001b[0m\n\u001b[1;32m      3\u001b[0m \u001b[0mdf_speaker_count\u001b[0m \u001b[0;34m=\u001b[0m \u001b[0mdf_speaker_count\u001b[0m\u001b[0;34m.\u001b[0m\u001b[0mreset_index\u001b[0m\u001b[0;34m(\u001b[0m\u001b[0;34m)\u001b[0m\u001b[0;34m\u001b[0m\u001b[0;34m\u001b[0m\u001b[0m\n\u001b[1;32m      4\u001b[0m \u001b[0mdf_speaker_count\u001b[0m\u001b[0;34m.\u001b[0m\u001b[0mcolumns\u001b[0m \u001b[0;34m=\u001b[0m \u001b[0;34m[\u001b[0m\u001b[0;34m'Speaker_name'\u001b[0m\u001b[0;34m,\u001b[0m \u001b[0;34m'talks_delivered'\u001b[0m\u001b[0;34m]\u001b[0m\u001b[0;34m\u001b[0m\u001b[0;34m\u001b[0m\u001b[0m\n",
            "\u001b[0;31mNameError\u001b[0m: name 'set_data' is not defined"
          ]
        }
      ]
    },
    {
      "cell_type": "code",
      "metadata": {
        "id": "f3uNdCEWvSIn"
      },
      "source": [
        "most_talks = df_speaker_count.nlargest(20, 'talks_delivered')"
      ],
      "execution_count": null,
      "outputs": []
    },
    {
      "cell_type": "code",
      "metadata": {
        "id": "MoJk92ciw7P-"
      },
      "source": [
        "plt.figure(figsize=(30,10))\n",
        "sns.barplot(x = 'Speaker_name', y = 'talks_delivered', data = most_talks)"
      ],
      "execution_count": null,
      "outputs": []
    },
    {
      "cell_type": "markdown",
      "metadata": {
        "id": "4Fcgz75_Bm8o"
      },
      "source": [
        "CONCLUSION\n",
        "*   The max number of talk is delivered by Alex Gendler followed by the rest.\n",
        "\n"
      ]
    },
    {
      "cell_type": "markdown",
      "metadata": {
        "id": "S7pzHKQ-IQYq"
      },
      "source": [
        "#MAX VIEWS WITH SPEAKER"
      ]
    },
    {
      "cell_type": "code",
      "metadata": {
        "id": "vlgg5mKMDEYs"
      },
      "source": [
        "sp_view_df = set_data.nlargest(20, 'views')"
      ],
      "execution_count": null,
      "outputs": []
    },
    {
      "cell_type": "code",
      "metadata": {
        "colab": {
          "base_uri": "https://localhost:8080/",
          "height": 701
        },
        "id": "FuT2h22WEuPl",
        "outputId": "77df1317-33fa-4c68-f977-04152f34f3dd"
      },
      "source": [
        "sp_view_df[['speaker_1', 'views']]"
      ],
      "execution_count": null,
      "outputs": [
        {
          "output_type": "execute_result",
          "data": {
            "text/html": [
              "<div>\n",
              "<style scoped>\n",
              "    .dataframe tbody tr th:only-of-type {\n",
              "        vertical-align: middle;\n",
              "    }\n",
              "\n",
              "    .dataframe tbody tr th {\n",
              "        vertical-align: top;\n",
              "    }\n",
              "\n",
              "    .dataframe thead th {\n",
              "        text-align: right;\n",
              "    }\n",
              "</style>\n",
              "<table border=\"1\" class=\"dataframe\">\n",
              "  <thead>\n",
              "    <tr style=\"text-align: right;\">\n",
              "      <th></th>\n",
              "      <th>speaker_1</th>\n",
              "      <th>views</th>\n",
              "    </tr>\n",
              "    <tr>\n",
              "      <th>talk_id</th>\n",
              "      <th></th>\n",
              "      <th></th>\n",
              "    </tr>\n",
              "  </thead>\n",
              "  <tbody>\n",
              "    <tr>\n",
              "      <th>66</th>\n",
              "      <td>Sir Ken Robinson</td>\n",
              "      <td>65051954</td>\n",
              "    </tr>\n",
              "    <tr>\n",
              "      <th>1569</th>\n",
              "      <td>Amy Cuddy</td>\n",
              "      <td>57074270</td>\n",
              "    </tr>\n",
              "    <tr>\n",
              "      <th>2405</th>\n",
              "      <td>James Veitch</td>\n",
              "      <td>56932551</td>\n",
              "    </tr>\n",
              "    <tr>\n",
              "      <th>848</th>\n",
              "      <td>Simon Sinek</td>\n",
              "      <td>49730580</td>\n",
              "    </tr>\n",
              "    <tr>\n",
              "      <th>1042</th>\n",
              "      <td>Brené Brown</td>\n",
              "      <td>47544833</td>\n",
              "    </tr>\n",
              "    <tr>\n",
              "      <th>2034</th>\n",
              "      <td>Julian Treasure</td>\n",
              "      <td>41504331</td>\n",
              "    </tr>\n",
              "    <tr>\n",
              "      <th>2458</th>\n",
              "      <td>Tim Urban</td>\n",
              "      <td>37976820</td>\n",
              "    </tr>\n",
              "    <tr>\n",
              "      <th>1647</th>\n",
              "      <td>Cameron Russell</td>\n",
              "      <td>33874546</td>\n",
              "    </tr>\n",
              "    <tr>\n",
              "      <th>13587</th>\n",
              "      <td>Sam Berns</td>\n",
              "      <td>33691484</td>\n",
              "    </tr>\n",
              "    <tr>\n",
              "      <th>2225</th>\n",
              "      <td>Bill Gates</td>\n",
              "      <td>33521780</td>\n",
              "    </tr>\n",
              "    <tr>\n",
              "      <th>2399</th>\n",
              "      <td>Robert Waldinger</td>\n",
              "      <td>32396714</td>\n",
              "    </tr>\n",
              "    <tr>\n",
              "      <th>549</th>\n",
              "      <td>Mary Roach</td>\n",
              "      <td>30977634</td>\n",
              "    </tr>\n",
              "    <tr>\n",
              "      <th>13589</th>\n",
              "      <td>Graham Shaw</td>\n",
              "      <td>29953076</td>\n",
              "    </tr>\n",
              "    <tr>\n",
              "      <th>1246</th>\n",
              "      <td>Pamela Meyer</td>\n",
              "      <td>28748868</td>\n",
              "    </tr>\n",
              "    <tr>\n",
              "      <th>1792</th>\n",
              "      <td>Tom Thum</td>\n",
              "      <td>28495294</td>\n",
              "    </tr>\n",
              "    <tr>\n",
              "      <th>1821</th>\n",
              "      <td>Apollo Robbins</td>\n",
              "      <td>27208963</td>\n",
              "    </tr>\n",
              "    <tr>\n",
              "      <th>229</th>\n",
              "      <td>Jill Bolte Taylor</td>\n",
              "      <td>26553231</td>\n",
              "    </tr>\n",
              "    <tr>\n",
              "      <th>1377</th>\n",
              "      <td>Susan Cain</td>\n",
              "      <td>26039073</td>\n",
              "    </tr>\n",
              "    <tr>\n",
              "      <th>618</th>\n",
              "      <td>Dan Pink</td>\n",
              "      <td>25654121</td>\n",
              "    </tr>\n",
              "    <tr>\n",
              "      <th>741</th>\n",
              "      <td>David Blaine</td>\n",
              "      <td>25395829</td>\n",
              "    </tr>\n",
              "  </tbody>\n",
              "</table>\n",
              "</div>"
            ],
            "text/plain": [
              "                 speaker_1     views\n",
              "talk_id                             \n",
              "66        Sir Ken Robinson  65051954\n",
              "1569             Amy Cuddy  57074270\n",
              "2405          James Veitch  56932551\n",
              "848            Simon Sinek  49730580\n",
              "1042           Brené Brown  47544833\n",
              "2034       Julian Treasure  41504331\n",
              "2458             Tim Urban  37976820\n",
              "1647       Cameron Russell  33874546\n",
              "13587            Sam Berns  33691484\n",
              "2225            Bill Gates  33521780\n",
              "2399      Robert Waldinger  32396714\n",
              "549             Mary Roach  30977634\n",
              "13589          Graham Shaw  29953076\n",
              "1246          Pamela Meyer  28748868\n",
              "1792              Tom Thum  28495294\n",
              "1821        Apollo Robbins  27208963\n",
              "229      Jill Bolte Taylor  26553231\n",
              "1377            Susan Cain  26039073\n",
              "618               Dan Pink  25654121\n",
              "741           David Blaine  25395829"
            ]
          },
          "metadata": {},
          "execution_count": 20
        }
      ]
    },
    {
      "cell_type": "code",
      "metadata": {
        "colab": {
          "base_uri": "https://localhost:8080/",
          "height": 618
        },
        "id": "yMjE97u2FmFo",
        "outputId": "b17c8c93-e8d7-46cc-8d01-74b8931f6530"
      },
      "source": [
        "plt.figure(figsize=(35,10))\n",
        "plt.title('Maximum number views vs Speaker')\n",
        "sns.barplot(x = 'speaker_1', y = 'views', data = sp_view_df )"
      ],
      "execution_count": null,
      "outputs": [
        {
          "output_type": "execute_result",
          "data": {
            "text/plain": [
              "<matplotlib.axes._subplots.AxesSubplot at 0x7f74fe761050>"
            ]
          },
          "metadata": {},
          "execution_count": 21
        },
        {
          "output_type": "display_data",
          "data": {
            "image/png": "[encoded data removed]",
            "text/plain": [
              "<Figure size 2520x720 with 1 Axes>"
            ]
          },
          "metadata": {
            "needs_background": "light"
          }
        }
      ]
    },
    {
      "cell_type": "markdown",
      "metadata": {
        "id": "dHsRueKQNljm"
      },
      "source": [
        "#Speaker with total Views"
      ]
    },
    {
      "cell_type": "code",
      "metadata": {
        "id": "vicK3XgYHz5d"
      },
      "source": [
        "sp_tv = set_data.groupby('speaker_1').agg({'views' : 'sum'})\n",
        "stv_res = sp_tv.nlargest(20, 'views')\n",
        "stv_res.reset_index(inplace = True)"
      ],
      "execution_count": null,
      "outputs": []
    },
    {
      "cell_type": "code",
      "metadata": {
        "colab": {
          "base_uri": "https://localhost:8080/",
          "height": 670
        },
        "id": "nRJC4IB5ONeq",
        "outputId": "1e738262-f7fd-4453-c9ef-71184c853bb2"
      },
      "source": [
        "stv_res"
      ],
      "execution_count": null,
      "outputs": [
        {
          "output_type": "execute_result",
          "data": {
            "text/html": [
              "<div>\n",
              "<style scoped>\n",
              "    .dataframe tbody tr th:only-of-type {\n",
              "        vertical-align: middle;\n",
              "    }\n",
              "\n",
              "    .dataframe tbody tr th {\n",
              "        vertical-align: top;\n",
              "    }\n",
              "\n",
              "    .dataframe thead th {\n",
              "        text-align: right;\n",
              "    }\n",
              "</style>\n",
              "<table border=\"1\" class=\"dataframe\">\n",
              "  <thead>\n",
              "    <tr style=\"text-align: right;\">\n",
              "      <th></th>\n",
              "      <th>speaker_1</th>\n",
              "      <th>views</th>\n",
              "    </tr>\n",
              "  </thead>\n",
              "  <tbody>\n",
              "    <tr>\n",
              "      <th>0</th>\n",
              "      <td>Alex Gendler</td>\n",
              "      <td>117619583</td>\n",
              "    </tr>\n",
              "    <tr>\n",
              "      <th>1</th>\n",
              "      <td>Sir Ken Robinson</td>\n",
              "      <td>84380518</td>\n",
              "    </tr>\n",
              "    <tr>\n",
              "      <th>2</th>\n",
              "      <td>James Veitch</td>\n",
              "      <td>78843641</td>\n",
              "    </tr>\n",
              "    <tr>\n",
              "      <th>3</th>\n",
              "      <td>Simon Sinek</td>\n",
              "      <td>62661183</td>\n",
              "    </tr>\n",
              "    <tr>\n",
              "      <th>4</th>\n",
              "      <td>Brené Brown</td>\n",
              "      <td>61285977</td>\n",
              "    </tr>\n",
              "    <tr>\n",
              "      <th>5</th>\n",
              "      <td>Bill Gates</td>\n",
              "      <td>57107176</td>\n",
              "    </tr>\n",
              "    <tr>\n",
              "      <th>6</th>\n",
              "      <td>Amy Cuddy</td>\n",
              "      <td>57074270</td>\n",
              "    </tr>\n",
              "    <tr>\n",
              "      <th>7</th>\n",
              "      <td>Julian Treasure</td>\n",
              "      <td>54799681</td>\n",
              "    </tr>\n",
              "    <tr>\n",
              "      <th>8</th>\n",
              "      <td>Hans Rosling</td>\n",
              "      <td>39871561</td>\n",
              "    </tr>\n",
              "    <tr>\n",
              "      <th>9</th>\n",
              "      <td>Tim Urban</td>\n",
              "      <td>37976820</td>\n",
              "    </tr>\n",
              "    <tr>\n",
              "      <th>10</th>\n",
              "      <td>Cameron Russell</td>\n",
              "      <td>33874546</td>\n",
              "    </tr>\n",
              "    <tr>\n",
              "      <th>11</th>\n",
              "      <td>Sam Berns</td>\n",
              "      <td>33691484</td>\n",
              "    </tr>\n",
              "    <tr>\n",
              "      <th>12</th>\n",
              "      <td>Chris Anderson</td>\n",
              "      <td>32598679</td>\n",
              "    </tr>\n",
              "    <tr>\n",
              "      <th>13</th>\n",
              "      <td>Robert Waldinger</td>\n",
              "      <td>32396714</td>\n",
              "    </tr>\n",
              "    <tr>\n",
              "      <th>14</th>\n",
              "      <td>Esther Perel</td>\n",
              "      <td>31460367</td>\n",
              "    </tr>\n",
              "    <tr>\n",
              "      <th>15</th>\n",
              "      <td>Mary Roach</td>\n",
              "      <td>30977634</td>\n",
              "    </tr>\n",
              "    <tr>\n",
              "      <th>16</th>\n",
              "      <td>Dan Gilbert</td>\n",
              "      <td>29996724</td>\n",
              "    </tr>\n",
              "    <tr>\n",
              "      <th>17</th>\n",
              "      <td>Graham Shaw</td>\n",
              "      <td>29953076</td>\n",
              "    </tr>\n",
              "    <tr>\n",
              "      <th>18</th>\n",
              "      <td>Tom Thum</td>\n",
              "      <td>28915860</td>\n",
              "    </tr>\n",
              "    <tr>\n",
              "      <th>19</th>\n",
              "      <td>Pamela Meyer</td>\n",
              "      <td>28748868</td>\n",
              "    </tr>\n",
              "  </tbody>\n",
              "</table>\n",
              "</div>"
            ],
            "text/plain": [
              "           speaker_1      views\n",
              "0       Alex Gendler  117619583\n",
              "1   Sir Ken Robinson   84380518\n",
              "2       James Veitch   78843641\n",
              "3        Simon Sinek   62661183\n",
              "4        Brené Brown   61285977\n",
              "5         Bill Gates   57107176\n",
              "6          Amy Cuddy   57074270\n",
              "7    Julian Treasure   54799681\n",
              "8       Hans Rosling   39871561\n",
              "9          Tim Urban   37976820\n",
              "10   Cameron Russell   33874546\n",
              "11         Sam Berns   33691484\n",
              "12    Chris Anderson   32598679\n",
              "13  Robert Waldinger   32396714\n",
              "14      Esther Perel   31460367\n",
              "15        Mary Roach   30977634\n",
              "16       Dan Gilbert   29996724\n",
              "17       Graham Shaw   29953076\n",
              "18          Tom Thum   28915860\n",
              "19      Pamela Meyer   28748868"
            ]
          },
          "metadata": {},
          "execution_count": 23
        }
      ]
    },
    {
      "cell_type": "code",
      "metadata": {
        "colab": {
          "base_uri": "https://localhost:8080/",
          "height": 715
        },
        "id": "YsiN5WLQOCWx",
        "outputId": "ba01c9fc-8e6f-42d0-c3ac-650dc406f7ca"
      },
      "source": [
        "plt.figure(figsize=(35, 12))\n",
        "sns.barplot(x ='speaker_1', y='views', data=stv_res )"
      ],
      "execution_count": null,
      "outputs": [
        {
          "output_type": "execute_result",
          "data": {
            "text/plain": [
              "<matplotlib.axes._subplots.AxesSubplot at 0x7f74fe68b650>"
            ]
          },
          "metadata": {},
          "execution_count": 24
        },
        {
          "output_type": "display_data",
          "data": {
            "image/png": "[encoded data removed]",
            "text/plain": [
              "<Figure size 2520x864 with 1 Axes>"
            ]
          },
          "metadata": {
            "needs_background": "light"
          }
        }
      ]
    },
    {
      "cell_type": "markdown",
      "metadata": {
        "id": "3cmMSp9XAFAq"
      },
      "source": [
        "#all_speakers analysis "
      ]
    },
    {
      "cell_type": "code",
      "metadata": {
        "colab": {
          "base_uri": "https://localhost:8080/",
          "height": 532
        },
        "id": "k7ZQjIy8bXiL",
        "outputId": "47257dbe-800a-4adc-ab6d-fc34b7313fe3"
      },
      "source": [
        "null_as = pd.isnull(set_data['all_speakers'])\n",
        "set_data[null_as]"
      ],
      "execution_count": null,
      "outputs": [
        {
          "output_type": "execute_result",
          "data": {
            "text/html": [
              "<div>\n",
              "<style scoped>\n",
              "    .dataframe tbody tr th:only-of-type {\n",
              "        vertical-align: middle;\n",
              "    }\n",
              "\n",
              "    .dataframe tbody tr th {\n",
              "        vertical-align: top;\n",
              "    }\n",
              "\n",
              "    .dataframe thead th {\n",
              "        text-align: right;\n",
              "    }\n",
              "</style>\n",
              "<table border=\"1\" class=\"dataframe\">\n",
              "  <thead>\n",
              "    <tr style=\"text-align: right;\">\n",
              "      <th></th>\n",
              "      <th>title</th>\n",
              "      <th>speaker_1</th>\n",
              "      <th>all_speakers</th>\n",
              "      <th>occupations</th>\n",
              "      <th>about_speakers</th>\n",
              "      <th>views</th>\n",
              "      <th>recorded_date</th>\n",
              "      <th>published_date</th>\n",
              "      <th>event</th>\n",
              "      <th>native_lang</th>\n",
              "      <th>available_lang</th>\n",
              "      <th>comments</th>\n",
              "      <th>duration</th>\n",
              "      <th>topics</th>\n",
              "      <th>related_talks</th>\n",
              "      <th>url</th>\n",
              "      <th>description</th>\n",
              "      <th>transcript</th>\n",
              "    </tr>\n",
              "    <tr>\n",
              "      <th>talk_id</th>\n",
              "      <th></th>\n",
              "      <th></th>\n",
              "      <th></th>\n",
              "      <th></th>\n",
              "      <th></th>\n",
              "      <th></th>\n",
              "      <th></th>\n",
              "      <th></th>\n",
              "      <th></th>\n",
              "      <th></th>\n",
              "      <th></th>\n",
              "      <th></th>\n",
              "      <th></th>\n",
              "      <th></th>\n",
              "      <th></th>\n",
              "      <th></th>\n",
              "      <th></th>\n",
              "      <th></th>\n",
              "    </tr>\n",
              "  </thead>\n",
              "  <tbody>\n",
              "    <tr>\n",
              "      <th>23418</th>\n",
              "      <td>How prefab homes can transform affordable housing</td>\n",
              "      <td>Antón García-Abril</td>\n",
              "      <td>NaN</td>\n",
              "      <td>NaN</td>\n",
              "      <td>NaN</td>\n",
              "      <td>14934</td>\n",
              "      <td>2016-11-19</td>\n",
              "      <td>2018-09-04</td>\n",
              "      <td>TEDxYouth@Beaconstreet</td>\n",
              "      <td>en</td>\n",
              "      <td>['en', 'es']</td>\n",
              "      <td>NaN</td>\n",
              "      <td>449</td>\n",
              "      <td>['design', 'architecture', 'industrial design'...</td>\n",
              "      <td>{1015: 'Creative houses from reclaimed stuff',...</td>\n",
              "      <td>https://www.ted.com/talks/anton_garcia_abril_h...</td>\n",
              "      <td>When architect Antón García-Abril moved to Bos...</td>\n",
              "      <td>Subtitle Provided by JUFE MOOC Studio M Subtit...</td>\n",
              "    </tr>\n",
              "    <tr>\n",
              "      <th>36384</th>\n",
              "      <td>Why we need to stop obsessing over World War II</td>\n",
              "      <td>Keith Lowe</td>\n",
              "      <td>NaN</td>\n",
              "      <td>NaN</td>\n",
              "      <td>NaN</td>\n",
              "      <td>103682</td>\n",
              "      <td>2014-11-15</td>\n",
              "      <td>2019-03-01</td>\n",
              "      <td>TEDxAthens</td>\n",
              "      <td>en</td>\n",
              "      <td>['en', 'pt', 'sr']</td>\n",
              "      <td>NaN</td>\n",
              "      <td>1109</td>\n",
              "      <td>['war', 'history', 'society', 'future', 'globa...</td>\n",
              "      <td>{1999: 'Why veterans miss war', 1651: 'What I ...</td>\n",
              "      <td>https://www.ted.com/talks/keith_lowe_why_we_ne...</td>\n",
              "      <td>Why are we so obsessed with World War II? Hist...</td>\n",
              "      <td>Hello everybody. Audience: Hello. Keith Lowe: ...</td>\n",
              "    </tr>\n",
              "    <tr>\n",
              "      <th>36844</th>\n",
              "      <td>Why talent carries you further than fame</td>\n",
              "      <td>Maisie Williams</td>\n",
              "      <td>NaN</td>\n",
              "      <td>NaN</td>\n",
              "      <td>NaN</td>\n",
              "      <td>3677746</td>\n",
              "      <td>2019-02-03</td>\n",
              "      <td>2019-03-11</td>\n",
              "      <td>TEDxManchester</td>\n",
              "      <td>en</td>\n",
              "      <td>['ar', 'de', 'el', 'en', 'es', 'fr', 'hu', 'pt...</td>\n",
              "      <td>NaN</td>\n",
              "      <td>982</td>\n",
              "      <td>['art', 'entertainment', 'entrepreneur', 'tech...</td>\n",
              "      <td>{39192: 'Why medieval politics was nothing lik...</td>\n",
              "      <td>https://www.ted.com/talks/maisie_williams_why_...</td>\n",
              "      <td>You'd never know from her transformation into ...</td>\n",
              "      <td>Hi. I'm Maisie Williams. And I'm kind of just ...</td>\n",
              "    </tr>\n",
              "    <tr>\n",
              "      <th>49223</th>\n",
              "      <td>Are we living in a simulation?</td>\n",
              "      <td>Zohreh Davoudi</td>\n",
              "      <td>NaN</td>\n",
              "      <td>NaN</td>\n",
              "      <td>NaN</td>\n",
              "      <td>485122</td>\n",
              "      <td>2019-10-08</td>\n",
              "      <td>2019-10-08</td>\n",
              "      <td>TED-Ed</td>\n",
              "      <td>en</td>\n",
              "      <td>['ar', 'el', 'en', 'es', 'fa', 'fr', 'he', 'id...</td>\n",
              "      <td>NaN</td>\n",
              "      <td>249</td>\n",
              "      <td>['TED-Ed', 'animation', 'education', 'technolo...</td>\n",
              "      <td>{26263: 'Does time exist?', 24106: 'How do you...</td>\n",
              "      <td>https://www.ted.com/talks/zohreh_davoudi_are_w...</td>\n",
              "      <td>All life on Earth— living and inanimate, micro...</td>\n",
              "      <td>We live in a vast universe, on a small wet pla...</td>\n",
              "    </tr>\n",
              "  </tbody>\n",
              "</table>\n",
              "</div>"
            ],
            "text/plain": [
              "                                                     title  ...                                         transcript\n",
              "talk_id                                                     ...                                                   \n",
              "23418    How prefab homes can transform affordable housing  ...  Subtitle Provided by JUFE MOOC Studio M Subtit...\n",
              "36384      Why we need to stop obsessing over World War II  ...  Hello everybody. Audience: Hello. Keith Lowe: ...\n",
              "36844             Why talent carries you further than fame  ...  Hi. I'm Maisie Williams. And I'm kind of just ...\n",
              "49223                       Are we living in a simulation?  ...  We live in a vast universe, on a small wet pla...\n",
              "\n",
              "[4 rows x 18 columns]"
            ]
          },
          "metadata": {},
          "execution_count": 25
        }
      ]
    },
    {
      "cell_type": "code",
      "metadata": {
        "id": "rzT_RPLcapAX"
      },
      "source": [
        "##Replace  nan all_speakers by speaker_1\n",
        "set_data['all_speakers'].fillna(str({0:[str(set_data['speaker_1'])]}),inplace=True,axis=0)"
      ],
      "execution_count": null,
      "outputs": []
    },
    {
      "cell_type": "code",
      "metadata": {
        "id": "0k7BDAePgJar"
      },
      "source": [
        "set_data['all_speakers']= set_data['all_speakers'].apply(lambda x: [val for val in ast.literal_eval(x).values()])"
      ],
      "execution_count": null,
      "outputs": []
    },
    {
      "cell_type": "markdown",
      "metadata": {
        "id": "W2a9rby3BHBj"
      },
      "source": [
        "*   We can easily drop the 'all_speakers' or 'speaker_1' "
      ]
    },
    {
      "cell_type": "code",
      "metadata": {
        "id": "VgZlg9q4BAy9"
      },
      "source": [
        "# set_data.drop(['all_speakers'], axis = 1, inplace = True)"
      ],
      "execution_count": null,
      "outputs": []
    },
    {
      "cell_type": "code",
      "metadata": {
        "colab": {
          "base_uri": "https://localhost:8080/",
          "height": 614
        },
        "id": "56ZUOIe6C4Bj",
        "outputId": "2223a022-6dc3-4887-987e-40a75d95d9df"
      },
      "source": [
        "set_data.head()"
      ],
      "execution_count": null,
      "outputs": [
        {
          "output_type": "execute_result",
          "data": {
            "text/html": [
              "<div>\n",
              "<style scoped>\n",
              "    .dataframe tbody tr th:only-of-type {\n",
              "        vertical-align: middle;\n",
              "    }\n",
              "\n",
              "    .dataframe tbody tr th {\n",
              "        vertical-align: top;\n",
              "    }\n",
              "\n",
              "    .dataframe thead th {\n",
              "        text-align: right;\n",
              "    }\n",
              "</style>\n",
              "<table border=\"1\" class=\"dataframe\">\n",
              "  <thead>\n",
              "    <tr style=\"text-align: right;\">\n",
              "      <th></th>\n",
              "      <th>title</th>\n",
              "      <th>speaker_1</th>\n",
              "      <th>all_speakers</th>\n",
              "      <th>occupations</th>\n",
              "      <th>about_speakers</th>\n",
              "      <th>views</th>\n",
              "      <th>recorded_date</th>\n",
              "      <th>published_date</th>\n",
              "      <th>event</th>\n",
              "      <th>native_lang</th>\n",
              "      <th>available_lang</th>\n",
              "      <th>comments</th>\n",
              "      <th>duration</th>\n",
              "      <th>topics</th>\n",
              "      <th>related_talks</th>\n",
              "      <th>url</th>\n",
              "      <th>description</th>\n",
              "      <th>transcript</th>\n",
              "    </tr>\n",
              "    <tr>\n",
              "      <th>talk_id</th>\n",
              "      <th></th>\n",
              "      <th></th>\n",
              "      <th></th>\n",
              "      <th></th>\n",
              "      <th></th>\n",
              "      <th></th>\n",
              "      <th></th>\n",
              "      <th></th>\n",
              "      <th></th>\n",
              "      <th></th>\n",
              "      <th></th>\n",
              "      <th></th>\n",
              "      <th></th>\n",
              "      <th></th>\n",
              "      <th></th>\n",
              "      <th></th>\n",
              "      <th></th>\n",
              "      <th></th>\n",
              "    </tr>\n",
              "  </thead>\n",
              "  <tbody>\n",
              "    <tr>\n",
              "      <th>1</th>\n",
              "      <td>Averting the climate crisis</td>\n",
              "      <td>Al Gore</td>\n",
              "      <td>[Al Gore]</td>\n",
              "      <td>{0: ['climate advocate']}</td>\n",
              "      <td>{0: 'Nobel Laureate Al Gore focused the world’...</td>\n",
              "      <td>3523392</td>\n",
              "      <td>2006-02-25</td>\n",
              "      <td>2006-06-27</td>\n",
              "      <td>TED2006</td>\n",
              "      <td>en</td>\n",
              "      <td>['ar', 'bg', 'cs', 'de', 'el', 'en', 'es', 'fa...</td>\n",
              "      <td>272.0</td>\n",
              "      <td>977</td>\n",
              "      <td>['alternative energy', 'cars', 'climate change...</td>\n",
              "      <td>{243: 'New thinking on the climate crisis', 54...</td>\n",
              "      <td>https://www.ted.com/talks/al_gore_averting_the...</td>\n",
              "      <td>With the same humor and humanity he exuded in ...</td>\n",
              "      <td>Thank you so much, Chris. And it's truly a gre...</td>\n",
              "    </tr>\n",
              "    <tr>\n",
              "      <th>92</th>\n",
              "      <td>The best stats you've ever seen</td>\n",
              "      <td>Hans Rosling</td>\n",
              "      <td>[Hans Rosling]</td>\n",
              "      <td>{0: ['global health expert; data visionary']}</td>\n",
              "      <td>{0: 'In Hans Rosling’s hands, data sings. Glob...</td>\n",
              "      <td>14501685</td>\n",
              "      <td>2006-02-22</td>\n",
              "      <td>2006-06-27</td>\n",
              "      <td>TED2006</td>\n",
              "      <td>en</td>\n",
              "      <td>['ar', 'az', 'bg', 'bn', 'bs', 'cs', 'da', 'de...</td>\n",
              "      <td>628.0</td>\n",
              "      <td>1190</td>\n",
              "      <td>['Africa', 'Asia', 'Google', 'demo', 'economic...</td>\n",
              "      <td>{2056: \"Own your body's data\", 2296: 'A visual...</td>\n",
              "      <td>https://www.ted.com/talks/hans_rosling_the_bes...</td>\n",
              "      <td>You've never seen data presented like this. Wi...</td>\n",
              "      <td>About 10 years ago, I took on the task to teac...</td>\n",
              "    </tr>\n",
              "    <tr>\n",
              "      <th>7</th>\n",
              "      <td>Simplicity sells</td>\n",
              "      <td>David Pogue</td>\n",
              "      <td>[David Pogue]</td>\n",
              "      <td>{0: ['technology columnist']}</td>\n",
              "      <td>{0: 'David Pogue is the personal technology co...</td>\n",
              "      <td>1920832</td>\n",
              "      <td>2006-02-24</td>\n",
              "      <td>2006-06-27</td>\n",
              "      <td>TED2006</td>\n",
              "      <td>en</td>\n",
              "      <td>['ar', 'bg', 'de', 'el', 'en', 'es', 'fa', 'fr...</td>\n",
              "      <td>124.0</td>\n",
              "      <td>1286</td>\n",
              "      <td>['computers', 'entertainment', 'interface desi...</td>\n",
              "      <td>{1725: '10 top time-saving tech tips', 2274: '...</td>\n",
              "      <td>https://www.ted.com/talks/david_pogue_simplici...</td>\n",
              "      <td>New York Times columnist David Pogue takes aim...</td>\n",
              "      <td>(Music: \"The Sound of Silence,\" Simon &amp; Garfun...</td>\n",
              "    </tr>\n",
              "    <tr>\n",
              "      <th>53</th>\n",
              "      <td>Greening the ghetto</td>\n",
              "      <td>Majora Carter</td>\n",
              "      <td>[Majora Carter]</td>\n",
              "      <td>{0: ['activist for environmental justice']}</td>\n",
              "      <td>{0: 'Majora Carter redefined the field of envi...</td>\n",
              "      <td>2664069</td>\n",
              "      <td>2006-02-26</td>\n",
              "      <td>2006-06-27</td>\n",
              "      <td>TED2006</td>\n",
              "      <td>en</td>\n",
              "      <td>['ar', 'bg', 'bn', 'ca', 'cs', 'de', 'en', 'es...</td>\n",
              "      <td>219.0</td>\n",
              "      <td>1116</td>\n",
              "      <td>['MacArthur grant', 'activism', 'business', 'c...</td>\n",
              "      <td>{1041: '3 stories of local eco-entrepreneurshi...</td>\n",
              "      <td>https://www.ted.com/talks/majora_carter_greeni...</td>\n",
              "      <td>In an emotionally charged talk, MacArthur-winn...</td>\n",
              "      <td>If you're here today — and I'm very happy that...</td>\n",
              "    </tr>\n",
              "    <tr>\n",
              "      <th>66</th>\n",
              "      <td>Do schools kill creativity?</td>\n",
              "      <td>Sir Ken Robinson</td>\n",
              "      <td>[Sir Ken Robinson]</td>\n",
              "      <td>{0: ['author', 'educator']}</td>\n",
              "      <td>{0: \"Creativity expert Sir Ken Robinson challe...</td>\n",
              "      <td>65051954</td>\n",
              "      <td>2006-02-25</td>\n",
              "      <td>2006-06-27</td>\n",
              "      <td>TED2006</td>\n",
              "      <td>en</td>\n",
              "      <td>['af', 'ar', 'az', 'be', 'bg', 'bn', 'ca', 'cs...</td>\n",
              "      <td>4931.0</td>\n",
              "      <td>1164</td>\n",
              "      <td>['children', 'creativity', 'culture', 'dance',...</td>\n",
              "      <td>{865: 'Bring on the learning revolution!', 173...</td>\n",
              "      <td>https://www.ted.com/talks/sir_ken_robinson_do_...</td>\n",
              "      <td>Sir Ken Robinson makes an entertaining and pro...</td>\n",
              "      <td>Good morning. How are you? (Audience) Good. It...</td>\n",
              "    </tr>\n",
              "  </tbody>\n",
              "</table>\n",
              "</div>"
            ],
            "text/plain": [
              "                                   title  ...                                         transcript\n",
              "talk_id                                   ...                                                   \n",
              "1            Averting the climate crisis  ...  Thank you so much, Chris. And it's truly a gre...\n",
              "92       The best stats you've ever seen  ...  About 10 years ago, I took on the task to teac...\n",
              "7                       Simplicity sells  ...  (Music: \"The Sound of Silence,\" Simon & Garfun...\n",
              "53                   Greening the ghetto  ...  If you're here today — and I'm very happy that...\n",
              "66           Do schools kill creativity?  ...  Good morning. How are you? (Audience) Good. It...\n",
              "\n",
              "[5 rows x 18 columns]"
            ]
          },
          "metadata": {},
          "execution_count": 29
        }
      ]
    },
    {
      "cell_type": "markdown",
      "metadata": {
        "id": "pLGmmw_1h7SP"
      },
      "source": [
        "#all_speakers_analysis_Part_2"
      ]
    },
    {
      "cell_type": "code",
      "metadata": {
        "id": "yidEmQVch-j4"
      },
      "source": [
        "df = set_data.copy()"
      ],
      "execution_count": null,
      "outputs": []
    },
    {
      "cell_type": "code",
      "metadata": {
        "colab": {
          "base_uri": "https://localhost:8080/",
          "height": 398
        },
        "id": "5oq4xW5piIGE",
        "outputId": "d0c9ecdb-d6be-4fc4-96e1-c54239e584d8"
      },
      "source": [
        "df.head(3)"
      ],
      "execution_count": null,
      "outputs": [
        {
          "output_type": "execute_result",
          "data": {
            "text/html": [
              "<div>\n",
              "<style scoped>\n",
              "    .dataframe tbody tr th:only-of-type {\n",
              "        vertical-align: middle;\n",
              "    }\n",
              "\n",
              "    .dataframe tbody tr th {\n",
              "        vertical-align: top;\n",
              "    }\n",
              "\n",
              "    .dataframe thead th {\n",
              "        text-align: right;\n",
              "    }\n",
              "</style>\n",
              "<table border=\"1\" class=\"dataframe\">\n",
              "  <thead>\n",
              "    <tr style=\"text-align: right;\">\n",
              "      <th></th>\n",
              "      <th>title</th>\n",
              "      <th>speaker_1</th>\n",
              "      <th>all_speakers</th>\n",
              "      <th>occupations</th>\n",
              "      <th>about_speakers</th>\n",
              "      <th>views</th>\n",
              "      <th>recorded_date</th>\n",
              "      <th>published_date</th>\n",
              "      <th>event</th>\n",
              "      <th>native_lang</th>\n",
              "      <th>available_lang</th>\n",
              "      <th>comments</th>\n",
              "      <th>duration</th>\n",
              "      <th>topics</th>\n",
              "      <th>related_talks</th>\n",
              "      <th>url</th>\n",
              "      <th>description</th>\n",
              "      <th>transcript</th>\n",
              "    </tr>\n",
              "    <tr>\n",
              "      <th>talk_id</th>\n",
              "      <th></th>\n",
              "      <th></th>\n",
              "      <th></th>\n",
              "      <th></th>\n",
              "      <th></th>\n",
              "      <th></th>\n",
              "      <th></th>\n",
              "      <th></th>\n",
              "      <th></th>\n",
              "      <th></th>\n",
              "      <th></th>\n",
              "      <th></th>\n",
              "      <th></th>\n",
              "      <th></th>\n",
              "      <th></th>\n",
              "      <th></th>\n",
              "      <th></th>\n",
              "      <th></th>\n",
              "    </tr>\n",
              "  </thead>\n",
              "  <tbody>\n",
              "    <tr>\n",
              "      <th>1</th>\n",
              "      <td>Averting the climate crisis</td>\n",
              "      <td>Al Gore</td>\n",
              "      <td>[Al Gore]</td>\n",
              "      <td>{0: ['climate advocate']}</td>\n",
              "      <td>{0: 'Nobel Laureate Al Gore focused the world’...</td>\n",
              "      <td>3523392</td>\n",
              "      <td>2006-02-25</td>\n",
              "      <td>2006-06-27</td>\n",
              "      <td>TED2006</td>\n",
              "      <td>en</td>\n",
              "      <td>['ar', 'bg', 'cs', 'de', 'el', 'en', 'es', 'fa...</td>\n",
              "      <td>272.0</td>\n",
              "      <td>977</td>\n",
              "      <td>['alternative energy', 'cars', 'climate change...</td>\n",
              "      <td>{243: 'New thinking on the climate crisis', 54...</td>\n",
              "      <td>https://www.ted.com/talks/al_gore_averting_the...</td>\n",
              "      <td>With the same humor and humanity he exuded in ...</td>\n",
              "      <td>Thank you so much, Chris. And it's truly a gre...</td>\n",
              "    </tr>\n",
              "    <tr>\n",
              "      <th>92</th>\n",
              "      <td>The best stats you've ever seen</td>\n",
              "      <td>Hans Rosling</td>\n",
              "      <td>[Hans Rosling]</td>\n",
              "      <td>{0: ['global health expert; data visionary']}</td>\n",
              "      <td>{0: 'In Hans Rosling’s hands, data sings. Glob...</td>\n",
              "      <td>14501685</td>\n",
              "      <td>2006-02-22</td>\n",
              "      <td>2006-06-27</td>\n",
              "      <td>TED2006</td>\n",
              "      <td>en</td>\n",
              "      <td>['ar', 'az', 'bg', 'bn', 'bs', 'cs', 'da', 'de...</td>\n",
              "      <td>628.0</td>\n",
              "      <td>1190</td>\n",
              "      <td>['Africa', 'Asia', 'Google', 'demo', 'economic...</td>\n",
              "      <td>{2056: \"Own your body's data\", 2296: 'A visual...</td>\n",
              "      <td>https://www.ted.com/talks/hans_rosling_the_bes...</td>\n",
              "      <td>You've never seen data presented like this. Wi...</td>\n",
              "      <td>About 10 years ago, I took on the task to teac...</td>\n",
              "    </tr>\n",
              "    <tr>\n",
              "      <th>7</th>\n",
              "      <td>Simplicity sells</td>\n",
              "      <td>David Pogue</td>\n",
              "      <td>[David Pogue]</td>\n",
              "      <td>{0: ['technology columnist']}</td>\n",
              "      <td>{0: 'David Pogue is the personal technology co...</td>\n",
              "      <td>1920832</td>\n",
              "      <td>2006-02-24</td>\n",
              "      <td>2006-06-27</td>\n",
              "      <td>TED2006</td>\n",
              "      <td>en</td>\n",
              "      <td>['ar', 'bg', 'de', 'el', 'en', 'es', 'fa', 'fr...</td>\n",
              "      <td>124.0</td>\n",
              "      <td>1286</td>\n",
              "      <td>['computers', 'entertainment', 'interface desi...</td>\n",
              "      <td>{1725: '10 top time-saving tech tips', 2274: '...</td>\n",
              "      <td>https://www.ted.com/talks/david_pogue_simplici...</td>\n",
              "      <td>New York Times columnist David Pogue takes aim...</td>\n",
              "      <td>(Music: \"The Sound of Silence,\" Simon &amp; Garfun...</td>\n",
              "    </tr>\n",
              "  </tbody>\n",
              "</table>\n",
              "</div>"
            ],
            "text/plain": [
              "                                   title  ...                                         transcript\n",
              "talk_id                                   ...                                                   \n",
              "1            Averting the climate crisis  ...  Thank you so much, Chris. And it's truly a gre...\n",
              "92       The best stats you've ever seen  ...  About 10 years ago, I took on the task to teac...\n",
              "7                       Simplicity sells  ...  (Music: \"The Sound of Silence,\" Simon & Garfun...\n",
              "\n",
              "[3 rows x 18 columns]"
            ]
          },
          "metadata": {},
          "execution_count": 31
        }
      ]
    },
    {
      "cell_type": "code",
      "metadata": {
        "colab": {
          "base_uri": "https://localhost:8080/"
        },
        "id": "bhC46SLEiKE1",
        "outputId": "e5f70dc4-6ad0-4230-8496-078919f39976"
      },
      "source": [
        "lenL = []\n",
        "for x in df['all_speakers']:\n",
        "  lenL.append(len(x))\n",
        "print(lenL)"
      ],
      "execution_count": null,
      "outputs": [
        {
          "output_type": "stream",
          "name": "stdout",
          "text": [
            "[1, 1, 1, 1, 1, 1, 1, 1, 1, 1, 1, 1, 1, 1, 1, 1, 1, 1, 1, 1, 1, 1, 1, 1, 1, 1, 1, 1, 1, 1, 1, 1, 1, 1, 1, 1, 1, 1, 1, 1, 1, 1, 1, 1, 1, 1, 1, 1, 1, 1, 1, 1, 1, 1, 1, 1, 1, 1, 1, 1, 1, 1, 1, 1, 1, 1, 1, 1, 1, 1, 1, 1, 1, 1, 1, 1, 1, 1, 1, 1, 1, 1, 1, 1, 1, 1, 1, 1, 1, 1, 1, 2, 2, 1, 1, 2, 1, 1, 2, 2, 1, 1, 1, 1, 1, 1, 1, 1, 1, 1, 1, 1, 1, 1, 1, 1, 1, 1, 1, 1, 1, 1, 1, 1, 1, 1, 1, 1, 1, 1, 1, 1, 1, 1, 1, 1, 1, 1, 1, 1, 1, 1, 1, 1, 1, 1, 1, 1, 1, 1, 1, 1, 1, 1, 1, 1, 1, 1, 1, 1, 1, 1, 1, 1, 1, 1, 1, 1, 1, 1, 1, 1, 1, 1, 1, 1, 1, 1, 1, 1, 1, 1, 1, 1, 1, 1, 1, 1, 1, 2, 1, 1, 1, 2, 1, 1, 1, 1, 1, 1, 1, 1, 1, 1, 1, 1, 1, 1, 1, 1, 1, 2, 1, 1, 1, 1, 1, 1, 1, 1, 1, 1, 1, 1, 1, 1, 1, 1, 1, 1, 1, 1, 1, 1, 1, 1, 1, 1, 1, 1, 1, 1, 1, 1, 1, 1, 1, 1, 1, 1, 1, 1, 1, 1, 1, 1, 1, 1, 1, 1, 1, 1, 1, 1, 1, 2, 1, 1, 1, 1, 1, 1, 1, 1, 1, 1, 1, 1, 1, 1, 1, 1, 1, 1, 1, 1, 1, 1, 1, 1, 1, 1, 1, 1, 1, 1, 1, 1, 1, 1, 1, 1, 1, 1, 1, 1, 1, 1, 1, 1, 1, 1, 1, 1, 2, 1, 1, 1, 1, 1, 1, 1, 1, 1, 1, 1, 1, 1, 1, 1, 1, 1, 1, 1, 1, 1, 1, 1, 1, 1, 1, 1, 1, 1, 1, 1, 1, 1, 1, 1, 1, 1, 1, 1, 1, 1, 1, 1, 1, 1, 1, 1, 1, 1, 1, 1, 1, 1, 1, 1, 1, 1, 1, 1, 1, 1, 1, 1, 1, 1, 1, 1, 1, 1, 1, 1, 1, 1, 1, 1, 1, 1, 1, 2, 1, 1, 1, 1, 1, 1, 1, 1, 1, 1, 1, 1, 1, 1, 1, 1, 1, 1, 1, 1, 1, 1, 1, 1, 1, 1, 1, 1, 1, 1, 1, 1, 1, 1, 1, 1, 1, 1, 1, 1, 1, 1, 1, 1, 1, 1, 1, 1, 1, 1, 1, 1, 1, 1, 1, 1, 1, 1, 1, 1, 1, 1, 1, 1, 1, 1, 1, 1, 1, 1, 1, 1, 1, 1, 1, 1, 1, 1, 1, 1, 1, 1, 1, 1, 1, 1, 1, 1, 1, 1, 1, 1, 1, 1, 1, 1, 1, 1, 1, 1, 1, 1, 1, 1, 1, 1, 1, 1, 1, 1, 1, 1, 1, 1, 1, 1, 1, 1, 1, 1, 1, 1, 1, 1, 1, 1, 1, 1, 1, 1, 1, 1, 1, 1, 1, 1, 1, 1, 1, 1, 1, 1, 1, 1, 1, 1, 1, 1, 1, 1, 1, 1, 1, 1, 1, 1, 1, 1, 1, 1, 1, 1, 1, 1, 1, 1, 1, 1, 1, 1, 1, 1, 1, 1, 1, 1, 1, 1, 1, 1, 1, 1, 1, 1, 1, 1, 1, 1, 1, 1, 1, 1, 1, 1, 1, 1, 2, 1, 1, 1, 1, 1, 1, 1, 1, 1, 1, 1, 1, 1, 1, 1, 1, 1, 1, 1, 1, 1, 1, 1, 1, 1, 1, 1, 1, 1, 1, 1, 1, 1, 1, 1, 1, 1, 1, 1, 1, 1, 1, 1, 1, 1, 1, 1, 1, 1, 1, 1, 1, 1, 1, 1, 1, 1, 1, 2, 1, 1, 1, 1, 1, 1, 1, 1, 1, 1, 1, 1, 1, 1, 1, 1, 1, 1, 1, 1, 1, 1, 1, 2, 1, 1, 1, 1, 1, 1, 1, 1, 1, 1, 1, 1, 1, 1, 1, 1, 1, 1, 1, 1, 1, 1, 1, 1, 1, 1, 1, 1, 1, 1, 1, 1, 1, 1, 1, 1, 1, 1, 1, 1, 1, 1, 1, 1, 1, 1, 1, 1, 1, 1, 1, 1, 1, 1, 1, 1, 1, 1, 1, 1, 1, 1, 1, 1, 1, 1, 1, 1, 1, 1, 1, 1, 1, 1, 1, 1, 1, 1, 1, 1, 1, 1, 3, 1, 1, 1, 1, 1, 1, 1, 1, 1, 1, 1, 1, 1, 1, 1, 1, 1, 1, 1, 1, 1, 1, 1, 1, 1, 1, 1, 1, 1, 1, 1, 1, 1, 1, 1, 1, 1, 1, 1, 1, 1, 1, 1, 1, 1, 1, 1, 1, 1, 1, 1, 1, 1, 1, 1, 1, 1, 1, 1, 1, 1, 1, 1, 1, 1, 1, 1, 1, 1, 1, 1, 1, 1, 1, 1, 1, 1, 1, 1, 1, 1, 1, 1, 1, 1, 1, 1, 1, 1, 1, 1, 1, 1, 1, 1, 1, 1, 1, 1, 1, 1, 1, 1, 1, 1, 1, 1, 1, 1, 1, 1, 1, 1, 1, 1, 1, 1, 1, 1, 1, 1, 1, 1, 1, 1, 1, 1, 1, 1, 1, 1, 1, 1, 1, 1, 1, 1, 1, 1, 1, 1, 1, 1, 1, 1, 1, 1, 2, 1, 1, 1, 1, 1, 1, 1, 1, 1, 1, 1, 1, 1, 1, 1, 1, 1, 1, 1, 1, 1, 1, 1, 1, 1, 1, 1, 1, 1, 1, 1, 1, 1, 1, 1, 1, 1, 1, 1, 1, 1, 1, 1, 1, 1, 1, 1, 1, 1, 1, 1, 1, 1, 1, 1, 1, 1, 1, 1, 1, 1, 1, 1, 1, 1, 1, 1, 1, 2, 1, 1, 1, 1, 1, 1, 1, 1, 1, 1, 1, 1, 1, 1, 1, 1, 1, 1, 1, 1, 1, 1, 1, 1, 1, 1, 1, 1, 1, 1, 1, 1, 1, 1, 1, 1, 1, 1, 1, 1, 1, 1, 1, 1, 1, 1, 1, 1, 1, 1, 1, 1, 1, 1, 1, 2, 1, 1, 1, 1, 1, 1, 1, 1, 1, 1, 1, 1, 1, 1, 2, 1, 1, 1, 1, 1, 1, 1, 1, 1, 1, 1, 1, 1, 1, 3, 1, 1, 1, 1, 2, 1, 1, 1, 1, 1, 1, 1, 1, 1, 1, 1, 1, 1, 1, 1, 1, 1, 1, 1, 1, 1, 1, 1, 1, 1, 1, 1, 1, 2, 1, 1, 1, 1, 1, 1, 1, 1, 1, 1, 1, 1, 1, 1, 1, 1, 1, 1, 1, 1, 1, 1, 1, 1, 1, 1, 1, 1, 1, 1, 1, 1, 1, 1, 1, 1, 1, 1, 1, 1, 1, 1, 1, 1, 1, 1, 1, 1, 1, 2, 1, 1, 1, 1, 1, 1, 1, 1, 1, 1, 1, 1, 1, 1, 1, 1, 1, 1, 1, 1, 1, 1, 1, 1, 1, 1, 1, 1, 1, 1, 1, 1, 1, 1, 1, 1, 1, 1, 1, 1, 1, 1, 1, 1, 1, 1, 1, 1, 1, 1, 1, 1, 1, 1, 1, 1, 1, 1, 1, 1, 1, 1, 1, 1, 1, 1, 1, 1, 1, 1, 1, 1, 1, 1, 1, 1, 1, 1, 1, 1, 1, 1, 1, 1, 1, 1, 2, 1, 1, 1, 1, 1, 1, 1, 1, 1, 1, 2, 1, 1, 1, 1, 1, 1, 1, 1, 1, 1, 1, 1, 1, 1, 1, 1, 1, 1, 1, 1, 1, 1, 1, 1, 2, 1, 1, 1, 1, 1, 1, 1, 1, 1, 1, 1, 1, 1, 1, 1, 1, 1, 1, 1, 1, 1, 1, 1, 1, 1, 1, 1, 1, 1, 1, 1, 1, 1, 1, 1, 1, 1, 1, 1, 1, 1, 2, 1, 1, 1, 1, 1, 1, 1, 1, 1, 1, 1, 1, 1, 1, 1, 1, 1, 1, 1, 1, 1, 1, 1, 1, 1, 1, 1, 1, 1, 1, 1, 1, 1, 1, 1, 1, 1, 1, 1, 1, 1, 1, 1, 1, 1, 1, 1, 1, 1, 1, 1, 1, 1, 1, 1, 1, 1, 1, 1, 1, 1, 1, 1, 1, 1, 1, 1, 1, 1, 1, 1, 1, 1, 1, 1, 1, 1, 1, 1, 1, 1, 1, 1, 1, 1, 1, 1, 1, 1, 1, 1, 1, 1, 1, 1, 1, 1, 1, 1, 1, 1, 1, 1, 1, 1, 1, 1, 1, 1, 1, 1, 1, 1, 1, 1, 1, 1, 1, 1, 1, 1, 1, 1, 1, 1, 1, 1, 1, 1, 1, 1, 1, 1, 1, 1, 1, 1, 1, 1, 1, 1, 1, 1, 1, 1, 1, 1, 1, 1, 1, 1, 1, 1, 1, 1, 1, 1, 1, 1, 1, 1, 1, 1, 1, 1, 1, 1, 1, 1, 1, 1, 1, 1, 1, 1, 1, 1, 1, 1, 1, 1, 1, 1, 4, 1, 1, 1, 1, 1, 1, 1, 1, 1, 1, 1, 1, 1, 1, 1, 1, 1, 1, 1, 1, 2, 1, 1, 1, 2, 1, 1, 1, 1, 1, 1, 1, 1, 1, 1, 1, 1, 2, 1, 1, 1, 1, 1, 1, 1, 1, 1, 1, 1, 1, 1, 1, 1, 1, 1, 1, 1, 1, 1, 1, 2, 1, 1, 1, 1, 1, 1, 1, 1, 1, 1, 1, 1, 1, 1, 1, 1, 1, 1, 1, 1, 1, 1, 1, 1, 1, 1, 1, 1, 1, 1, 1, 1, 1, 1, 1, 1, 1, 1, 1, 1, 1, 1, 1, 1, 1, 1, 1, 1, 1, 1, 1, 1, 1, 1, 1, 1, 1, 1, 1, 1, 1, 1, 1, 1, 1, 1, 1, 1, 1, 1, 1, 1, 1, 1, 1, 1, 1, 1, 1, 1, 1, 1, 1, 1, 1, 1, 1, 1, 1, 1, 1, 1, 1, 2, 1, 1, 1, 1, 1, 1, 1, 1, 1, 1, 2, 1, 2, 1, 2, 1, 1, 1, 1, 1, 1, 1, 1, 1, 1, 1, 1, 1, 1, 1, 1, 1, 1, 1, 1, 1, 1, 1, 1, 1, 1, 1, 1, 1, 1, 1, 1, 1, 1, 1, 1, 1, 1, 1, 1, 1, 1, 1, 1, 1, 1, 1, 1, 1, 1, 1, 1, 1, 1, 1, 1, 1, 1, 1, 1, 1, 1, 1, 1, 1, 1, 1, 1, 1, 1, 1, 1, 1, 1, 1, 1, 1, 1, 1, 1, 1, 1, 1, 1, 1, 1, 1, 1, 1, 1, 1, 1, 1, 1, 1, 1, 1, 1, 1, 1, 1, 1, 1, 2, 1, 1, 1, 1, 1, 1, 1, 1, 1, 1, 1, 1, 1, 1, 1, 1, 1, 1, 1, 1, 1, 1, 1, 1, 1, 1, 1, 1, 1, 1, 1, 1, 1, 1, 1, 1, 1, 1, 1, 1, 1, 1, 1, 1, 1, 2, 1, 1, 1, 1, 1, 1, 1, 1, 1, 1, 1, 1, 1, 1, 1, 1, 1, 1, 1, 1, 1, 1, 1, 1, 1, 1, 1, 1, 1, 1, 1, 1, 1, 1, 1, 1, 1, 1, 1, 1, 1, 1, 1, 1, 1, 1, 1, 1, 1, 1, 1, 1, 1, 1, 1, 1, 1, 1, 1, 1, 1, 1, 1, 1, 1, 1, 1, 1, 1, 1, 1, 1, 1, 1, 1, 1, 1, 1, 1, 1, 1, 1, 1, 1, 1, 1, 1, 1, 1, 1, 1, 1, 1, 1, 1, 1, 1, 1, 1, 1, 1, 1, 1, 1, 1, 1, 3, 1, 1, 1, 1, 1, 1, 1, 1, 1, 1, 1, 1, 1, 1, 1, 1, 1, 1, 1, 1, 1, 1, 1, 1, 1, 1, 1, 1, 1, 1, 1, 1, 1, 1, 1, 1, 1, 1, 1, 1, 1, 1, 1, 2, 1, 1, 1, 1, 1, 1, 1, 1, 1, 1, 1, 1, 1, 1, 1, 1, 1, 1, 1, 1, 1, 1, 1, 1, 1, 1, 1, 1, 1, 1, 1, 1, 1, 1, 1, 1, 1, 1, 1, 1, 1, 1, 1, 1, 1, 1, 1, 1, 1, 1, 1, 1, 1, 1, 1, 1, 1, 1, 1, 1, 1, 1, 1, 1, 1, 1, 1, 1, 1, 1, 1, 1, 1, 1, 1, 1, 1, 1, 1, 1, 1, 1, 1, 1, 1, 1, 1, 1, 1, 2, 1, 1, 1, 1, 1, 1, 1, 1, 1, 1, 1, 1, 1, 1, 1, 1, 1, 1, 1, 1, 1, 1, 1, 1, 1, 1, 1, 1, 1, 1, 1, 1, 1, 1, 1, 1, 1, 1, 1, 1, 1, 1, 1, 1, 1, 1, 1, 1, 1, 1, 1, 1, 1, 1, 1, 1, 1, 1, 1, 1, 1, 1, 1, 1, 1, 1, 1, 1, 1, 1, 1, 1, 1, 1, 1, 1, 1, 1, 1, 1, 1, 1, 1, 1, 1, 1, 1, 1, 1, 1, 1, 1, 1, 1, 1, 1, 1, 1, 1, 1, 1, 1, 1, 1, 1, 1, 1, 1, 1, 3, 1, 1, 2, 1, 1, 1, 1, 1, 1, 1, 1, 1, 1, 1, 1, 1, 1, 1, 1, 1, 1, 1, 1, 1, 1, 1, 1, 1, 1, 1, 1, 1, 1, 1, 1, 1, 1, 1, 1, 1, 1, 1, 1, 1, 1, 1, 1, 1, 1, 1, 1, 1, 1, 1, 1, 1, 1, 1, 1, 1, 1, 1, 1, 1, 1, 1, 1, 1, 1, 1, 1, 1, 1, 1, 1, 1, 1, 1, 1, 1, 1, 1, 1, 1, 1, 1, 2, 1, 1, 1, 1, 1, 1, 1, 1, 1, 1, 2, 1, 1, 1, 1, 1, 3, 1, 2, 1, 1, 2, 1, 1, 1, 1, 1, 1, 1, 1, 4, 1, 1, 1, 2, 1, 1, 1, 1, 1, 1, 1, 1, 1, 1, 1, 1, 1, 1, 1, 1, 1, 1, 1, 1, 1, 1, 1, 1, 1, 1, 1, 1, 1, 1, 1, 1, 1, 1, 1, 1, 1, 1, 2, 1, 1, 1, 1, 1, 1, 1, 1, 1, 2, 1, 1, 1, 1, 1, 1, 1, 1, 1, 2, 1, 1, 1, 1, 1, 1, 1, 1, 1, 1, 1, 1, 1, 1, 1, 1, 1, 1, 1, 1, 1, 4, 1, 1, 1, 1, 1, 1, 1, 1, 1, 1, 1, 1, 1, 1, 1, 1, 1, 2, 1, 1, 1, 1, 1, 1, 1, 1, 1, 1, 1, 1, 1, 1, 1, 2, 1, 1, 1, 1, 1, 1, 1, 1, 1, 1, 1, 1, 1, 1, 1, 1, 1, 1, 1, 1, 2, 1, 1, 1, 1, 1, 1, 1, 1, 1, 1, 1, 1, 1, 1, 1, 1, 1, 1, 1, 1, 1, 1, 1, 1, 1, 1, 1, 1, 1, 1, 1, 5, 1, 1, 1, 1, 1, 1, 1, 1, 1, 1, 1, 1, 1, 1, 1, 1, 1, 1, 1, 1, 1, 1, 1, 1, 1, 1, 1, 1, 1, 1, 1, 1, 1, 2, 1, 1, 1, 1, 1, 1, 1, 1, 1, 1, 1, 1, 1, 1, 1, 1, 1, 1, 2, 1, 1, 1, 1, 1, 1, 1, 1, 1, 1, 1, 1, 1, 1, 1, 1, 1, 1, 1, 1, 1, 1, 1, 1, 1, 2, 1, 1, 1, 1, 1, 1, 1, 1, 1, 1, 1, 1, 1, 1, 1, 1, 1, 1, 1, 1, 2, 1, 1, 1, 1, 1, 1, 1, 1, 1, 1, 2, 1, 1, 1, 1, 1, 1, 1, 1, 1, 1, 1, 1, 1, 1, 1, 2, 2, 1, 1, 1, 1, 1, 1, 2, 1, 1, 1, 1, 1, 1, 1, 1, 1, 1, 1, 1, 2, 1, 1, 1, 1, 1, 1, 1, 1, 1, 1, 2, 1, 1, 1, 1, 1, 1, 1, 1, 2, 1, 1, 1, 1, 1, 1, 1, 1, 1, 1, 1, 1, 1, 1, 2, 1, 1, 1, 1, 1, 1, 1, 1, 1, 1, 1, 1, 1, 1, 1, 1, 1, 1, 1, 1, 1, 1, 1, 1, 1, 2, 1, 1, 1, 1, 1, 1, 1, 1, 2, 1, 1, 1, 1, 1, 1, 1, 1, 2, 1, 1, 1, 1, 1, 2, 1, 1, 1, 1, 1, 1, 1, 1, 1, 1, 1, 1, 1, 1, 1, 1, 1, 1, 1, 1, 1, 1, 1, 1, 1, 1, 1, 1, 1, 1, 1, 1, 1, 1, 1, 1, 1, 1, 1, 1, 1, 1, 1, 1, 1, 1, 1, 1, 1, 1, 1, 1, 1, 1, 1, 1, 1, 1, 1, 1, 1, 1, 1, 1, 2, 1, 3, 1, 1, 1, 1, 1, 1, 2, 1, 1, 1, 1, 1, 1, 1, 1, 1, 1, 1, 1, 1, 1, 1, 1, 2, 1, 1, 1, 1, 1, 1, 1, 1, 1, 1, 1, 1, 1, 1, 1, 1, 1, 1, 1, 1, 1, 1, 1, 1, 1, 1, 1, 1, 1, 1, 1, 1, 1, 1, 1, 1, 1, 1, 1, 1, 1, 1, 1, 1, 1, 1, 1, 1, 1, 1, 1, 1, 1, 1, 1, 1, 1, 1, 1, 1, 1, 2, 1, 1, 1, 1, 1, 1, 1, 1, 1, 1, 1, 1, 1, 1, 1, 1, 1, 1, 1, 1, 1, 1, 1, 1, 1, 1, 1, 1, 1, 1, 1, 1, 1, 1, 1, 1, 1, 2, 1, 1, 1, 1, 2, 1, 1, 1, 1, 1, 1, 1, 1, 1, 1, 1, 1, 1, 1, 1, 1, 1, 1, 1, 1, 1, 1, 1, 1, 1, 1, 1, 1, 1, 1, 1, 1, 1, 1, 1, 1, 1, 1, 1, 1, 1, 1, 1, 1, 1, 1, 1, 1, 1, 1, 1, 2, 1, 1, 1, 1, 1, 1, 1, 1, 1, 1, 1, 1, 1, 1, 1, 1, 1, 1, 1, 1, 1, 1, 1, 1, 1, 1, 1, 1, 1, 1, 1, 1, 1, 1, 1, 1, 1, 1, 1, 1, 1, 1, 1, 1, 1, 1, 1, 1, 1, 1, 1, 1, 1, 1, 1, 1, 1, 1, 1, 1, 1, 1, 1, 1, 1, 1, 1, 1, 1, 1, 1, 1, 1, 1, 1, 1, 1, 2, 1, 1, 1, 1, 1, 1, 1, 1, 1, 1, 1, 1, 1, 1, 1, 1, 1, 1, 1, 1, 1, 1, 1, 1, 1, 1, 1, 1, 1, 1, 1, 1, 1, 1, 1, 1, 1, 1, 1, 1, 1, 1, 1, 1, 1, 1, 1, 1, 1, 1, 1, 1, 1, 1, 1, 1, 1, 1, 1, 1, 1, 1, 1, 1, 1, 1, 1, 2, 1, 1, 1, 1, 1, 1, 1, 1, 1, 1, 1, 1, 1, 1, 1, 1, 1, 1, 1, 1, 1, 2, 1, 1, 1, 1, 1, 1, 1, 1, 1, 1, 1, 1, 1, 1, 1, 1, 1, 1, 1, 1, 1, 1, 1, 1, 1, 1, 1, 1, 1, 1, 1, 1, 1, 1, 1, 2, 1, 1, 1, 1, 1, 1, 1, 1, 1, 1, 1, 1, 1, 1, 1, 1, 1, 1, 1, 1, 1, 1, 1, 1, 1, 1, 1, 1, 1, 1, 1, 1, 1, 1, 1, 1, 1, 1, 1, 1, 1, 1, 1, 1, 1, 1, 1, 1, 1, 1, 1, 1, 1, 1, 1, 2, 1, 1, 1, 1, 1, 1, 1, 1, 1, 1, 1, 1, 1, 1, 1, 1, 1, 1, 1, 1, 1, 1, 1, 1, 1, 2, 1, 1, 1, 1, 1, 1, 1, 1, 1, 1, 1, 1, 1, 1, 1, 1, 1, 1, 1, 1, 1, 1, 1, 1, 1, 1, 1, 1, 1, 1, 1, 1, 1, 1, 1, 1, 1, 1, 1, 1, 1, 1, 1, 1, 1, 1, 1, 1, 1, 1, 1, 1, 1, 1, 1, 1, 1, 1, 1, 1, 1, 1, 1, 1, 1, 1, 1, 1, 1, 1, 2, 1, 1, 1, 1, 1, 1, 1, 1, 1, 1, 1, 1, 1, 1, 1, 1, 1, 1, 1, 1, 1, 1, 1, 1, 1, 1, 1, 1, 1, 1, 1, 1, 1, 1, 1, 1, 1, 1, 1, 1, 1, 1, 1, 1, 1, 1, 1, 1, 1, 1, 1, 1, 1, 1, 1, 1, 1, 1, 1, 1, 1, 1, 1, 1, 1, 1, 1, 1, 1, 1, 1, 1, 1, 1, 1, 1, 1, 1, 1, 1, 1, 1, 1, 1, 1, 1, 1, 1, 1, 1, 1, 1, 1, 1, 1, 1, 1, 2, 1, 1, 1, 1, 1, 1, 1, 1, 1, 1, 1, 1, 1, 1, 1, 1, 1, 1, 1, 1, 1, 1, 1, 1, 1, 1, 1, 1, 1, 1, 1, 1, 1, 1, 1, 1, 1, 1, 1, 1, 1, 1, 1, 1, 1, 3, 1, 1, 1, 1, 1, 1, 1, 1, 1, 1, 1, 1, 1, 1, 1, 1, 1, 1, 1, 1, 1, 1, 1, 1, 1, 1, 1, 2, 1, 1, 1, 1, 1, 1, 1, 1, 1, 1, 1, 1, 1, 1, 1, 1, 1, 1, 1, 1, 1, 1, 1, 1, 1, 1, 1, 1, 1, 1, 1, 1, 1, 1, 1, 1, 1, 1, 1, 1, 1, 1, 1, 1, 1, 1, 1, 1, 1, 1, 1, 1, 1, 1, 1, 1, 1, 1, 1, 1, 1, 1, 1, 1, 1, 1, 1, 1, 1, 1, 1, 1, 1, 1, 1, 1, 1, 1, 1, 1, 1, 1, 1, 1, 1, 1, 1, 1, 1, 1, 1, 1, 1, 1, 1, 1, 1, 1, 1, 1, 1, 1, 1, 1, 1, 1, 1, 1, 1, 1, 1, 1, 1, 1, 1, 1, 1, 1, 1, 1, 1, 2, 1, 1, 1, 1, 1, 1, 1, 1, 1, 1, 1, 1, 1, 1, 1, 1, 1, 1, 1, 1, 1, 1, 1, 1, 1, 1, 1, 1, 1, 1, 1, 1, 1, 1, 1, 1, 1, 1, 1, 1, 1, 1, 1, 1, 1, 1, 1, 1, 1, 1, 1, 1, 1, 1, 1, 1, 1, 1, 1, 1, 1, 1, 2, 1, 1, 1, 1, 1, 1, 1, 1, 1, 1, 1, 1, 1, 1, 1, 1, 1, 1, 1, 2, 1, 1, 1, 1, 2, 1, 1, 1, 1, 1, 1, 1, 1, 1, 1, 1, 1, 1, 1, 1, 1, 1, 1, 1, 1, 1, 2, 1, 1, 1, 1, 1, 1, 2, 1, 1, 1, 1, 1, 1, 1, 1, 1, 1, 1, 1, 1, 1, 1, 1, 1, 1, 1, 1, 1, 1, 1, 1, 1, 1, 1, 1, 1, 1, 1, 1, 1, 1, 1, 1, 1, 1, 1, 1, 1, 1, 1, 1, 1, 1, 1, 1, 1, 1, 1, 1, 1, 1, 1, 1, 1, 1, 1, 1, 1, 1, 1, 1, 1, 2, 1, 1, 1, 1, 1, 1, 1, 1, 1, 1, 1, 1, 1, 1, 1, 1, 1, 1, 2, 1, 1, 1, 1, 1, 1, 1, 1, 1, 1, 1, 1, 1, 1, 1, 1, 1, 1, 1, 1, 1, 1, 1, 1, 1, 1, 1, 1, 1, 1, 1, 1, 1, 1, 1, 1, 1, 1, 1, 1, 1, 1, 1, 1, 1, 1, 1, 1, 1, 1, 1, 1, 1, 1, 1, 1, 1, 1, 1, 1, 1, 1, 1, 1, 1, 1, 1, 2, 1, 1, 1, 1, 1, 1, 1, 1, 1, 2, 1, 1, 1, 1, 1, 1, 1, 1, 1, 1, 1, 1, 1, 1, 1, 1, 1, 2, 1, 1, 2, 1, 1, 1, 1, 1, 1, 1, 1, 1, 1, 1, 1, 1, 1, 1, 1, 1, 1, 1, 1, 1, 1, 1, 1, 1, 1, 1, 1, 1, 1, 1, 1, 1, 1, 1, 1, 1, 1, 1, 1, 1, 1, 1, 1, 1, 1, 2, 1, 1, 1, 1, 1, 1, 1, 1, 1, 1, 1, 1, 1, 1, 1, 2, 1, 1, 1, 1, 1, 1, 1, 1, 1, 1, 3, 1, 1, 1, 1, 3, 3, 1, 1, 1, 1, 1, 1, 3, 1, 1, 1, 3, 1, 1, 1, 1, 3, 1, 1, 1, 1, 1, 1, 1, 2, 1, 1, 1, 1, 1, 1, 1, 1, 2, 1, 1, 1, 1, 1]\n"
          ]
        }
      ]
    },
    {
      "cell_type": "code",
      "metadata": {
        "colab": {
          "base_uri": "https://localhost:8080/"
        },
        "id": "6IQ2vY_NiPeC",
        "outputId": "b7c65272-e7f0-4b05-f200-e5f2a1c849f1"
      },
      "source": [
        "count1 = 0\n",
        "count2 = 0\n",
        "count3 = 0\n",
        "count4 = 0\n",
        "count5 = 0\n",
        "for elem in lenL:\n",
        "  if elem == 1:\n",
        "    count1 += 1\n",
        "  elif elem == 2:\n",
        "    count2 += 1\n",
        "  elif elem == 3:\n",
        "    count3 += 1\n",
        "  elif elem == 4:\n",
        "    count4 += 1\n",
        "  else:\n",
        "    count5 += 1\n",
        "print(count1, count2, count3, count4, count5)"
      ],
      "execution_count": null,
      "outputs": [
        {
          "output_type": "stream",
          "name": "stdout",
          "text": [
            "3891 97 13 3 1\n"
          ]
        }
      ]
    },
    {
      "cell_type": "code",
      "metadata": {
        "id": "BogoyDwbmFWb"
      },
      "source": [
        "df['count_speakers'] = df['all_speakers'].apply(lambda x: len(x))"
      ],
      "execution_count": null,
      "outputs": []
    },
    {
      "cell_type": "code",
      "metadata": {
        "colab": {
          "base_uri": "https://localhost:8080/"
        },
        "id": "8JtvkfI5mM8R",
        "outputId": "4e05ec8e-8c9e-401a-a8ed-4587d0b3d027"
      },
      "source": [
        "sp_cnt = df['count_speakers'].value_counts()\n",
        "sp_cnt"
      ],
      "execution_count": null,
      "outputs": [
        {
          "output_type": "execute_result",
          "data": {
            "text/plain": [
              "1    3891\n",
              "2      97\n",
              "3      13\n",
              "4       3\n",
              "5       1\n",
              "Name: count_speakers, dtype: int64"
            ]
          },
          "metadata": {},
          "execution_count": 35
        }
      ]
    },
    {
      "cell_type": "code",
      "metadata": {
        "id": "Lz7LadvSn1B0"
      },
      "source": [
        "sp_ct = df.groupby('count_speakers').agg({'views' : 'sum'})\n",
        "sp_ct.reset_index(inplace = True)"
      ],
      "execution_count": null,
      "outputs": []
    },
    {
      "cell_type": "code",
      "metadata": {
        "colab": {
          "base_uri": "https://localhost:8080/",
          "height": 368
        },
        "id": "KVrmLpL3vbff",
        "outputId": "b028be08-0913-4409-80e6-3ed84a137359"
      },
      "source": [
        "plt.figure(figsize=(10, 5))\n",
        "sns.barplot(x ='count_speakers', y='views', data=sp_ct)\n",
        "plt.title('Number of Speakers vs total views')"
      ],
      "execution_count": null,
      "outputs": [
        {
          "output_type": "execute_result",
          "data": {
            "text/plain": [
              "Text(0.5, 1.0, 'Number of Speakers vs total views')"
            ]
          },
          "metadata": {},
          "execution_count": 37
        },
        {
          "output_type": "display_data",
          "data": {
            "image/png": "[encoded data removed]",
            "text/plain": [
              "<Figure size 720x360 with 1 Axes>"
            ]
          },
          "metadata": {
            "needs_background": "light"
          }
        }
      ]
    },
    {
      "cell_type": "markdown",
      "metadata": {
        "id": "UrfFPaSU9Q_G"
      },
      "source": [
        "1. We can drop all speakers coulmns from our dataset."
      ]
    },
    {
      "cell_type": "code",
      "metadata": {
        "id": "4A3gzIxb9aNH"
      },
      "source": [
        "set_data.drop(['all_speakers'], axis = 1, inplace = True)"
      ],
      "execution_count": null,
      "outputs": []
    },
    {
      "cell_type": "markdown",
      "metadata": {
        "id": "VnNl6KkE9hC8"
      },
      "source": [
        "#SET_DATA_WITH_DROPPED_ALL_SPEAKERS"
      ]
    },
    {
      "cell_type": "code",
      "metadata": {
        "colab": {
          "base_uri": "https://localhost:8080/"
        },
        "id": "v4kNuhnv9fCt",
        "outputId": "d9359694-00fe-4973-e3af-84e96243d0ee"
      },
      "source": [
        "set_data.head()"
      ],
      "execution_count": null,
      "outputs": [
        {
          "output_type": "execute_result",
          "data": {
            "text/html": [
              "<div>\n",
              "<style scoped>\n",
              "    .dataframe tbody tr th:only-of-type {\n",
              "        vertical-align: middle;\n",
              "    }\n",
              "\n",
              "    .dataframe tbody tr th {\n",
              "        vertical-align: top;\n",
              "    }\n",
              "\n",
              "    .dataframe thead th {\n",
              "        text-align: right;\n",
              "    }\n",
              "</style>\n",
              "<table border=\"1\" class=\"dataframe\">\n",
              "  <thead>\n",
              "    <tr style=\"text-align: right;\">\n",
              "      <th></th>\n",
              "      <th>title</th>\n",
              "      <th>speaker_1</th>\n",
              "      <th>occupations</th>\n",
              "      <th>about_speakers</th>\n",
              "      <th>views</th>\n",
              "      <th>recorded_date</th>\n",
              "      <th>published_date</th>\n",
              "      <th>event</th>\n",
              "      <th>native_lang</th>\n",
              "      <th>available_lang</th>\n",
              "      <th>comments</th>\n",
              "      <th>duration</th>\n",
              "      <th>topics</th>\n",
              "      <th>related_talks</th>\n",
              "      <th>url</th>\n",
              "      <th>description</th>\n",
              "      <th>transcript</th>\n",
              "    </tr>\n",
              "    <tr>\n",
              "      <th>talk_id</th>\n",
              "      <th></th>\n",
              "      <th></th>\n",
              "      <th></th>\n",
              "      <th></th>\n",
              "      <th></th>\n",
              "      <th></th>\n",
              "      <th></th>\n",
              "      <th></th>\n",
              "      <th></th>\n",
              "      <th></th>\n",
              "      <th></th>\n",
              "      <th></th>\n",
              "      <th></th>\n",
              "      <th></th>\n",
              "      <th></th>\n",
              "      <th></th>\n",
              "      <th></th>\n",
              "    </tr>\n",
              "  </thead>\n",
              "  <tbody>\n",
              "    <tr>\n",
              "      <th>1</th>\n",
              "      <td>Averting the climate crisis</td>\n",
              "      <td>Al Gore</td>\n",
              "      <td>{0: ['climate advocate']}</td>\n",
              "      <td>{0: 'Nobel Laureate Al Gore focused the world’...</td>\n",
              "      <td>3523392</td>\n",
              "      <td>2006-02-25</td>\n",
              "      <td>2006-06-27</td>\n",
              "      <td>TED2006</td>\n",
              "      <td>en</td>\n",
              "      <td>['ar', 'bg', 'cs', 'de', 'el', 'en', 'es', 'fa...</td>\n",
              "      <td>272.0</td>\n",
              "      <td>977</td>\n",
              "      <td>['alternative energy', 'cars', 'climate change...</td>\n",
              "      <td>{243: 'New thinking on the climate crisis', 54...</td>\n",
              "      <td>https://www.ted.com/talks/al_gore_averting_the...</td>\n",
              "      <td>With the same humor and humanity he exuded in ...</td>\n",
              "      <td>Thank you so much, Chris. And it's truly a gre...</td>\n",
              "    </tr>\n",
              "    <tr>\n",
              "      <th>92</th>\n",
              "      <td>The best stats you've ever seen</td>\n",
              "      <td>Hans Rosling</td>\n",
              "      <td>{0: ['global health expert; data visionary']}</td>\n",
              "      <td>{0: 'In Hans Rosling’s hands, data sings. Glob...</td>\n",
              "      <td>14501685</td>\n",
              "      <td>2006-02-22</td>\n",
              "      <td>2006-06-27</td>\n",
              "      <td>TED2006</td>\n",
              "      <td>en</td>\n",
              "      <td>['ar', 'az', 'bg', 'bn', 'bs', 'cs', 'da', 'de...</td>\n",
              "      <td>628.0</td>\n",
              "      <td>1190</td>\n",
              "      <td>['Africa', 'Asia', 'Google', 'demo', 'economic...</td>\n",
              "      <td>{2056: \"Own your body's data\", 2296: 'A visual...</td>\n",
              "      <td>https://www.ted.com/talks/hans_rosling_the_bes...</td>\n",
              "      <td>You've never seen data presented like this. Wi...</td>\n",
              "      <td>About 10 years ago, I took on the task to teac...</td>\n",
              "    </tr>\n",
              "    <tr>\n",
              "      <th>7</th>\n",
              "      <td>Simplicity sells</td>\n",
              "      <td>David Pogue</td>\n",
              "      <td>{0: ['technology columnist']}</td>\n",
              "      <td>{0: 'David Pogue is the personal technology co...</td>\n",
              "      <td>1920832</td>\n",
              "      <td>2006-02-24</td>\n",
              "      <td>2006-06-27</td>\n",
              "      <td>TED2006</td>\n",
              "      <td>en</td>\n",
              "      <td>['ar', 'bg', 'de', 'el', 'en', 'es', 'fa', 'fr...</td>\n",
              "      <td>124.0</td>\n",
              "      <td>1286</td>\n",
              "      <td>['computers', 'entertainment', 'interface desi...</td>\n",
              "      <td>{1725: '10 top time-saving tech tips', 2274: '...</td>\n",
              "      <td>https://www.ted.com/talks/david_pogue_simplici...</td>\n",
              "      <td>New York Times columnist David Pogue takes aim...</td>\n",
              "      <td>(Music: \"The Sound of Silence,\" Simon &amp; Garfun...</td>\n",
              "    </tr>\n",
              "    <tr>\n",
              "      <th>53</th>\n",
              "      <td>Greening the ghetto</td>\n",
              "      <td>Majora Carter</td>\n",
              "      <td>{0: ['activist for environmental justice']}</td>\n",
              "      <td>{0: 'Majora Carter redefined the field of envi...</td>\n",
              "      <td>2664069</td>\n",
              "      <td>2006-02-26</td>\n",
              "      <td>2006-06-27</td>\n",
              "      <td>TED2006</td>\n",
              "      <td>en</td>\n",
              "      <td>['ar', 'bg', 'bn', 'ca', 'cs', 'de', 'en', 'es...</td>\n",
              "      <td>219.0</td>\n",
              "      <td>1116</td>\n",
              "      <td>['MacArthur grant', 'activism', 'business', 'c...</td>\n",
              "      <td>{1041: '3 stories of local eco-entrepreneurshi...</td>\n",
              "      <td>https://www.ted.com/talks/majora_carter_greeni...</td>\n",
              "      <td>In an emotionally charged talk, MacArthur-winn...</td>\n",
              "      <td>If you're here today — and I'm very happy that...</td>\n",
              "    </tr>\n",
              "    <tr>\n",
              "      <th>66</th>\n",
              "      <td>Do schools kill creativity?</td>\n",
              "      <td>Sir Ken Robinson</td>\n",
              "      <td>{0: ['author', 'educator']}</td>\n",
              "      <td>{0: \"Creativity expert Sir Ken Robinson challe...</td>\n",
              "      <td>65051954</td>\n",
              "      <td>2006-02-25</td>\n",
              "      <td>2006-06-27</td>\n",
              "      <td>TED2006</td>\n",
              "      <td>en</td>\n",
              "      <td>['af', 'ar', 'az', 'be', 'bg', 'bn', 'ca', 'cs...</td>\n",
              "      <td>4931.0</td>\n",
              "      <td>1164</td>\n",
              "      <td>['children', 'creativity', 'culture', 'dance',...</td>\n",
              "      <td>{865: 'Bring on the learning revolution!', 173...</td>\n",
              "      <td>https://www.ted.com/talks/sir_ken_robinson_do_...</td>\n",
              "      <td>Sir Ken Robinson makes an entertaining and pro...</td>\n",
              "      <td>Good morning. How are you? (Audience) Good. It...</td>\n",
              "    </tr>\n",
              "  </tbody>\n",
              "</table>\n",
              "</div>"
            ],
            "text/plain": [
              "                                   title  ...                                         transcript\n",
              "talk_id                                   ...                                                   \n",
              "1            Averting the climate crisis  ...  Thank you so much, Chris. And it's truly a gre...\n",
              "92       The best stats you've ever seen  ...  About 10 years ago, I took on the task to teac...\n",
              "7                       Simplicity sells  ...  (Music: \"The Sound of Silence,\" Simon & Garfun...\n",
              "53                   Greening the ghetto  ...  If you're here today — and I'm very happy that...\n",
              "66           Do schools kill creativity?  ...  Good morning. How are you? (Audience) Good. It...\n",
              "\n",
              "[5 rows x 17 columns]"
            ]
          },
          "metadata": {},
          "execution_count": 40
        }
      ]
    },
    {
      "cell_type": "markdown",
      "metadata": {
        "id": "JGhbCUbGU-zx"
      },
      "source": [
        "#NLP"
      ]
    },
    {
      "cell_type": "code",
      "metadata": {
        "id": "cZiGSCvu9okG"
      },
      "source": [
        "nlp_dat = r_data.copy()"
      ],
      "execution_count": null,
      "outputs": []
    },
    {
      "cell_type": "code",
      "metadata": {
        "colab": {
          "base_uri": "https://localhost:8080/",
          "height": 366
        },
        "id": "je5puODpU9y2",
        "outputId": "348f717c-d959-4fa2-8b6a-8a368827e778"
      },
      "source": [
        "nlp_dat.head(3)"
      ],
      "execution_count": null,
      "outputs": [
        {
          "output_type": "execute_result",
          "data": {
            "text/html": [
              "<div>\n",
              "<style scoped>\n",
              "    .dataframe tbody tr th:only-of-type {\n",
              "        vertical-align: middle;\n",
              "    }\n",
              "\n",
              "    .dataframe tbody tr th {\n",
              "        vertical-align: top;\n",
              "    }\n",
              "\n",
              "    .dataframe thead th {\n",
              "        text-align: right;\n",
              "    }\n",
              "</style>\n",
              "<table border=\"1\" class=\"dataframe\">\n",
              "  <thead>\n",
              "    <tr style=\"text-align: right;\">\n",
              "      <th></th>\n",
              "      <th>talk_id</th>\n",
              "      <th>title</th>\n",
              "      <th>speaker_1</th>\n",
              "      <th>all_speakers</th>\n",
              "      <th>occupations</th>\n",
              "      <th>about_speakers</th>\n",
              "      <th>views</th>\n",
              "      <th>recorded_date</th>\n",
              "      <th>published_date</th>\n",
              "      <th>event</th>\n",
              "      <th>native_lang</th>\n",
              "      <th>available_lang</th>\n",
              "      <th>comments</th>\n",
              "      <th>duration</th>\n",
              "      <th>topics</th>\n",
              "      <th>related_talks</th>\n",
              "      <th>url</th>\n",
              "      <th>description</th>\n",
              "      <th>transcript</th>\n",
              "    </tr>\n",
              "  </thead>\n",
              "  <tbody>\n",
              "    <tr>\n",
              "      <th>0</th>\n",
              "      <td>1</td>\n",
              "      <td>Averting the climate crisis</td>\n",
              "      <td>Al Gore</td>\n",
              "      <td>{0: 'Al Gore'}</td>\n",
              "      <td>{0: ['climate advocate']}</td>\n",
              "      <td>{0: 'Nobel Laureate Al Gore focused the world’...</td>\n",
              "      <td>3523392</td>\n",
              "      <td>2006-02-25</td>\n",
              "      <td>2006-06-27</td>\n",
              "      <td>TED2006</td>\n",
              "      <td>en</td>\n",
              "      <td>['ar', 'bg', 'cs', 'de', 'el', 'en', 'es', 'fa...</td>\n",
              "      <td>272.0</td>\n",
              "      <td>977</td>\n",
              "      <td>['alternative energy', 'cars', 'climate change...</td>\n",
              "      <td>{243: 'New thinking on the climate crisis', 54...</td>\n",
              "      <td>https://www.ted.com/talks/al_gore_averting_the...</td>\n",
              "      <td>With the same humor and humanity he exuded in ...</td>\n",
              "      <td>Thank you so much, Chris. And it's truly a gre...</td>\n",
              "    </tr>\n",
              "    <tr>\n",
              "      <th>1</th>\n",
              "      <td>92</td>\n",
              "      <td>The best stats you've ever seen</td>\n",
              "      <td>Hans Rosling</td>\n",
              "      <td>{0: 'Hans Rosling'}</td>\n",
              "      <td>{0: ['global health expert; data visionary']}</td>\n",
              "      <td>{0: 'In Hans Rosling’s hands, data sings. Glob...</td>\n",
              "      <td>14501685</td>\n",
              "      <td>2006-02-22</td>\n",
              "      <td>2006-06-27</td>\n",
              "      <td>TED2006</td>\n",
              "      <td>en</td>\n",
              "      <td>['ar', 'az', 'bg', 'bn', 'bs', 'cs', 'da', 'de...</td>\n",
              "      <td>628.0</td>\n",
              "      <td>1190</td>\n",
              "      <td>['Africa', 'Asia', 'Google', 'demo', 'economic...</td>\n",
              "      <td>{2056: \"Own your body's data\", 2296: 'A visual...</td>\n",
              "      <td>https://www.ted.com/talks/hans_rosling_the_bes...</td>\n",
              "      <td>You've never seen data presented like this. Wi...</td>\n",
              "      <td>About 10 years ago, I took on the task to teac...</td>\n",
              "    </tr>\n",
              "    <tr>\n",
              "      <th>2</th>\n",
              "      <td>7</td>\n",
              "      <td>Simplicity sells</td>\n",
              "      <td>David Pogue</td>\n",
              "      <td>{0: 'David Pogue'}</td>\n",
              "      <td>{0: ['technology columnist']}</td>\n",
              "      <td>{0: 'David Pogue is the personal technology co...</td>\n",
              "      <td>1920832</td>\n",
              "      <td>2006-02-24</td>\n",
              "      <td>2006-06-27</td>\n",
              "      <td>TED2006</td>\n",
              "      <td>en</td>\n",
              "      <td>['ar', 'bg', 'de', 'el', 'en', 'es', 'fa', 'fr...</td>\n",
              "      <td>124.0</td>\n",
              "      <td>1286</td>\n",
              "      <td>['computers', 'entertainment', 'interface desi...</td>\n",
              "      <td>{1725: '10 top time-saving tech tips', 2274: '...</td>\n",
              "      <td>https://www.ted.com/talks/david_pogue_simplici...</td>\n",
              "      <td>New York Times columnist David Pogue takes aim...</td>\n",
              "      <td>(Music: \"The Sound of Silence,\" Simon &amp; Garfun...</td>\n",
              "    </tr>\n",
              "  </tbody>\n",
              "</table>\n",
              "</div>"
            ],
            "text/plain": [
              "   talk_id  ...                                         transcript\n",
              "0        1  ...  Thank you so much, Chris. And it's truly a gre...\n",
              "1       92  ...  About 10 years ago, I took on the task to teac...\n",
              "2        7  ...  (Music: \"The Sound of Silence,\" Simon & Garfun...\n",
              "\n",
              "[3 rows x 19 columns]"
            ]
          },
          "metadata": {},
          "execution_count": 42
        }
      ]
    },
    {
      "cell_type": "code",
      "metadata": {
        "id": "g1rlJuvIVRuu"
      },
      "source": [
        "title_nlp = nlp_dat[['title', 'views', 'duration']]"
      ],
      "execution_count": null,
      "outputs": []
    },
    {
      "cell_type": "code",
      "metadata": {
        "colab": {
          "base_uri": "https://localhost:8080/"
        },
        "id": "cTykyNZwVpBA",
        "outputId": "bfe35990-6cdf-4f7e-f2c9-1afb3bf8e69d"
      },
      "source": [
        "title_nlp['title_length'] = title_nlp['title'].apply(len)"
      ],
      "execution_count": null,
      "outputs": [
        {
          "output_type": "stream",
          "name": "stderr",
          "text": [
            "/usr/local/lib/python3.7/dist-packages/ipykernel_launcher.py:1: SettingWithCopyWarning: \n",
            "A value is trying to be set on a copy of a slice from a DataFrame.\n",
            "Try using .loc[row_indexer,col_indexer] = value instead\n",
            "\n",
            "See the caveats in the documentation: https://pandas.pydata.org/pandas-docs/stable/user_guide/indexing.html#returning-a-view-versus-a-copy\n",
            "  \"\"\"Entry point for launching an IPython kernel.\n"
          ]
        }
      ]
    },
    {
      "cell_type": "code",
      "metadata": {
        "colab": {
          "base_uri": "https://localhost:8080/",
          "height": 204
        },
        "id": "JQs3wX7MVxXd",
        "outputId": "42d3d5fc-a531-4910-9b19-2265d26f0a22"
      },
      "source": [
        "title_nlp.head()"
      ],
      "execution_count": null,
      "outputs": [
        {
          "output_type": "execute_result",
          "data": {
            "text/html": [
              "<div>\n",
              "<style scoped>\n",
              "    .dataframe tbody tr th:only-of-type {\n",
              "        vertical-align: middle;\n",
              "    }\n",
              "\n",
              "    .dataframe tbody tr th {\n",
              "        vertical-align: top;\n",
              "    }\n",
              "\n",
              "    .dataframe thead th {\n",
              "        text-align: right;\n",
              "    }\n",
              "</style>\n",
              "<table border=\"1\" class=\"dataframe\">\n",
              "  <thead>\n",
              "    <tr style=\"text-align: right;\">\n",
              "      <th></th>\n",
              "      <th>title</th>\n",
              "      <th>views</th>\n",
              "      <th>duration</th>\n",
              "      <th>title_length</th>\n",
              "    </tr>\n",
              "  </thead>\n",
              "  <tbody>\n",
              "    <tr>\n",
              "      <th>0</th>\n",
              "      <td>Averting the climate crisis</td>\n",
              "      <td>3523392</td>\n",
              "      <td>977</td>\n",
              "      <td>27</td>\n",
              "    </tr>\n",
              "    <tr>\n",
              "      <th>1</th>\n",
              "      <td>The best stats you've ever seen</td>\n",
              "      <td>14501685</td>\n",
              "      <td>1190</td>\n",
              "      <td>31</td>\n",
              "    </tr>\n",
              "    <tr>\n",
              "      <th>2</th>\n",
              "      <td>Simplicity sells</td>\n",
              "      <td>1920832</td>\n",
              "      <td>1286</td>\n",
              "      <td>16</td>\n",
              "    </tr>\n",
              "    <tr>\n",
              "      <th>3</th>\n",
              "      <td>Greening the ghetto</td>\n",
              "      <td>2664069</td>\n",
              "      <td>1116</td>\n",
              "      <td>19</td>\n",
              "    </tr>\n",
              "    <tr>\n",
              "      <th>4</th>\n",
              "      <td>Do schools kill creativity?</td>\n",
              "      <td>65051954</td>\n",
              "      <td>1164</td>\n",
              "      <td>27</td>\n",
              "    </tr>\n",
              "  </tbody>\n",
              "</table>\n",
              "</div>"
            ],
            "text/plain": [
              "                             title     views  duration  title_length\n",
              "0      Averting the climate crisis   3523392       977            27\n",
              "1  The best stats you've ever seen  14501685      1190            31\n",
              "2                 Simplicity sells   1920832      1286            16\n",
              "3              Greening the ghetto   2664069      1116            19\n",
              "4      Do schools kill creativity?  65051954      1164            27"
            ]
          },
          "metadata": {},
          "execution_count": 45
        }
      ]
    },
    {
      "cell_type": "code",
      "metadata": {
        "colab": {
          "base_uri": "https://localhost:8080/",
          "height": 281
        },
        "id": "m5t0u7kIWMTX",
        "outputId": "df9e5738-f30b-4c9c-9637-06ce247e638b"
      },
      "source": [
        "title_nlp['title_length'].plot(bins = 50, kind = 'hist')"
      ],
      "execution_count": null,
      "outputs": [
        {
          "output_type": "execute_result",
          "data": {
            "text/plain": [
              "<matplotlib.axes._subplots.AxesSubplot at 0x7f74fe543bd0>"
            ]
          },
          "metadata": {},
          "execution_count": 46
        },
        {
          "output_type": "display_data",
          "data": {
            "image/png": "[encoded data removed]",
            "text/plain": [
              "<Figure size 432x288 with 1 Axes>"
            ]
          },
          "metadata": {
            "needs_background": "light"
          }
        }
      ]
    },
    {
      "cell_type": "code",
      "metadata": {
        "colab": {
          "base_uri": "https://localhost:8080/"
        },
        "id": "LYlvBt1eWZsa",
        "outputId": "2e5c5e05-47c6-4521-c0aa-bb0997e6dd38"
      },
      "source": [
        "title_nlp.title_length.describe()"
      ],
      "execution_count": null,
      "outputs": [
        {
          "output_type": "execute_result",
          "data": {
            "text/plain": [
              "count    4005.000000\n",
              "mean       38.241199\n",
              "std        13.191408\n",
              "min         6.000000\n",
              "25%        28.000000\n",
              "50%        37.000000\n",
              "75%        47.000000\n",
              "max        88.000000\n",
              "Name: title_length, dtype: float64"
            ]
          },
          "metadata": {},
          "execution_count": 47
        }
      ]
    },
    {
      "cell_type": "code",
      "metadata": {
        "colab": {
          "base_uri": "https://localhost:8080/",
          "height": 35
        },
        "id": "jEc4jOjJWz5R",
        "outputId": "d1bf7f8e-22ba-456b-c6c7-be52dfa44ec2"
      },
      "source": [
        "title_nlp[title_nlp['title_length']==min(title_nlp['title_length'])]['title'].iloc[0]"
      ],
      "execution_count": null,
      "outputs": [
        {
          "output_type": "execute_result",
          "data": {
            "application/vnd.google.colaboratory.intrinsic+json": {
              "type": "string"
            },
            "text/plain": [
              "'\"Awoo\"'"
            ]
          },
          "metadata": {},
          "execution_count": 48
        }
      ]
    },
    {
      "cell_type": "code",
      "metadata": {
        "colab": {
          "base_uri": "https://localhost:8080/",
          "height": 35
        },
        "id": "n4zm37UZX2MA",
        "outputId": "a0d3eb9b-e71f-42f7-a4c4-31b2cc04671f"
      },
      "source": [
        "title_nlp[title_nlp['title_length'] == max(title_nlp['title_length'])]['title'].iloc[0]"
      ],
      "execution_count": null,
      "outputs": [
        {
          "output_type": "execute_result",
          "data": {
            "application/vnd.google.colaboratory.intrinsic+json": {
              "type": "string"
            },
            "text/plain": [
              "'The mysterious microbes living deep inside the earth -- and how they could help humanity'"
            ]
          },
          "metadata": {},
          "execution_count": 49
        }
      ]
    },
    {
      "cell_type": "code",
      "metadata": {
        "id": "t8K5idbmYiBj"
      },
      "source": [
        "def title_cleaning(title):\n",
        "  test_punc_remove = [ char for char in title if char not in string.punctuation]\n",
        "  test_punc_remove_joined = ''.join(test_punc_remove)\n",
        "  test_cleaned = [word for word in test_punc_remove_joined.split() if word.lower() not in stopwords.words('english')]\n",
        "  return test_cleaned"
      ],
      "execution_count": null,
      "outputs": []
    },
    {
      "cell_type": "code",
      "metadata": {
        "id": "lwFJe_5H1Znh"
      },
      "source": [
        "title_clean = title_nlp['title'].apply(title_cleaning)"
      ],
      "execution_count": null,
      "outputs": []
    },
    {
      "cell_type": "code",
      "metadata": {
        "colab": {
          "base_uri": "https://localhost:8080/"
        },
        "id": "L_ZBNJTI2upl",
        "outputId": "26ed3f58-ac7f-4e80-8072-733ca9ae2630"
      },
      "source": [
        "title_clean"
      ],
      "execution_count": null,
      "outputs": [
        {
          "output_type": "execute_result",
          "data": {
            "text/plain": [
              "0                      [Averting, climate, crisis]\n",
              "1                 [best, stats, youve, ever, seen]\n",
              "2                              [Simplicity, sells]\n",
              "3                               [Greening, ghetto]\n",
              "4                      [schools, kill, creativity]\n",
              "                           ...                    \n",
              "4000     [Crisis, support, world, one, text, away]\n",
              "4001                    [dark, history, IQ, tests]\n",
              "4002        [policing, profit, undermines, rights]\n",
              "4003    [electrifying, speeches, Sojourner, Truth]\n",
              "4004                      [important, anus, ocean]\n",
              "Name: title, Length: 4005, dtype: object"
            ]
          },
          "metadata": {},
          "execution_count": 52
        }
      ]
    },
    {
      "cell_type": "code",
      "metadata": {
        "id": "_U7hyFCC5cuA"
      },
      "source": [
        "from wordcloud import WordCloud,ImageColorGenerator"
      ],
      "execution_count": null,
      "outputs": []
    },
    {
      "cell_type": "code",
      "metadata": {
        "colab": {
          "base_uri": "https://localhost:8080/",
          "height": 249
        },
        "id": "PXAflwjo4IB0",
        "outputId": "e4d3ceb7-f8c4-4b0d-eb70-5a7140d2e0e7"
      },
      "source": [
        "final_text = \" \".join(topic for topic in title_clean.astype(str))\n",
        "print(\"Total {} words in the title.\".format(len(final_text)))\n",
        "\n",
        "wordcloud = WordCloud(background_color=\"white\", width=1000, height=600).generate(final_text)\n",
        "\n",
        "plt.axis(\"off\")\n",
        "plt.rcParams[\"figure.figsize\"] = (25,10)\n",
        "plt.imshow(wordcloud, interpolation='bilinear')\n",
        "plt.show()"
      ],
      "execution_count": null,
      "outputs": [
        {
          "output_type": "stream",
          "name": "stdout",
          "text": [
            "Total 164855 words in the title.\n"
          ]
        },
        {
          "output_type": "display_data",
          "data": {
            "image/png": "[encoded data removed]",
            "text/plain": [
              "<Figure size 432x288 with 1 Axes>"
            ]
          },
          "metadata": {
            "needs_background": "light"
          }
        }
      ]
    },
    {
      "cell_type": "code",
      "metadata": {
        "id": "ba26pbLJ5Vdp"
      },
      "source": [
        "from sklearn.feature_extraction.text import CountVectorizer\n",
        "vectorizer = CountVectorizer(analyzer = title_cleaning)\n",
        "title_countvectorizer = vectorizer.fit_transform(title_nlp['title'])"
      ],
      "execution_count": null,
      "outputs": []
    },
    {
      "cell_type": "code",
      "metadata": {
        "id": "zaN7gD5MKAc5",
        "colab": {
          "base_uri": "https://localhost:8080/"
        },
        "outputId": "54e93f97-7a78-4721-91b2-c1f0a00d6f64"
      },
      "source": [
        "print(vectorizer.get_feature_names())"
      ],
      "execution_count": null,
      "outputs": [
        {
          "output_type": "stream",
          "name": "stdout",
          "text": [
            "['0s', '1', '10', '100', '1000', '10000', '100000student', '100x', '101', '105', '11', '11yearold', '11yearolds', '12', '12yearold', '13m', '13thcentury', '13yearolds', '14', '15', '150mph', '16', '17', '17year', '18', '1901', '1918', '1984', '1994', '1s', '2', '20', '2000', '200year', '2016', '2030', '21', '21st', '21stcentury', '2200', '25', '2600', '3', '30', '30000', '3000foot', '3000year', '30year', '31', '317', '318yearold', '32', '3D', '3Dprinted', '3x', '4', '40', '404', '40year', '451', '4D', '5', '50', '500', '5000', '50cent', '50x15', '6', '66', '7', '79', '8', '80', '8dimensional', '9', '911', '99', 'ADHD', 'AI', 'AIDS', 'Abundance', 'Academic', 'Accents', 'Across', 'Activism', 'Actually', 'Addicted', 'Addiction', 'Adjustable', 'Admirals', 'Adventures', 'Advice', 'Afghan', 'Afghanistan', 'Africa', 'African', 'Africans', 'Africas', 'Afro', 'Afrobeat', 'Afterneath', 'Age', 'Agile', 'Aid', 'Air', 'Airbnb', 'Airstream', 'Alexandria', 'Alexandrias', 'Aliens', 'Allan', 'AlloSphere', 'Alzheimers', 'Amazon', 'Amazons', 'America', 'American', 'Americans', 'Americas', 'Amy', 'Anatomy', 'Ancient', 'Animal', 'Animate', 'Animating', 'Animations', 'Annapurna', 'Antarctic', 'Antigravity', 'Apollo', 'Apple', 'Arab', 'Arabic', 'Archaeology', 'Archeology', 'Archimedes', 'Architect', 'Architectural', 'Architecture', 'Arctic', 'Arduino', 'Argentinas', 'Argonauts', 'Aristophanes', 'Armchair', 'Art', 'Arthur', 'Artists', 'Arundhati', 'Asia', 'Asias', 'Asking', 'Aspergers', 'Atheism', 'Atlantic', 'Augmented', 'Augmentedreality', 'Augustus', 'Austen', 'Autism', 'Autopilote', 'Avatar', 'Averting', 'Awardwinning', 'Awoo', 'Axis', 'Aztec', 'B', 'BANANA', 'BBQ', 'BLACK', 'BRCK', 'Back', 'Bain', 'Baldwin', 'Bali', 'Ballroom', 'Baltimore', 'Baptist', 'Basquiat', 'Battling', 'Beats', 'Beautiful', 'Beauty', 'Beauvoir', 'Become', 'Beethoven', 'Behind', 'Believe', 'Benjamin', 'BernersLee', 'Better', 'Beware', 'Big', 'Biohacking', 'Biolab', 'Biomimicry', 'Biomimicrys', 'Biosphere', 'Bird', 'Birds', 'Bitcoin', 'Black', 'Bluegrass', 'Blues', 'Blur', 'Body', 'Bohanna', 'Bonaparte', 'Borges', 'Boston', 'Bots', 'Brain', 'Braintobrain', 'Brazil', 'Break', 'Breakfast', 'Breakthrough', 'Breton', 'Brexit', 'Bridge', 'Bridges', 'Brilliant', 'Bring', 'Bringing', 'British', 'Broadway', 'Bronx', 'Brooklyn', 'Browns', 'Bruce', 'Bucket', 'Buddhas', 'Build', 'Building', 'Buildings', 'Bulgaria', 'BumpTop', 'Burning', 'Butler', 'Button', 'CERNs', 'CO2', 'COVID19', 'CRISPR', 'CTE', 'Calculating', 'Canary', 'Canterbury', 'Cape', 'Capitalism', 'Capturing', 'Card', 'Caring', 'Carta', 'Casting', 'Cathedral', 'Causeway', 'Celtic', 'Central', 'Challenge', 'Changing', 'Chapel', 'Charles', 'Charter', 'Chasm', 'Chasms', 'Cheap', 'Chemical', 'Chernobyl', 'Chi', 'Chicagos', 'Child', 'Children', 'Chimps', 'China', 'Chinas', 'Chinese', 'Choice', 'Choir', 'Christmas', 'Christopher', 'Church', 'City', 'Citys', 'Claim', 'Class', 'Claws', 'Climate', 'Clonie', 'Closeup', 'Cloud', 'Cloudy', 'Club', 'Clues', 'CocaCola', 'Coding', 'College', 'Colombia', 'Color', 'Colorcoded', 'Colosseum', 'Colossus', 'Columbine', 'Columbus', 'Comedy', 'Comics', 'Coming', 'Comma', 'Community', 'Communitypowered', 'Como', 'Compassion', 'Computing', 'Conception', 'Condom', 'Confessions', 'Congo', 'Connected', 'Conserving', 'Constantinople', 'Cooking', 'Cool', 'Cossack', 'Could', 'Courage', 'Cracking', 'Cradle', 'Creative', 'Creativity', 'Creole', 'Crime', 'Crisis', 'Crop', 'Crowdsource', 'Cuba', 'Cuisine', 'Curating', 'Curie', 'Cute', 'Cómo', 'DIY', 'DJ', 'DNA', 'Da', 'Daedalus', 'Dance', 'Dancing', 'Dangerous', 'Dantes', 'Dare', 'Darfur', 'Dark', 'Darwinian', 'Data', 'Dave', 'David', 'Day', 'Dead', 'Deaf', 'Death', 'Debate', 'Debunking', 'Deep', 'Demand', 'Demo', 'Depressed', 'Depression', 'Design', 'Designers', 'Designing', 'Detroit', 'Diagnosing', 'Dichotomy', 'Dictators', 'Different', 'Digging', 'Digital', 'Discover', 'Discovering', 'Distant', 'Dive', 'Divine', 'Doctors', 'Doesnt', 'Dog', 'Dogfriendly', 'Dont', 'Doodlers', 'Dothraki', 'Dragonflies', 'Drawing', 'Drawings', 'Dream', 'Dreams', 'Drugs', 'Druid', 'Dune', 'E', 'ECT', 'ET', 'Eames', 'Earth', 'Earthlike', 'Earths', 'East', 'Easy', 'Ebola', 'Ecofriendly', 'Ecology', 'Economic', 'Edgar', 'Education', 'Edward', 'Egyptian', 'Einstein', 'Einsteins', 'El', 'Elastic', 'Electoral', 'Electrical', 'Elvish', 'Embrace', 'Embracing', 'Emergency', 'Empathy', 'Empire', 'Empower', 'Encyclopedia', 'End', 'Ending', 'Energy', 'Engineering', 'English', 'Enough', 'Epic', 'Epiphany', 'Escaping', 'Estefani', 'Ethical', 'Ethiopia', 'Euclids', 'Eureka', 'Europe', 'European', 'Europes', 'Everest', 'Everglades', 'Every', 'Everyday', 'Everyone', 'Everything', 'Evil', 'Evolutions', 'Evoting', 'Excuse', 'Expanding', 'Experiment', 'Experiments', 'Exploring', 'Exposing', 'Extreme', 'Ezra', 'FBI', 'Fab', 'Facebook', 'Facebooks', 'Fahrenheit', 'Fair', 'Faith', 'Fake', 'Falling', 'Family', 'Fashion', 'Father', 'Feats', 'Feed', 'Feynman', 'Fibonacci', 'Fiddling', 'Fifty', 'Fight', 'Fighters', 'Fighting', 'Filming', 'Find', 'Finding', 'Fine', 'Firewall', 'First', 'Fix', 'Flannery', 'Flies', 'Flight', 'Flint', 'Flip', 'Floating', 'Flow', 'Flowers', 'Fly', 'Food', 'Football', 'Forget', 'Forgiveness', 'Formula', 'Found', 'Four', 'Fractals', 'Frank', 'Free', 'Freeing', 'Freud', 'Frida', 'Fun', 'Furnace', 'Fusion', 'Future', 'GDP', 'GPS', 'Game', 'Gaming', 'Gauntlet', 'Gaza', 'Gene', 'General', 'Genomics', 'Get', 'Ghana', 'Giants', 'Glass', 'Glimpses', 'Global', 'Globalizing', 'Glorious', 'Glowing', 'Glowinthedark', 'Go', 'God', 'Godot', 'Goghs', 'Golden', 'Golding', 'Goliath', 'Good', 'Google', 'Googles', 'Gorgeous', 'Got', 'Government', 'Governments', 'Grade', 'Gratitude', 'Great', 'Greek', 'Greening', 'Greenland', 'Grief', 'Grit', 'Ground', 'Grow', 'Growing', 'Gulf', 'Gyotaku', 'HIV', 'HIVAIDS', 'HP', 'HPV', 'Hack', 'Hackers', 'Hacking', 'Haiti', 'Half', 'Halluci', 'Hamilton', 'Hamlet', 'Handson', 'Happiness', 'Happy', 'Harriet', 'Harvey', 'Haunting', 'Hawkings', 'Healing', 'Health', 'Healthier', 'Heisenberg', 'Heist', 'Help', 'Helping', 'Henry', 'Herbert', 'Hercules', 'Heres', 'Hey', 'Hidden', 'Hiding', 'High', 'Highaltitude', 'Highlight', 'Hightech', 'Hill', 'Hindu', 'Hint', 'Hire', 'History', 'Historys', 'Hitler', 'Ho', 'Hold', 'Hollywood', 'Hollywoods', 'Holocaust', 'Home', 'Homeopathy', 'Hooked', 'Hope', 'Hopeful', 'Horse', 'Hotel', 'House', 'Housing', 'Human', 'Humancentered', 'Humanity', 'Humble', 'Hundred', 'Hunting', 'Hunts', 'Hurdygurdy', 'Hurricane', 'Hypersonic', 'II', 'IQ', 'ISIS', 'IVF', 'Icarus', 'Ice', 'Icelands', 'Ideas', 'Idol', 'Ill', 'Illuminati', 'Illusion', 'Illusions', 'Im', 'Image', 'Imaginative', 'Imagine', 'Imaging', 'Immigrant', 'Immortality', 'Impossible', 'Improvising', 'Inconvenient', 'Increase', 'Index', 'India', 'Indian', 'Indias', 'Indigenous', 'Industrial', 'Infinite', 'Infinity', 'Infirmary', 'Information', 'Ingenious', 'Ingenuity', 'Ink', 'Innovating', 'Inside', 'Insightful', 'Insights', 'Inspiring', 'Institutions', 'Insults', 'International', 'Internet', 'Internets', 'Interpassion', 'Intimate', 'Intricate', 'Inventing', 'Invest', 'Investigating', 'Invisibility', 'Iran', 'Iranian', 'IranianAmerican', 'Iraq', 'Irish', 'Isis', 'Islam', 'Islamophobia', 'Israel', 'It’s', 'Ive', 'Iyeza', 'I’ve', 'JK', 'James', 'Jane', 'January', 'Japanese', 'Jason', 'JeanMichel', 'Jeopardy', 'Jersey', 'Jetman', 'Jill', 'John', 'Join', 'Jordans', 'Jorge', 'Journalism', 'Joy', 'Juggle', 'Juggling', 'Julia', 'Kabuki', 'Kafka', 'Kahlo', 'Keep', 'Kenya', 'Kenyas', 'Khmer', 'Kid', 'Kids', 'Killing', 'King', 'Kiss', 'Kiteflyers', 'Klingon', 'Know', 'Koran', 'Korea', 'Kurt', 'LA', 'LEGO', 'LGBT', 'LHC', 'LIGO', 'La', 'Lab', 'Laptop', 'Latina', 'Laws', 'Lead', 'Leaning', 'Learn', 'Learning', 'Leather', 'Lee', 'Leonardo', 'Leone', 'Less', 'Lessons', 'Let', 'Lets', 'Letting', 'Let’s', 'Level', 'LiFi', 'Liberal', 'Library', 'Libyas', 'Licking', 'Lies', 'Life', 'Lifelike', 'Lifes', 'Lifesaving', 'Light', 'Linux', 'Lion', 'Listen', 'Listening', 'Literally', 'Live', 'Lives', 'Living', 'Loaded', 'Loki', 'London', 'Long', 'Look', 'Looking', 'Looks', 'Lord', 'Lose', 'Love', 'Lovecraft', 'Luck', 'Luis', 'Luke', 'Machiavellian', 'Machine', 'Made', 'Madison', 'Magical', 'Magna', 'Make', 'Making', 'Malala', 'Mama', 'Mammoths', 'Man', 'Management', 'Mandela', 'Manhattan', 'Mansa', 'Manufactured', 'Map', 'Mapping', 'Maps', 'Margarita', 'Maria', 'Marie', 'Marine', 'Marketing', 'Mars', 'Martian', 'Marvels', 'Marys', 'Mass', 'Massively', 'Massivescale', 'Master', 'Math', 'Mathemagic', 'Mating', 'Matter', 'Mauritiuss', 'Maya', 'Maybe', 'McMafia', 'McMansions', 'Measuring', 'Medical', 'Medicine', 'Medicines', 'Meet', 'Memes', 'Men', 'Mendeleevs', 'Mendels', 'Mental', 'Mentalism', 'Metal', 'Metaphorically', 'Mexico', 'Michigan', 'Microsofts', 'Middle', 'Midnights', 'Midsummer', 'Might', 'Migration', 'Militant', 'Military', 'Milks', 'Milo', 'Mind', 'Mindblowing', 'Minecraft', 'Minh', 'Mining', 'MoMA', 'Model', 'Moleeds', 'Mondrian', 'Mongol', 'Mongolian', 'Monkey', 'Monopoly', 'Months', 'Moon', 'Moral', 'Morning', 'Mosquitos', 'Mother', 'Mothers', 'Mountain', 'Moving', 'Mr', 'Musa', 'Museum', 'Museums', 'Music', 'Musical', 'Muslim', 'Myths', 'NGO', 'NSA', 'Napoleon', 'Nation', 'Nationalism', 'Natural', 'Nature', 'Navi', 'Navigating', 'Navy', 'Nazis', 'Need', 'Nelson', 'Nerdcore', 'Neruda', 'Net', 'Netflix', 'Netherlands', 'Never', 'New', 'Nigeria', 'Nigerias', 'Night', 'Nights', 'Nikola', 'Nixon', 'Noise', 'Nollywood', 'Nonlethal', 'Norden', 'Normans', 'North', 'Notes', 'Nothing', 'Nutritionist', 'Nword', 'OCD', 'OConnor', 'OK', 'OKCupid', 'OLPC', 'Obesity', 'Octavia', 'Oddity', 'Ode', 'Odes', 'Old', 'Older', 'Olympics', 'One', 'Online', 'Open', 'Opensource', 'Opensourced', 'Opposites', 'Optical', 'Orb', 'Organic', 'Ori', 'Origami', 'Orion', 'Orwellian', 'Oumuamua', 'PMS', 'PTSD', 'PTSDs', 'Pablo', 'PacMan', 'Pacific', 'Pakistan', 'Pakistani', 'Panama', 'Pandoras', 'Panther', 'Paper', 'Papers', 'Paradox', 'Paraorchestra', 'Parasitic', 'Paris', 'Parkinsons', 'Parkland', 'Parks', 'Part', 'Party', 'Pascals', 'Passacaglia', 'Passion', 'Patient', 'Pay', 'Peace', 'Pearl', 'People', 'Personalized', 'Perspective', 'Perus', 'Philippines', 'Philosophical', 'Philosophy', 'PhotoSynth', 'Photographing', 'Photographs', 'Photos', 'Physical', 'Pink', 'Pirates', 'Pisa', 'Pistol', 'Pivot', 'Pixar', 'Plan', 'Planet', 'Planning', 'Plant', 'Plath', 'Platos', 'Play', 'Playing', 'Playtime', 'Please', 'Pleo', 'Plug', 'Plussize', 'Poe', 'Poems', 'Poetry', 'Pointing', 'Polaroid', 'Pole', 'Political', 'Politics', 'Pool', 'Pop', 'Por', 'Porque', 'Portraits', 'Postcrash', 'Poverty', 'Prepare', 'Principle', 'Print', 'Printing', 'Prison', 'Profit’s', 'Programming', 'Progress', 'Project', 'Protect', 'Protecting', 'Psychedelic', 'Public', 'Puerto', 'Pumper', 'Punishment', 'Puppies', 'Put', 'Qatari', 'Queen', 'Questioning', 'Questions', 'Quixote', 'Race', 'Racism', 'Radical', 'Rasputin', 'Ray', 'Reach', 'Rebel', 'Rebelosis', 'Rebuilding', 'Reconnecting', 'Redefining', 'Redemption', 'Reducing', 'Reengineering', 'Reexamining', 'Reflections', 'Refugees', 'Reinventing', 'Religion', 'Religions', 'Remaking', 'Remember', 'Remote', 'Reporting', 'Republic', 'Republican', 'Resistance', 'Rethink', 'Rethinking', 'Retouching', 'Retrofitting', 'Revealing', 'Revelations', 'Reviving', 'Revolution', 'Reward', 'Rezero', 'Richard', 'Rico', 'Riddle', 'Rite', 'Road', 'Robots', 'Rock', 'Rollercoaster', 'Romance', 'Romans', 'Rome', 'Romes', 'Room', 'Rorschach', 'Rosa', 'Rose', 'Rosetta', 'Rouge', 'Rovers', 'Roy', 'Rule', 'Russia', 'Russian', 'Russias', 'Rwanda', 'SETI', 'SOPA', 'Sacred', 'Salvation', 'Sampling', 'Sampo—', 'Sanitation', 'Saturn', 'Saudi', 'Save', 'Saving', 'Say', 'Scenes', 'School', 'Schrödingers', 'Science', 'Scienceinspired', 'Scientists', 'Scifi', 'Sculpted', 'Sculpting', 'Sculptures', 'Sea', 'Seas', 'Seasons', 'Seattles', 'Second', 'See', 'Seed', 'Selling', 'Seriously', 'Sex', 'Shake', 'Shakespeare', 'Shakespeares', 'Shapeshifting', 'Shedding', 'Sherman', 'Shh', 'Shore', 'Show', 'Shut', 'Sierra', 'Sigmund', 'Silicon', 'Siliconbased', 'Silk', 'Simone', 'Simple', 'Simplicity', 'Simplifying', 'Singing', 'Sistema', 'Sistemas', 'Sistine', 'Sisyphus', 'Situational', 'SixthSense', 'Ski', 'Skin', 'Sleep', 'Sloths', 'Small', 'Smart', 'Smash', 'Smelfies', 'Snowdens', 'Social', 'Software', 'Sojourner', 'SolarCity', 'Solitude', 'Solving', 'Sometimes', 'Song', 'Songs', 'Soon', 'Sound', 'South', 'Space', 'SpaceX', 'SpaceXs', 'Spartacus', 'Special', 'SpiderMan', 'Spinosaurus', 'Spore', 'Spot', 'Spring', 'Sputnik', 'St', 'Stage', 'Standing', 'Starry', 'Start', 'States', 'Station', 'Stay', 'Stephen', 'Stone', 'Stories', 'Strange', 'Street', 'Studio', 'Stumbling', 'Stunning', 'Stuxnet', 'Success', 'Suddenly', 'Sugar', 'Super', 'Superheroes', 'Surgerys', 'Surprising', 'Suspended', 'Sustainable', 'Sweat', 'Swim', 'Sylvia', 'Symmetry', 'Synthetic', 'Syria', 'Syrias', 'TB', 'TED', 'TED2006', 'TEDTalks', 'TEDs', 'TV', 'Tagging', 'Taino', 'Take', 'Taken', 'Taking', 'Tales', 'Taliban', 'Talk', 'Talks', 'Talos', 'Tan', 'Tasmanian', 'Tea', 'Teach', 'Teachers', 'Teaching', 'Team', 'Technology', 'Technologys', 'Teen', 'Telescope', 'Tell', 'Telling', 'Tembererana', 'Tempest', 'Terrorism', 'Tesla', 'Texting', 'Thailand', 'Thats', 'Theres', 'There’s', 'Things', 'Think', 'Third', 'Thor', 'Thorium', 'Thoughts', 'Three', 'Thrones', 'Thula', 'Tide', 'Tidying', 'Tim', 'Time', 'Timelapse', 'Tiny', 'Titan', 'Tools', 'Tough', 'Tour', 'Tourettes', 'Toward', 'Tower', 'Toy', 'Toys', 'Tracking', 'Trail', 'Train', 'Training', 'Transition', 'Transplant', 'Trash', 'Treat', 'Treating', 'Trial', 'Tribal', 'Troy', 'Trust', 'Trusting', 'Truth', 'Try', 'Tso', 'Tube', 'Tubman', 'Tuesday', 'Tuesdays', 'Turbulence', 'Turning', 'Turns', 'Twilight', 'Twitter', 'Two', 'Txtng', 'UI', 'US', 'USChina', 'USMexico', 'USbased', 'Ubers', 'Ugly', 'Ukrainian', 'Ultrasound', 'Una', 'Uncertainty', 'Understanding', 'Underwater', 'Undocumented', 'Unintended', 'United', 'Unleash', 'Unlock', 'Unseen', 'Upon', 'Urban', 'Urbanization', 'Use', 'Using', 'VC', 'VIII', 'Valley', 'Van', 'Vestal', 'Victims', 'Vie', 'Viking', 'Vinci', 'Vincis', 'Violence', 'Virginia', 'Virgins', 'Virtual', 'Visions', 'Visual', 'Visualizing', 'Vitruvian', 'Vivaldis', 'Vonnegut', 'Vultures', 'WWIIs', 'Wait', 'Waiting', 'Wake', 'Walk', 'Wall', 'Want', 'War', 'Washington', 'Watch', 'Water', 'Watson', 'Ways', 'Wearable', 'Wearing', 'Weaving', 'Web', 'Webs', 'Weird', 'Welcome', 'West', 'Westboro', 'Weve', 'Whats', 'What’s', 'Wheres', 'White', 'WiFi', 'Wii', 'WikiLeaks', 'Wikipedia', 'Wild', 'William', 'Winning', 'Wireless', 'Wiring', 'Wisdom', 'Witch', 'Without', 'Women', 'Work', 'World', 'WorldWide', 'Worldclass', 'Worlds', 'Would', 'Wry', 'Years', 'Yemen', 'Yes', 'York', 'Yorker', 'Yorkers', 'Yorks', 'YouTube', 'Youd', 'Youve', 'Yup', 'Zabalaza', 'Zen', 'Zenos', 'Zero', 'Zika', 'Zipcar', 'Zombie', 'Zone', 'Zulu', 'abandoned', 'ability', 'able', 'abortion', 'about…', 'absence', 'abstract', 'absurdity', 'abuse', 'accelerating', 'accelerators', 'accent', 'access', 'accessible', 'accident', 'accidentally', 'accidents', 'according', 'accountable', 'accuracy', 'acidpuking', 'acoustic', 'across', 'act', 'action', 'actions', 'activism', 'activist', 'actor', 'acts', 'actually', 'ad', 'adapt', 'adaptability', 'adaptive', 'add', 'addiction', 'addictive', 'address', 'admits', 'adolescent', 'adoption', 'ads', 'adults', 'advanced', 'adventure', 'adversaries', 'adversity', 'advice', 'affect', 'affects', 'affordable', 'aftershock', 'age', 'aged', 'ageism', 'agencies', 'agenda', 'agent', 'ageold', 'ages', 'aging', 'agony', 'agree', 'agreement', 'agricultural', 'agriculture', 'aha', 'ahead', 'aid', 'aids', 'aim', 'air', 'aircondition', 'airplane', 'airquality', 'al', 'alchemy', 'alcohol', 'algae', 'algorithm', 'algorithms', 'alien', 'aliens', 'alive', 'allies', 'allin', 'allowed', 'allstar', 'allterrain', 'ally', 'almost', 'alone', 'alpha', 'alphabetize', 'alphabets', 'also', 'alta', 'alternative', 'altright', 'altruism', 'altruistic', 'always', 'amazing', 'ambitious', 'ambulance', 'amend', 'anatomy', 'ancestor', 'ancestors', 'ancient', 'anesthesia', 'anger', 'angry', 'animal', 'animals', 'animated', 'animation', 'animations', 'annotated', 'anonymity', 'another', 'answer', 'answers', 'ant', 'anthropologist', 'anthropology', 'antiCEO', 'antibiotic', 'antibioticfree', 'antibiotics', 'antidote', 'antihero', 'antimatter', 'antisocial', 'ants', 'anus', 'anxiety', 'anxious', 'anyone', 'anything', 'anywhere', 'apart', 'apartment', 'apathy', 'apes', 'apocalypse', 'apology', 'app', 'apples', 'applying', 'approach', 'apps', 'aprender', 'aquatic', 'archaeologist', 'archaeology', 'architect', 'architects', 'architectural', 'architecture', 'arent', 'arguments', 'aria', 'arm', 'armies', 'arms', 'army', 'around', 'arousal', 'arrange', 'arrived', 'art', 'arte', 'arthritis', 'artificial', 'artist', 'artists', 'arts', 'ashes', 'ask', 'asking', 'asks', 'asphalt', 'assassination', 'assault', 'assumes', 'asteroid', 'asteroids', 'astonishing', 'astonishments', 'astounding', 'astrolabe', 'astronautas', 'astronauts', 'astronomer', 'astronomers', 'astrophysics', 'asylum', 'asymmetrical', 'atheism', 'athlete', 'athletes', 'athletic', 'atlas', 'atmosphere', 'atom', 'atomic', 'attack', 'attacks', 'attempt', 'attend', 'attention', 'attitudes', 'attraction', 'augmented', 'authentic', 'author', 'autism', 'autistic', 'automation', 'autonomous', 'available', 'avoid', 'avoidable', 'awaiting', 'award', 'awards', 'awardwinning', 'away', 'awe', 'awesome', 'awful', 'b', 'babies', 'baby', 'babys', 'back', 'backup', 'backyard', 'bacteria', 'bacterias', 'bad', 'bag', 'bags', 'bail', 'balance', 'balancing', 'bald', 'ballbot', 'ballet', 'bamboo', 'ban', 'banana', 'bandstand', 'banjo', 'bank', 'bar', 'barbershops', 'barefoot', 'baseline', 'basic', 'basketballs', 'bat', 'bath', 'bathrooms', 'bats', 'batteries', 'battle', 'battles', 'beach', 'beam', 'bear', 'bears', 'beat', 'beatbox', 'beatboxing', 'beatjazz', 'beats', 'beautiful', 'beauty', 'became', 'become', 'becomes', 'becoming', 'beep', 'bees', 'beetle', 'beginners', 'beginning', 'behave', 'behavior', 'behavioral', 'beheadings', 'behind', 'belief', 'beliefs', 'believe', 'believing', 'belong', 'belongs', 'benefit', 'benefits', 'best', 'betrayed', 'better', 'beyond', 'bias', 'biases', 'biblically', 'bichos', 'big', 'bigdata', 'bigger', 'biggest', 'bike', 'bilingual', 'bill', 'billion', 'billions', 'binary', 'biodiversity', 'bioengineering', 'biofabrication', 'biofuture', 'biological', 'biology', 'bioluminescence', 'bionics', 'bipartisan', 'bipolar', 'bird', 'birds', 'birth', 'bizarre', 'black', 'blank', 'blazars', 'bleeding', 'blend', 'blind', 'blindfolded', 'blindness', 'blink', 'blob', 'blockchain', 'blocks', 'blog', 'blood', 'bloodlines', 'bluegrass', 'blueprint', 'blueprints', 'boat', 'bodies', 'body', 'bodys', 'boiling', 'bold', 'boldly', 'bombers', 'bombing', 'bombs', 'bombsight', 'bond', 'bonds', 'bone', 'bones', 'bonobo', 'bonobos', 'book', 'books', 'bookshelf', 'boom', 'boomandbust', 'boomers', 'booming', 'boost', 'border', 'borders', 'boredom', 'boring', 'born', 'bother', 'bottom', 'bowmaking', 'box', 'boxes', 'boy', 'boys', 'brain', 'brainchanging', 'brains', 'brainwaves', 'brand', 'branded', 'brandnew', 'brands', 'brave', 'bravery', 'bread', 'break', 'breaking', 'breaks', 'breast', 'breath', 'breathalyzer', 'breathe', 'breathes', 'breathing', 'breathtaking', 'bricks', 'bridge', 'brief', 'brilliance', 'brilliant', 'bring', 'bringing', 'brings', 'broadcasting', 'broke', 'broken', 'brokers', 'brood', 'brooding', 'brother', 'brothers', 'brought', 'brush', 'brutal', 'bubble', 'bubbles', 'budgets', 'bug', 'buggy', 'bugs', 'build', 'builder', 'building', 'buildings', 'builds', 'built', 'bulb', 'bullied', 'bumble', 'bunnies', 'burial', 'burnout', 'buses', 'business', 'businesses', 'businessman', 'businesswoman', 'bustle', 'butt', 'butterflies', 'butterfly', 'button', 'buy', 'buzz', 'bygone', 'calculus', 'call', 'called', 'calling', 'calls', 'calm', 'calorie', 'came', 'camels', 'camera', 'cameras', 'campaign', 'camps', 'cancer', 'cancers', 'candy', 'cannabis', 'cannibalism', 'canopy', 'cant', 'canvas', 'capacita', 'capital', 'capitalism', 'capsule', 'capsules', 'captivity', 'captured', 'car', 'carbohydrates', 'carbon', 'card', 'cards', 'care', 'career', 'careers', 'caregiver', 'caregivers', 'caretakers', 'caring', 'carnivorous', 'carries', 'carry', 'carrying', 'cars', 'carseats', 'cart', 'cartels', 'cartoon', 'cartoonist', 'cartoons', 'case', 'cash', 'casualties', 'cat', 'catastrophic', 'catch', 'cats', 'caught', 'cause', 'causes', 'cave', 'cavefish', 'caves', 'cavities', 'ceasefire', 'celebrates', 'celebrating', 'celebration', 'celebrity', 'cell', 'cellist', 'cello', 'cells', 'cemeteries', 'census', 'center', 'centuries', 'century', 'centurys', 'cephalopods', 'chain', 'chair', 'challenge', 'challenges', 'challenging', 'champagne', 'champion', 'champions', 'chance', 'change', 'changed', 'changes', 'changing', 'channeled', 'chaotic', 'character', 'characters', 'charge', 'charity', 'charming', 'charter', 'chaser', 'cheap', 'cheaper', 'cheat', 'check', 'cheese', 'cheetahs', 'chefs', 'chemical', 'chemicals', 'chemistry', 'chemotherapy', 'chess', 'chicken', 'chief', 'child', 'childdriven', 'childhood', 'children', 'childrens', 'chilling', 'chimpanzees', 'chip', 'chips', 'chocolate', 'choice', 'choices', 'choir', 'choke', 'choose', 'choosing', 'chopsticks', 'choreographers', 'chose', 'chromosomes', 'chronic', 'church', 'cigarette', 'cigarettes', 'cine', 'cinematic', 'circle', 'circuits', 'circular', 'cities', 'citizen', 'citizens', 'city', 'citys', 'civic', 'civil', 'civilian', 'civilians', 'civility', 'civilization', 'civilizations', 'claim', 'clams', 'class', 'classical', 'classroom', 'clay', 'clean', 'cleaner', 'cleaning', 'click', 'clickbait', 'cliff', 'climate', 'climates', 'climb', 'climbed', 'climbing', 'cliteracy', 'clock', 'close', 'closure', 'clothes', 'clothing', 'clouds', 'clowning', 'clues', 'cluster', 'coach', 'coating', 'cockroach', 'coconspirator', 'code', 'codex', 'coexist', 'coffee', 'cognitive', 'cohousing', 'coincidence', 'cold', 'coldest', 'collaboration', 'collaborative', 'collapse', 'colleague', 'collective', 'collectors', 'college', 'collided', 'colonies', 'colony', 'color', 'colorism', 'colors', 'combat', 'combine', 'come', 'comedy', 'comer', 'comes', 'comet', 'comfortable', 'comic', 'comics', 'coming', 'commandments', 'commercialization', 'commit', 'commodities', 'common', 'communicate', 'communication', 'communities', 'community', 'communityled', 'como', 'companies', 'company', 'companys', 'compass', 'compassion', 'compassionate', 'competitors', 'complex', 'complexity', 'complicated', 'compose', 'computer', 'computers', 'computing', 'con', 'concrete', 'concussion', 'concussions', 'condition', 'conditioning', 'condoms', 'conductors', 'confess', 'confidence', 'confinement', 'conflict', 'conflicts', 'confront', 'connect', 'connected', 'connection', 'connections', 'connectome', 'connects', 'conquered', 'conscience', 'conscious', 'consciousness', 'consequences', 'conservation', 'conservatives', 'conserve', 'consider', 'conspiracy', 'constant', 'constraints', 'constructively', 'consumer', 'consumers', 'consumption', 'contagious', 'context', 'continent', 'continents', 'continuous', 'contraceptive', 'contraceptives', 'contradictions', 'control', 'controlled', 'controls', 'conversation', 'conversations', 'cookies', 'cooking', 'cool', 'coolest', 'cooperate', 'cooperation', 'coparent', 'coparenting', 'cope', 'copyright', 'coral', 'corals', 'corn', 'corners', 'coronavirus', 'corporate', 'corporations', 'correctness', 'corrupt', 'corruption', 'corruptions', 'cosplay', 'cost', 'costs', 'cotton', 'could', 'council', 'count', 'countless', 'countries', 'country', 'countrys', 'counts', 'couples', 'courage', 'courageous', 'course', 'courses', 'covered', 'covers', 'coworkers', 'crack', 'cracked', 'cracks', 'cradle', 'craft', 'crafts', 'crap', 'crash', 'crashed', 'craves', 'craving', 'crazy', 'create', 'created', 'creates', 'creating', 'creations', 'creative', 'creativity', 'creator', 'creature', 'creatures', 'credibilidad', 'credit', 'cricket', 'crime', 'crimes', 'criminal', 'criminalize', 'crises', 'crisis', 'critical', 'critics', 'crop', 'crops', 'cross', 'crossing', 'crowds', 'crowdsource', 'crowdsourced', 'crows', 'crucial', 'cry', 'cryptocurrency', 'cryptographers', 'crystal', 'crystals', 'cuddly', 'cuerpo', 'cults', 'cultural', 'culture', 'cultures', 'cup', 'curb', 'cure', 'cured', 'curiosity', 'curiositydriven', 'curious', 'currency', 'currents', 'cursed', 'custommade', 'cut', 'cuts', 'cyber', 'cyberattacks', 'cybercrime', 'cybermagic', 'cyborgs', 'cycle', 'cymatics', 'cynicism', 'da', 'dad', 'dads', 'damaged', 'damned', 'dance', 'dancer', 'dancing', 'danger', 'dangerous', 'dangers', 'dared', 'daring', 'dark', 'darkness', 'darle', 'data', 'database', 'dataset', 'date', 'dating', 'daughter', 'daughters', 'dawn', 'day', 'days', 'dazzling', 'de', 'dead', 'deadliest', 'deadly', 'deaf', 'deal', 'dealing', 'death', 'debate', 'deberíamos', 'debunked', 'debut', 'decade', 'deceive', 'decentralized', 'deception', 'deceptive', 'decided', 'decides', 'decision', 'decisionmaking', 'decisions', 'deck', 'decks', 'decline', 'deconstruct', 'deeds', 'deep', 'deepest', 'deepfakes', 'deepsea', 'deextinction', 'defeat', 'defend', 'defending', 'defense', 'defibrillator', 'defied', 'define', 'definition', 'defy', 'degree', 'del', 'delightful', 'deliver', 'demanded', 'demands', 'dementia', 'demise', 'demo', 'democracy', 'democratic', 'denial', 'depends', 'depressed', 'depression', 'descent', 'describe', 'desertification', 'deserve', 'design', 'designed', 'designer', 'designers', 'designing', 'designs', 'desire', 'desktop', 'desperate', 'destiny', 'destroy', 'destroyed', 'destroys', 'detail', 'detailed', 'details', 'detect', 'detection', 'detects', 'determination', 'developer', 'developing', 'development', 'developmental', 'device', 'devices', 'diagnose', 'dialogue', 'diaspora', 'dictator', 'dictatorship', 'dictatorships', 'didnt', 'didn’t', 'die', 'dies', 'diet', 'dieting', 'difference', 'different', 'differently', 'difficult', 'dig', 'digging', 'digital', 'digitally', 'dignity', 'dilemma', 'dimension', 'dinner', 'dinosaur', 'dinosaurs', 'diplomat', 'dirty', 'disabilities', 'disability', 'disabled', 'disagree', 'disappeared', 'disappearing', 'disarming', 'disaster', 'disclose', 'discover', 'discovered', 'discoveries', 'discovering', 'discovery', 'discrimination', 'disease', 'diseases', 'disgust', 'disorder', 'disorders', 'displace', 'displacing', 'dissection', 'distant', 'distinto', 'distorts', 'distraction', 'dive', 'diverse', 'diversidad', 'diversity', 'divide', 'divided', 'diving', 'division', 'divorce', 'doctor', 'doctorheroes', 'doctors', 'doesnt', 'dog', 'dogs', 'dollar', 'dolphins', 'domestic', 'domesticate', 'donate', 'done', 'donors', 'dont', 'don’t', 'doomed', 'door', 'doors', 'double', 'doubt', 'download', 'dragon', 'dragonflys', 'drain', 'drama', 'dramatic', 'draw', 'drawing', 'dread', 'dream', 'dreaming', 'dreams', 'drink', 'drinkable', 'drive', 'driver', 'driverless', 'drivers', 'drives', 'droids', 'drone', 'drones', 'droneseye', 'drop', 'drought', 'drug', 'drugresistant', 'drugs', 'drum', 'drunk', 'dry', 'drywall', 'duck', 'duddly', 'dunes', 'dung', 'duo', 'dust', 'duty', 'dying', 'dying”', 'dyslexia', 'dystopia', 'déjà', 'ePatient', 'earlier', 'early', 'earn', 'ears', 'earth', 'earthbound', 'earthquakes', 'earths', 'ease', 'easier', 'easiest', 'east', 'easy', 'eat', 'eats', 'ecigarettes', 'eclipse', 'ecoentrepreneurship', 'ecology', 'ecomindshift', 'economic', 'economics', 'economies', 'economy', 'ecosystem', 'ecosystems', 'ecstasy', 'edge', 'edit', 'editing', 'educate', 'education', 'educations', 'educators', 'effect', 'effective', 'effectively', 'effectivelyfor', 'effects', 'efficiency', 'efforts', 'egg', 'ego', 'el', 'elder', 'election', 'electric', 'electricity', 'electrifying', 'electroconvulsive', 'electronic', 'electronics', 'electrons', 'electroshock', 'elegance', 'elephants', 'eliminate', 'eliminated', 'elses', 'elusive', 'email', 'emails', 'embrace', 'embracing', 'emergence', 'emergent', 'emerging', 'emociona', 'emoticons', 'emotion', 'emotional', 'emotions', 'empathy', 'empire', 'employ', 'employees', 'empower', 'empowered', 'empowering', 'empowerment', 'empowers', 'en', 'enable', 'enables', 'enchanting', 'encourage', 'encryption', 'encyclopedia', 'end', 'endangered', 'ended', 'endgame', 'ending', 'endorsement', 'enduring', 'energy', 'energys', 'engineer', 'engineered', 'engineering', 'engineers', 'enhance', 'enigmas', 'enjoy', 'enough', 'ensemble', 'enseño', 'entertainment', 'entire', 'entrance', 'entrepreneur', 'entrepreneurs', 'environment', 'environmental', 'envy', 'enzymes', 'epic', 'epidemic', 'epidemics', 'epilepsy', 'equal', 'equality', 'equation', 'era', 'eradicating', 'error', 'escape', 'escaped', 'escaping', 'espacio', 'essential', 'ethic', 'ethical', 'ethnic', 'eulogy', 'even', 'events', 'ever', 'every', 'everyday', 'everyone', 'everything', 'everywhere', 'evidence', 'evil', 'evolution', 'evolutionary', 'evolutionist', 'evolve', 'evolved', 'evolves', 'evolving', 'exactly', 'exam', 'examines', 'example', 'exception', 'exchange', 'excited', 'executive', 'exercise', 'exhilarating', 'exile', 'exist', 'exoskeletons', 'expanding', 'experience', 'experiment', 'experiments', 'expert', 'experts', 'explain', 'explained', 'explains', 'explanation', 'exploit', 'exploration', 'explorations', 'explore', 'explorers', 'exploring', 'explosion', 'expose', 'exposed', 'express', 'expressing', 'expressions', 'extend', 'extension', 'extinction', 'extinctions', 'extort', 'extra', 'extraordinary', 'extraterrestrial', 'extreme', 'extremism', 'extremist', 'eye', 'eyeglasses', 'eyelid', 'eyes', 'eyewitnesses', 'face', 'faces', 'facial', 'facing', 'fact', 'fail', 'failed', 'failing', 'failure', 'fair', 'faith', 'faiths', 'fake', 'fall', 'fallacy', 'falling', 'fallout', 'fame', 'families', 'family', 'famous', 'famously', 'fangirls', 'fantastical', 'far', 'farmers', 'farming', 'farms', 'fascinating', 'fascism', 'fashion', 'fashions', 'fast', 'fastchanging', 'faster', 'fastest', 'fastgrowing', 'fastpaced', 'fat', 'fate', 'father', 'fatherdaughter', 'fatigue', 'fear', 'fearing', 'fearlessly', 'fears', 'feathers', 'fed', 'feed', 'feedback', 'feel', 'feeling', 'feelings', 'feels', 'feet', 'fell', 'fellow', 'female', 'feminine', 'feminism', 'feminist', 'feminists', 'fertilization', 'festival', 'fever', 'fewer', 'fiction', 'fictional', 'fiddling', 'fields', 'fierce', 'fight', 'fighting', 'fights', 'figure', 'film', 'filmmakers', 'filmmaking', 'filter', 'filtering', 'filthy', 'final', 'finally', 'finance', 'financial', 'find', 'finds', 'fines', 'fingerprints', 'fire', 'firefighter', 'fireflies', 'first', 'fiscal', 'fish', 'fishing', 'fission', 'fit', 'five', 'fix', 'flags', 'flat', 'fleet', 'flexible', 'flies', 'flight', 'flirtatious', 'floating', 'floaty', 'flooded', 'floods', 'floor', 'flowers', 'flowershaped', 'flowing', 'flows', 'flu', 'fluent', 'fly', 'flying', 'focus', 'foie', 'fold', 'folding', 'folds', 'folklore', 'food', 'fool', 'fooled', 'footage', 'football', 'force', 'forensic', 'forest', 'forests', 'forever', 'forged', 'forger', 'forget', 'forgiveness', 'forgotten', 'form', 'former', 'forms', 'fortune', 'forward', 'fossil', 'fotografía', 'fought', 'found', 'foundation', 'founder', 'founders', 'four', 'fracaso', 'fractals', 'fragile', 'fragility', 'frames', 'fraud', 'freakonomics', 'free', 'freed', 'freediving', 'freedom', 'frees', 'frenzies', 'fresh', 'friction', 'fridge', 'friend', 'friends', 'friendship', 'fright', 'frog', 'front', 'fruit', 'frustration', 'fuddly', 'fuel', 'fuels', 'full', 'fullband', 'fully', 'fun', 'function', 'fund', 'fundamental', 'fundamentalism', 'fundamentals', 'funded', 'funding', 'fundraiser', 'fungi', 'funny', 'fury', 'fuse', 'fusion', 'future', 'futures', 'futurist', 'futuristic', 'futuro', 'g', 'gain', 'gained', 'galactic', 'galaxies', 'galaxy', 'galleries', 'game', 'games', 'gangland', 'gap', 'garden', 'gardener', 'gardening', 'gas', 'gastric', 'gatherings', 'gave', 'gay', 'gecko', 'geckos', 'gel', 'gender', 'genderbased', 'genderfluid', 'genderneutral', 'gene', 'generate', 'generation', 'generational', 'genes', 'genesis', 'genetic', 'genetics', 'genitalia', 'genius', 'genome', 'genomic', 'gentle', 'gentler', 'gentrification', 'geoengineering', 'germs', 'get', 'gets', 'getting', 'gettogethers', 'ghastly', 'ghetto', 'ghost', 'giant', 'gift', 'girl', 'girls', 'give', 'giver', 'gives', 'giving', 'glacier', 'gladiator', 'glamour', 'glass', 'glider', 'glimpse', 'global', 'globalism', 'globe', 'glory', 'glue', 'go', 'goals', 'god', 'goddess', 'gods', 'goes', 'going', 'gold', 'good', 'goods', 'gospel', 'got', 'goths', 'gotten', 'government', 'governments', 'grab', 'graduate', 'grain', 'grammar', 'grandfather', 'grandmothers', 'grandparents', 'granted', 'graphic', 'gras', 'grasp', 'grateful', 'gravitational', 'gravity', 'great', 'greater', 'greatest', 'greatness', 'greed', 'green', 'greeneyed', 'greenhouse', 'greentech', 'grew', 'grid', 'gridlock', 'grief', 'gross', 'grossest', 'ground', 'groundbreaking', 'group', 'groups', 'grow', 'growing', 'grownups', 'grows', 'growth', 'guerrilla', 'guerrillas', 'guest', 'guide', 'guitar', 'guitarist', 'gun', 'guns', 'gut', 'guys', 'habit', 'habitable', 'habitats', 'habits', 'hablar', 'hack', 'hacked', 'hackers', 'hacks', 'hair', 'hallucinates', 'hallucination', 'hallucinations', 'hammer', 'handbags', 'handful', 'handouts', 'hands', 'handwashing', 'happen', 'happened', 'happening', 'happens', 'happier', 'happiness', 'happy', 'harassment', 'harbor', 'hard', 'harder', 'hardest', 'hardly', 'hardwired', 'harm', 'harmony', 'harms', 'harnessed', 'harnessing', 'harvest', 'harvesting', 'hasnt', 'hat', 'hate', 'haters', 'havent', 'haven’t', 'haystacks', 'hazard', 'head', 'headaches', 'headed', 'headline', 'headlines', 'heads', 'headscarf', 'headset', 'heal', 'healing', 'heals', 'health', 'healthcare', 'healthier', 'healthy', 'hear', 'heard', 'hearing', 'heart', 'heartburn', 'hearts', 'heat', 'held', 'helmets', 'help', 'helped', 'helping', 'helps', 'herd', 'heres', 'heresies', 'heritage', 'hero', 'heroes', 'heroic', 'hiccup', 'hidden', 'hide', 'hides', 'hiding', 'high', 'higher', 'highly', 'highstakes', 'hilarious', 'hilariously', 'hint', 'hip', 'hiphop', 'hippocampus', 'hippos', 'hire', 'historia', 'historic', 'historical', 'histories', 'history', 'historys', 'hit', 'hits', 'hitting', 'hive', 'hoards', 'hold', 'holds', 'hole', 'holes', 'hologram', 'holograms', 'home', 'homeless', 'homelessness', 'homes', 'homework', 'honest', 'honey', 'honeybees', 'honor', 'honoring', 'hoodie', 'hop', 'hope', 'hormones', 'horror', 'hospital', 'hospitals', 'hostage', 'hotbeds', 'house', 'houses', 'housing', 'huge', 'human', 'humancomputer', 'humanism', 'humanities', 'humanity', 'humanitys', 'humans', 'humble', 'hummingbird', 'humor', 'hump', 'hundreds', 'hunger', 'hungry', 'hunt', 'hunter', 'hunts', 'hurricane', 'hurt', 'hurting', 'hustle', 'hybrid', 'hyperlink', 'hypothesis', 'iPod', 'iPods', 'ice', 'icecold', 'icon', 'iconic', 'icy', 'idea', 'ideas', 'identity', 'ideology', 'idol', 'ignorance', 'ignorant', 'ignore', 'ignores', 'ill', 'illness', 'illusion', 'illusions', 'illustrated', 'image', 'images', 'imaginary', 'imagination', 'imagine', 'immersion', 'immigrant', 'immigrants', 'immigration', 'immortal', 'immortality', 'immune', 'immunity', 'impact', 'impeachment', 'imperfect', 'imperfection', 'impermanent', 'implants', 'implications', 'importa', 'importance', 'important', 'impossible', 'imposter', 'impostor', 'impression', 'impressions', 'improv', 'improve', 'improvised', 'incarcerated', 'incarceration', 'include', 'included', 'includes', 'including', 'inclusion', 'income', 'incompetent', 'incomplete', 'inconvenient', 'increase', 'incredible', 'independent', 'indigenous', 'indoor', 'industrial', 'industry', 'inequality', 'inevitable', 'infamous', 'infect', 'infections', 'infectious', 'infidelity', 'infinite', 'infinity', 'influence', 'inform', 'informal', 'information', 'ingenious', 'ingenuity', 'ingredient', 'initiative', 'injuries', 'injustice', 'inkblot', 'inmates', 'inner', 'innocent', 'innovate', 'innovation', 'innovations', 'innovative', 'innovator', 'inquiry', 'insects', 'inside', 'insight', 'insights', 'insist', 'insomnia', 'inspiration', 'inspire', 'inspired', 'instantly', 'instead', 'institutions', 'instrument', 'instruments', 'insurance', 'intangible', 'intelligence', 'intelligent', 'interaction', 'interactive', 'interest', 'interface', 'intergalactic', 'interna', 'international', 'internet', 'interplanetary', 'interpreters', 'intersection', 'intersectionality', 'intersections', 'interspecies', 'interview', 'intimacy', 'intricate', 'intriguing', 'intro', 'introverts', 'intuitive', 'invade', 'invent', 'invented', 'invention', 'inventions', 'inventor', 'inventory', 'invest', 'investigating', 'investing', 'investment', 'investor', 'investors', 'invisible', 'invisibly', 'invitation', 'invited', 'involving', 'iron', 'irony', 'irrational', 'island', 'isnt', 'isolation', 'issue', 'itch', 'jail', 'jailed', 'jails', 'jams', 'jargon', 'jazz', 'jellyfish', 'jest', 'jet', 'jihad', 'jihadist', 'job', 'jobs', 'join', 'joint', 'journalist', 'journalists', 'journey', 'jousting', 'joy', 'joyful', 'judges', 'juggle', 'jumbo', 'jump', 'jungle', 'junk', 'juries', 'jurors', 'justice', 'keep', 'keeps', 'kept', 'ketchup', 'key', 'keyboard', 'keys', 'kick', 'kid', 'kidney', 'kids', 'kidsand', 'kill', 'killed', 'killer', 'killing', 'killings', 'kilometers', 'kind', 'kinder', 'kindergarten', 'kindness', 'kinds', 'king', 'kingdom', 'kit', 'kites', 'kits', 'knee', 'knew', 'knifeedge', 'knots', 'know', 'knowing', 'knowitall', 'knowledge', 'known', 'knows', 'knuckles', 'kōans', 'la', 'lab', 'labor', 'lack', 'ladies', 'laid', 'lakes', 'land', 'landscape', 'landscapes', 'language', 'languages', 'lap', 'largerthanlife', 'largest', 'las', 'laser', 'lasers', 'last', 'lasting', 'lasts', 'late', 'later', 'laugh', 'laughing', 'laughter', 'launch', 'law', 'lawn', 'laws', 'layer', 'le', 'lead', 'leader', 'leaders', 'leadership', 'leaderships', 'leak', 'leaned', 'leap', 'leapt', 'learn', 'learned', 'learner', 'learning', 'leash', 'least', 'leave', 'leaving', 'left', 'lefthanded', 'legacy', 'legal', 'legend', 'legends', 'legs', 'less', 'lesson', 'lessons', 'let', 'lethal', 'lets', 'letter', 'letters', 'letterwriting', 'letting', 'let’s', 'levels', 'levitating', 'lexicography', 'liar', 'liberal', 'liberals', 'librarians', 'library', 'lid', 'lie', 'lies', 'life', 'lifelong', 'lifes', 'lifesaving', 'lifespans', 'lifetime', 'lifetimes', 'light', 'lights', 'like', 'likes', 'limbs', 'limits', 'line', 'lines', 'linguistic', 'link', 'lion', 'lions', 'liquid', 'liquidfilled', 'listen', 'listening', 'literate', 'litter', 'little', 'littletold', 'live', 'lived', 'lives', 'living', 'loan', 'loans', 'loathsome', 'local', 'localizing', 'locals', 'location', 'locked', 'lockedin', 'locker', 'logic', 'logical', 'loneliness', 'lonely', 'long', 'longer', 'longest', 'longforgotten', 'longterm', 'look', 'looked', 'looking', 'looks', 'loop', 'los', 'lose', 'losing', 'loss', 'lost', 'lovable', 'love', 'loved', 'loves', 'lowcost', 'lower', 'lowincome', 'luck', 'lunch', 'lunches', 'lung', 'lurking', 'luz', 'lying', 'lyrical', 'mach20', 'machine', 'machines', 'macro', 'mad', 'made', 'madness', 'magic', 'magical', 'magnificence', 'magnified', 'mail', 'mainframe', 'mainstream', 'make', 'makeover', 'maker', 'makers', 'makerspace', 'makes', 'making', 'malaria', 'male', 'males', 'malls', 'mama', 'mammal', 'mammals', 'mammoth', 'man', 'manage', 'management', 'manera', 'mangrove', 'manhood', 'manhood—one', 'mania', 'manifesto', 'manipulate', 'manipulated', 'manmade', 'manspace', 'manual', 'manufacturing', 'many', 'map', 'maps', 'mar', 'marathon', 'march', 'marijuana', 'marine', 'market', 'marketing', 'marketplaces', 'markets', 'marriage', 'marrow', 'marshmallow', 'masculinity', 'mass', 'massacre', 'massive', 'master', 'mastery', 'mate', 'material', 'materials', 'maternal', 'math', 'mathematical', 'mathematician', 'mathematics', 'matriarchy', 'matrices', 'matter', 'matters', 'may', 'maybe', 'mayors', 'mean', 'meaning', 'meaningful', 'means', 'measure', 'meat', 'mechanics', 'meddling', 'media', 'medical', 'medications', 'medicine', 'medieval', 'meet', 'meeting', 'meetings', 'meets', 'megacities', 'melancholy', 'memes', 'memoria', 'memorial', 'memories', 'memory', 'men', 'meningitis', 'menopause', 'mens', 'mental', 'mercy', 'mesh', 'message', 'messages', 'met', 'metabolism', 'metabolites', 'metaphor', 'metric', 'mi', 'microbes', 'microchip', 'micromanager', 'microscope', 'microscopic', 'microsculpture', 'middle', 'might', 'migrant', 'migrate', 'migration', 'milehigh', 'military', 'milk', 'millennials', 'million', 'millionaire', 'millions', 'mind', 'mindful', 'mindfully', 'minds', 'mindset', 'mindshifting', 'minerals', 'mines', 'mini', 'miniaturized', 'minimart', 'minutes', 'miracle', 'miracles', 'mirage', 'miscommunication', 'misconceptions', 'misdirection', 'misfit', 'misinformation', 'misleading', 'misrepresent', 'miss', 'missing', 'mission', 'mistakes', 'misthink', 'mistreatment', 'misunderstanding', 'mix', 'mixed', 'mixing', 'mobile', 'mock', 'mockingbird', 'model', 'modern', 'modest', 'mole', 'molecular', 'mom', 'moment', 'moments', 'monarch', 'money', 'monitor', 'monitoring', 'monk', 'monkey', 'monopolies', 'monotasking', 'monotony', 'monster', 'moon', 'moons', 'moral', 'morality', 'morals', 'morning', 'morphing', 'mortal', 'mortality', 'mosquito', 'mosquitoborne', 'mosquitoes', 'mosquitos', 'mother', 'motherhood', 'mothers', 'mother’s', 'motion', 'motivate', 'motivates', 'motivation', 'motorcycle', 'mountain', 'mountains', 'mountaintop', 'mourners', 'mouse', 'moustache', 'mouth', 'move', 'movement', 'moves', 'movie', 'movies', 'moving', 'much', 'mud', 'multimedia', 'multiplayer…', 'multiplication', 'multiply', 'multiplying', 'multitasking', 'multitouch', 'multiverse', 'murder', 'murderers', 'murders', 'muscle', 'muscles', 'museum', 'museums', 'mushroom', 'mushrooms', 'music', 'musical', 'must', 'mysteries', 'mysterious', 'mystery', 'mystify', 'myth', 'myths', 'más', 'música', 'nails', 'naked', 'named', 'nameless', 'nano', 'nanoparticles', 'nanotech', 'nanotechnology', 'napkin', 'narcissism', 'narrative', 'narratives', 'nation', 'national', 'nationalism', 'nations', 'native', 'natural', 'nature', 'natures', 'navigate', 'neanderthal', 'near', 'nearly', 'nearrealtime', 'necesitamos', 'neck', 'need', 'needed', 'needle', 'needlefree', 'needs', 'negative', 'negocios', 'neighbor', 'neighborhood', 'neighborhoods', 'neighbors', 'neoNazi', 'neoevolution', 'nerds', 'nerdy', 'net', 'network', 'networks', 'neural', 'neurobunk', 'neurological', 'neurons', 'neuroscience', 'neuroscientist', 'neutral', 'neutron', 'never', 'new', 'news', 'newspapers', 'next', 'nextgen', 'nextgeneration', 'nicotine', 'night', 'nightmare', 'nights', 'ninth', 'nitpicking', 'niños', 'noise', 'noisy', 'nonprofit', 'nonprofits', 'nonviolence', 'nonviolent', 'normal', 'nos', 'nose', 'noses', 'nothing', 'noticed', 'noticing', 'notlife', 'notorious', 'nourishes', 'nourishment', 'novel', 'nowist', 'nuclear', 'nudge', 'nuestra', 'nueva', 'number', 'numbers', 'nun', 'nurses', 'nutritious', 'obese', 'obesity', 'obituaries', 'object', 'objects', 'obligation', 'obscure', 'obsessing', 'obsession', 'obsessions', 'obsolete', 'obstacle', 'obstacles', 'obvious', 'ocean', 'oceans', 'octopus', 'octopuses', 'odds', 'ode', 'offer', 'offering', 'offgrid', 'office', 'officer', 'offplanet', 'often', 'oil', 'old', 'older', 'oldest', 'oldschool', 'ollie', 'omnivores', 'one', 'onechild', 'oneman', 'ones', 'onewoman', 'online', 'open', 'openness', 'opensource', 'opensourced', 'opensourcing', 'opera', 'operant', 'operas', 'operating', 'opinion', 'opinions', 'opioid', 'opportunities', 'opportunity', 'opposing', 'opposite', 'opt', 'optical', 'optimism', 'orbiting', 'orchestra', 'orchids', 'order', 'ordinary', 'organic', 'organize', 'organized', 'organizing', 'organs', 'orgasm', 'origami', 'origin', 'original', 'origins', 'orphanages', 'otherness', 'others', 'otros', 'outbreak', 'outdated', 'outdoor', 'outer', 'outfit', 'outlets', 'outofschool', 'outsmart', 'overcome', 'overdue', 'overeating', 'overlooked', 'overmedicalized', 'overparenting', 'overpowered', 'overwhelmed', 'owe', 'oxytocin', 'oysters', 'ozone', 'pacifist', 'page', 'paid', 'pain', 'painful', 'paint', 'painted', 'painter', 'painting', 'paintings', 'paired', 'pairs', 'palsy', 'pancreatic', 'pandemic', 'pandemics', 'paper', 'para', 'parable', 'paradox', 'parallel', 'paralysis', 'paralyzed', 'paranormal', 'parasite', 'parent', 'parenting', 'parents', 'park', 'parks', 'parrot', 'part', 'particle', 'partisanship', 'parts', 'party', 'pass', 'passage', 'passcode', 'passing', 'passion', 'passionate', 'passionately—no', 'past', 'pasta', 'patch', 'patent', 'patents', 'path', 'pathways', 'patients', 'pattern', 'patterns', 'paved', 'paw0rd', 'pay', 'pays', 'pea', 'peace', 'pecking', 'pee', 'peer', 'pen', 'penalty', 'pencil', 'pendulum', 'penguin', 'penguins', 'penis', 'penny', 'people', 'peoples', 'per', 'perceive', 'percent', 'percentage', 'perfect', 'perfection', 'perfectionism', 'performance', 'performances', 'performs', 'period', 'periodic', 'periods', 'perks', 'permanent', 'perpetual', 'perplexing', 'perseverance', 'person', 'personal', 'personality', 'personalized', 'perspective', 'pest', 'phantom', 'pharmacy', 'phenomenon', 'pheromone', 'philanthropy', 'philosophical', 'philosophy', 'phone', 'phones', 'phosphorus', 'photo', 'photograph', 'photographers', 'photographic', 'photographing', 'photographs', 'photography', 'photoreal', 'photos', 'physical', 'physicians', 'physics', 'pi', 'piano', 'pick', 'picture', 'pictures', 'piece', 'piensan', 'pig', 'pill', 'pillars', 'pills', 'pimples', 'pingpong', 'pirate', 'pitch', 'pitchforks', 'pixel', 'place', 'placebo', 'places', 'plaguebusting', 'plain', 'plan', 'plane', 'planes', 'planet', 'planets', 'plankton', 'planning', 'plant', 'plants', 'plantseye', 'plaque', 'plastic', 'plasticity', 'platforms', 'play', 'playbook', 'players', 'playful', 'playgrounds', 'playing', 'playroom', 'plea', 'please', 'pleasure', 'plot', 'plug', 'plural', 'plutocrats', 'poachers', 'pocket', 'podríamos', 'pods', 'poem', 'poems', 'poet', 'poetry', 'point', 'pointe', 'poison', 'poisonous', 'poker', 'polar', 'polarized', 'police', 'policewomen', 'policies', 'policing', 'policy', 'polio', 'political', 'politicians', 'politics', 'pollen', 'pollination', 'pollution', 'polyphonic', 'poo', 'pool', 'poops', 'poor', 'pop', 'popped', 'population', 'porn', 'portrait', 'portraits', 'positive', 'positivity', 'possibilities', 'possible', 'postage', 'postcrisis', 'posttraumatic', 'posttruth', 'postulate', 'posture', 'potential', 'pounds', 'pour', 'poverty', 'power', 'powered', 'powerful', 'powering', 'powerpoint', 'powers', 'practical', 'practice', 'praise', 'precise', 'precision', 'predators', 'predict', 'prediction', 'predictions', 'prefab', 'pregnancy', 'pregnant', 'prehistoric', 'prejudice', 'prep', 'prepare', 'preparing', 'preschool', 'prescribe', 'present', 'preserve', 'president', 'presidents', 'press', 'pressure', 'prevent', 'prevents', 'preview', 'price', 'prices', 'pride', 'primal', 'prime', 'primer', 'priming', 'princess', 'principles', 'print', 'printable', 'printed', 'printer', 'printing', 'priorities', 'prioritize', 'prison', 'prisoner', 'prisoners', 'prisons', 'pristine', 'privacy', 'private', 'pro', 'probably', 'probe', 'problem', 'problems', 'problemsolving', 'process', 'procrastinator', 'prodigy', 'productive', 'productively', 'products', 'profit', 'profound', 'programar', 'programming', 'progress', 'project', 'projects', 'promise', 'promising', 'proof', 'propagandists', 'properties', 'proposal', 'prosecutors', 'prosper', 'prosperity', 'prosperous', 'prosthetic', 'protect', 'protected', 'protecting', 'protection', 'proteger', 'proteins', 'proteomics', 'protest', 'provocative', 'psychedelicassisted', 'psychological', 'psychology', 'psychopath', 'psychotherapy', 'public', 'publicly', 'pueden', 'pulping', 'pumps', 'punishment', 'puppetry', 'purpose', 'pursue', 'pursuit', 'put', 'puzzle', 'puzzles', 'puzzling', 'pyramid', 'quackery', 'quadcopters', 'quantified', 'quantum', 'quartet', 'quasars', 'que', 'queen', 'queer', 'quest', 'question', 'questions', 'quiet', 'quirky', 'quit', 'quo', 'qué', 'rabbits', 'race', 'racebased', 'racial', 'racially', 'racism', 'radiation', 'radical', 'radically', 'radio', 'rage', 'raids', 'railroads', 'rainforest', 'rainforests', 'raise', 'random', 'randomly', 'rape', 'rapid', 'rare', 'rareanimal', 'rat', 'rational', 'rats', 'raw', 'reach', 'reached', 'reactions', 'reactor', 'reactors', 'read', 'reader', 'readers', 'reading', 'reads', 'ready', 'real', 'realism', 'realistic', 'reality', 'realitys', 'reallife', 'really', 'realworld', 'reason', 'reasons', 'rebel', 'reborn', 'rebuild', 'rebuilding', 'recession', 'recipe', 'reckless', 'reclaim', 'reclaimed', 'recognition', 'recognize', 'recompose', 'reconciliation', 'record', 'records', 'recover', 'recovering', 'recreated', 'recycle', 'recyclers', 'redefining', 'redemption', 'redesign', 'rediscover', 'reduce', 'reduction', 'reef', 'reefs', 'reel', 'reengage', 'reflections', 'reform', 'refugee', 'refugees', 'refuse', 'regenerate', 'regenerative', 'regret', 'reign', 'reimagining', 'reinvent', 'rejection', 'relations', 'relationship', 'reliable', 'relief', 'relies', 'relievers', 'religion', 'rely', 'remake', 'remakes', 'remaking', 'remembered', 'remix', 'remixed', 'removal', 'remove', 'removing', 'renewable', 'renewables', 'rent', 'renting', 'repair', 'repaired', 'repairs', 'repaying', 'repetition', 'replace', 'replaced', 'replacement', 'reply', 'reporter', 'reporters', 'reporting', 'represent', 'representation', 'reprogram', 'rescue', 'rescued', 'research', 'reserve', 'reshape', 'resilience', 'resilient', 'resistance', 'resolve', 'resource', 'respect', 'respectful', 'respond', 'responds', 'response', 'responsible', 'rest', 'restarting', 'restaurants', 'restaurar', 'restorative', 'restore', 'restyled', 'results', 'resume', 'resurrect', 'resurrected', 'rethink', 'retrofuturism', 'returning', 'returns', 'reunion', 'reveal', 'reveals', 'revenge', 'reverse', 'revitalize', 'revive', 'revolution', 'revolutionaries', 'revolutionary', 'revolutionize', 'revolutionizing', 'reward', 'rewild', 'rewire', 'rewrite', 'rewriting', 'rewrote', 'rhetoric', 'rhythm', 'rice', 'rich', 'rid', 'riddle', 'riddles', 'ride', 'ridiculously', 'right', 'rights', 'rise', 'rising', 'risk', 'risked', 'risks', 'risktaker', 'risktaking', 'risky', 'rite', 'ritual', 'rituals', 'river', 'rivers', 'roaches', 'road', 'roadmap', 'roads', 'roam', 'rob', 'roboants', 'robot', 'robotic', 'robots', 'rock', 'rocketry', 'rockets', 'rogue', 'role', 'roles', 'rollercoasters', 'romance', 'room', 'rooms', 'roots', 'rope', 'ropes', 'roughness', 'route', 'row', 'rowed', 'rowing', 'rubble', 'rubies', 'ruedas', 'ruined', 'ruins', 'rule', 'rules', 'run', 'runestones', 'running', 'runs', 'rural', 'rápido', 'résumé', 'sacred', 'sacrifice', 'sacrificing', 'safe', 'safer', 'safety', 'sailing', 'sake', 'salamander', 'salt', 'sampling', 'sane', 'sanitary', 'sanity', 'satellite', 'satellites', 'satire', 'satisfying', 'sauce', 'save', 'saved', 'saves', 'saving', 'saw', 'say', 'saying', 'says', 'scale', 'scaling', 'scandal', 'scanner', 'scene', 'scent', 'scheme', 'schizophrenia', 'scholar', 'school', 'schools', 'science', 'sciences', 'scientific', 'scientifically', 'scientist', 'scientists', 'scifi', 'scores', 'scorpions', 'scraps', 'scrapyard', 'scratch', 'screen', 'screens', 'screwing', 'sculpture', 'sculptures', 'scum', 'sea', 'seafood', 'search', 'searchable', 'seas', 'seat', 'seawater', 'seaweed', 'second', 'secret', 'secretly', 'secrets', 'security', 'see', 'seed', 'seeding', 'seeds', 'seeing', 'seek', 'seems', 'seen', 'sees', 'seizures', 'selected', 'self', 'selfassembles', 'selfassembling', 'selfaware', 'selfawareness', 'selfdeception', 'selfdefense', 'selfdriving', 'selfhealing', 'selfmedicate', 'selforganizing', 'selftranscendence', 'sell', 'selling', 'sells', 'selves', 'semicolon', 'semiintelligent', 'send', 'sending', 'sendup', 'senior', 'sense', 'senses', 'sensuality', 'separate', 'separates', 'separation', 'separations', 'serious', 'seriously', 'service', 'services', 'serving', 'será', 'set', 'setting', 'seven', 'sex', 'sexism', 'sexting', 'sexual', 'sexuality', 'sexy', 'shade', 'shades', 'shadow', 'shake', 'sham', 'shame', 'shamed', 'shaming', 'shape', 'shaped', 'shapes', 'shapeshifting', 'share', 'shareable', 'shared', 'sharing', 'shark', 'sharkdeterrent', 'sharks', 'shatter', 'sheet', 'shells', 'shelter', 'shelters', 'shift', 'shifting', 'shifts', 'shipping', 'ships', 'shocking', 'shoes', 'shooter', 'shooting', 'shop', 'shopping', 'short', 'shortcuts', 'shouldnt', 'show', 'showed', 'shrimp', 'shutting', 'sibling', 'sick', 'sickness', 'side', 'sides', 'sight', 'sign', 'signs', 'silence', 'silent', 'silk', 'silla', 'simple', 'simplicity', 'simplify', 'simulation', 'simulations', 'sing', 'singer', 'singers', 'single', 'singularity', 'sinking', 'sisters', 'sit', 'sites', 'sitting', 'situations', 'six', 'sixth', 'size', 'sizes', 'skateboard', 'sketch', 'ski', 'skills', 'skin', 'sky', 'skyscraper', 'skyscrapers', 'slate', 'slave', 'slavery', 'sleep', 'slime', 'sloths', 'slow', 'slowest', 'slowly', 'slowness', 'slums', 'small', 'smallest', 'smart', 'smarter', 'smartphone', 'smartwatch', 'smell', 'smelly', 'smiling', 'smog', 'smuggler', 'snake', 'sneaker', 'sneakers', 'sniff', 'snollygoster', 'soap', 'soaring', 'sober', 'soccer', 'social', 'societies', 'society', 'soft', 'software', 'solar', 'solarpowered', 'sold', 'soldiers', 'solemn', 'solid', 'solitary', 'solo', 'solution', 'solutions', 'solvable', 'solve', 'solving', 'someday', 'someone', 'someones', 'something', 'sometimes', 'son', 'sonar', 'song', 'songs', 'sonic', 'sons', 'soon', 'sore', 'sorry', 'soul', 'sound', 'sounds', 'soundtrack', 'source', 'space', 'spaceflight', 'spaces', 'spacetime', 'spaghetti', 'spam', 'spark', 'sparked', 'speak', 'speakers', 'speaking', 'special', 'species', 'specific', 'spectacular', 'spectroscopy', 'speeches', 'speed', 'spell', 'spellbinding', 'spelling', 'spending', 'sperm', 'spiciness', 'spider', 'spies', 'spills', 'spin', 'spiraled', 'spirit', 'splash', 'sport', 'sports', 'spot', 'spread', 'spreading', 'spreadsheet', 'sprint', 'spy', 'squares', 'squatter', 'squawking', 'squid', 'squillo', 'squishy', 'stage', 'stairs', 'stalkerware', 'stalled', 'stamp', 'stampedes', 'stand', 'standards', 'star', 'stars', 'starshade', 'start', 'started', 'starting', 'startup', 'startups', 'starve', 'state', 'statistic', 'statistics', 'stats', 'status', 'stay', 'stayathome', 'steal', 'stem', 'step', 'steps', 'stereotypes', 'sticky', 'stifle', 'stigma', 'still', 'stillness', 'stock', 'stocks', 'stolen', 'stood', 'stop', 'stopped', 'store', 'stores', 'stories', 'storing', 'storm', 'storms', 'story', 'storytellers', 'storytelling', 'strange', 'strangeness', 'strangers', 'strategy', 'stratosphere', 'streaming', 'streams', 'streets', 'strength', 'stress', 'stressed', 'stressful', 'strikes', 'string', 'stroke', 'strong', 'stronger', 'structure', 'student', 'students', 'study', 'stuff', 'stunning', 'substance', 'suburbia', 'suburbs', 'subversive', 'succeed', 'succeeding', 'success', 'successful', 'suddenly', 'suffer', 'suffrage', 'sugar', 'suicide', 'suit', 'summer', 'summit', 'sun', 'sunfish', 'sunk', 'superbugs', 'supercharged', 'supercollider', 'supercomputer', 'superconductor', 'superhero', 'superheroes', 'superintelligent', 'supermassive', 'supermodel', 'superpower', 'superpowers', 'superrich', 'superstar', 'superweapon', 'supplies', 'supply', 'support', 'surface', 'surfboards', 'surfing', 'surgeons', 'surgery', 'surplus', 'surprised', 'surprises', 'surprising', 'surprisingly', 'surveillance', 'survival', 'survive', 'survived', 'survives', 'surviving', 'survivors', 'suspicious', 'sustain', 'sustainability', 'sustainable', 'swallowed', 'swam', 'swarm', 'sweeping', 'sweet', 'swim', 'swimming', 'swims', 'swiping', 'switch', 'symbols', 'symmetry', 'sync', 'synchronized', 'syndrome', 'synesthesia', 'synthetic', 'syringe', 'system', 'systematic', 'systemic', 'systems', 'table', 'taboo', 'taboofree', 'taboos', 'tackle', 'tail', 'take', 'taken', 'taker', 'takes', 'taking', 'tale', 'talent', 'tales', 'talk', 'talking', 'talks', 'tall', 'tame', 'tardigrade', 'targeted', 'taste', 'tattoo', 'tattoos', 'taught', 'tax', 'taxis', 'taxonomy', 'te', 'teach', 'teacher', 'teachers', 'teaching', 'team', 'teams', 'tears', 'tech', 'techempowered', 'technologies', 'technologist', 'technology', 'technomagic', 'techonomics', 'teddy', 'teeming', 'teen', 'teenage', 'teenager', 'teenagers', 'teens', 'teetering', 'telescope', 'telescopes', 'television', 'tell', 'telling', 'tells', 'temes', 'temple', 'temporary', 'tempting', 'tennis', 'term', 'terminally', 'terrifying', 'terror', 'terrorism', 'terrorist', 'terrorists', 'terrors', 'test', 'tested', 'testing', 'tests', 'text', 'textbooks', 'texting', 'texts', 'thank', 'thanks', 'thats', 'that’d', 'theater', 'theatrical', 'theft', 'theme', 'theories', 'theory', 'therapy', 'theremin', 'theres', 'theyll', 'theyre', 'thing', 'things', 'think', 'thinkers', 'thinking', 'thinks', 'third', 'thought', 'thoughtful', 'thoughts', 'thousand', 'thousands', 'threat', 'threaten', 'threatening', 'threats', 'three', 'threeword', 'thrift', 'thrilling', 'thrive', 'thrives', 'thriving', 'throat', 'throw', 'thumbwrestling', 'thyroid', 'thyself', 'tics', 'tide', 'tie', 'tiger', 'tiles', 'time', 'timeless', 'times', 'timesaving', 'tinkering', 'tiny', 'tips', 'tired', 'tissue', 'toast', 'toaster', 'today', 'todays', 'together', 'toilets', 'told', 'tolerance', 'tomorrow', 'tomorrows', 'took', 'tool', 'tools', 'top', 'topics', 'topple', 'torture', 'total', 'touch', 'toughest', 'tour', 'tourism', 'toward', 'towards', 'towel', 'tower', 'towers', 'town', 'towns', 'toxic', 'toxins', 'toys', 'track', 'tracker', 'trackers', 'tracks', 'trade', 'tradeoff', 'tradeoffs', 'tradition', 'traditional', 'traffic', 'trafficking', 'tragedy', 'tragic', 'trail', 'trailblazer', 'train', 'training', 'trampled', 'trans', 'transform', 'transformational', 'transformative', 'transformed', 'transforming', 'transforms', 'transfusions', 'transgender', 'transition', 'translate', 'translation', 'translator', 'transparency', 'transparent', 'transplant', 'trash', 'trauma', 'travel', 'treadmills', 'treasures', 'treat', 'treatment', 'tree', 'trees', 'trek', 'triangle', 'triathlon', 'tribes', 'tribute', 'trick', 'tricked', 'trickledown', 'tricks', 'triggers', 'trillion', 'trip', 'troll', 'trolls', 'troubling', 'true', 'truly', 'trump', 'trust', 'trusting', 'truth', 'truths', 'try', 'trying', 'tsunami', 'tsunamis', 'tu', 'tuba', 'tumors', 'tuna', 'tunnel', 'turn', 'turned', 'turning', 'turns', 'turntables', 'turtle', 'twentyfirst', 'twice', 'twilight', 'twin', 'twist', 'twisted', 'two', 'type', 'typeface', 'typefaces', 'types', 'ugliest', 'ugly', 'ultimate', 'ultralowcost', 'un', 'unanimous', 'unanswered', 'unapologetically', 'unboil', 'uncertain', 'uncomfortable', 'uncomplicated', 'uncover', 'undeniable', 'undercover', 'underground', 'undermine', 'undermines', 'underneath', 'underserved', 'understand', 'understanding', 'underwater', 'underworld', 'unearthed', 'unemployment', 'unexpected', 'unflinching', 'unforeseen', 'unhealthy', 'unheard', 'unimaginable', 'unintended', 'unique', 'uniqueness', 'unite', 'united', 'universal', 'universe', 'universes', 'university', 'unknown', 'unlearn', 'unlearned', 'unleash', 'unless', 'unlikeliest', 'unlock', 'unlocked', 'unpaid', 'unpredictable', 'unravel', 'unrecyclable', 'unseeable', 'unseen', 'unsolvable', 'unsolved', 'unstoppable', 'unsubscribe', 'unsung', 'untamed', 'untapped', 'untouchable', 'unusual', 'unveil', 'unwanted', 'update', 'upgrade', 'upload', 'uploading', 'upon', 'uproot', 'upside', 'upstream', 'urban', 'urchin', 'urgency', 'urgent', 'us', 'usar', 'use', 'used', 'usefully', 'useless', 'users', 'uses', 'using', 'usual', 'usually', 'vaccinating', 'vaccine', 'vaccines', 'vacuum', 'valley', 'valor', 'value', 'vampire', 'vanishing', 'vaping', 'vegetarian', 'veggies', 'vehicle', 'velocidad', 'vending', 'venom', 'verbal', 'verge', 'versa', 'versus', 'vertical', 'veterans', 'veterinarians', 'via', 'viajar', 'vice', 'victims', 'video', 'videos', 'view', 'views', 'village', 'villages', 'villains', 'violence', 'violent', 'violin', 'viral', 'virginity', 'virtual', 'virtuosity', 'virus', 'viruses', 'visas', 'visible', 'vision', 'visions', 'visitor', 'visual', 'visualization', 'visualize', 'visualized', 'visuals', 'vital', 'vitiligo', 'vitro', 'voice', 'voices', 'volcanoes', 'volumetric', 'volunteer', 'vote', 'voting', 'vow', 'voz', 'vs', 'vu', 'vulnerability', 'vulnerable', 'vultures', 'wage', 'waiting', 'waking', 'walk', 'walkable', 'walked', 'wall', 'walls', 'wandering', 'want', 'wanted', 'war', 'warehouses', 'warfare', 'warm', 'warming', 'warmings', 'warmth', 'warpspeed', 'warrior', 'warrior’s', 'wars', 'wartime', 'washed', 'washing', 'wasp', 'waste', 'watch', 'watching', 'water', 'wave', 'waves', 'way', 'ways', 'weakness', 'wealth', 'wealthiest', 'weapon', 'weapons', 'wearable', 'weather', 'web', 'webs', 'websites', 'weekday', 'weigh', 'weird', 'weirder', 'welfare', 'well', 'wellbeing', 'went', 'werewolf', 'wetsuit', 'weve', 'whale', 'whales', 'whatever', 'whats', 'wheelchair', 'whistleblower', 'whistleblowers', 'white', 'whitest', 'whole', 'whove', 'wicked', 'wideangle', 'wife', 'wild', 'wildest', 'wildfires', 'wildlife', 'wildly', 'willful', 'willing', 'win', 'wind', 'windmill', 'window', 'windpowered', 'wing', 'wings', 'wingsuit', 'winning', 'wipe', 'wire', 'wireless', 'wisdom', 'wisely', 'wish', 'wit', 'withdrawal', 'within', 'without', 'witness', 'woman', 'womans', 'women', 'womens', 'wonder', 'wonderful', 'wonderland', 'wonderlands', 'wonders', 'wont', 'won’t', 'wood', 'wooden', 'woolly', 'word', 'words', 'work', 'worked', 'worker', 'workers', 'workforce', 'working', 'workings', 'worklife', 'workplace', 'works', 'world', 'worldclass', 'worlds', 'worldview', 'worldwide', 'world’s', 'worms', 'worried', 'worrying', 'worse', 'worship', 'worst', 'worstdesigned', 'worth', 'worthwhile', 'would', 'wound', 'wounds', 'wrecked', 'wrestlers', 'write', 'writers', 'writing', 'written', 'wrong', 'wuddly', 'x', 'yarn', 'yawning', 'year', 'years', 'yellow', 'yes', 'yet', 'yo', 'youd', 'youll', 'young', 'youre', 'youth', 'youve', 'you’ve', 'yoyo', 'zap', 'zero', 'zerosum', 'zodiac', 'zoetrope', 'zombie', 'zone', '¿Como', '¿Cuándo', '¿Cómo', '¿Por', '—', '“Am']\n"
          ]
        }
      ]
    },
    {
      "cell_type": "code",
      "metadata": {
        "colab": {
          "base_uri": "https://localhost:8080/"
        },
        "id": "Zg1Hc1LmKy4J",
        "outputId": "d357db3a-42e1-41ab-dea5-0f2dc54b1686"
      },
      "source": [
        "title_countvectorizer.shape"
      ],
      "execution_count": null,
      "outputs": [
        {
          "output_type": "execute_result",
          "data": {
            "text/plain": [
              "(4005, 5751)"
            ]
          },
          "metadata": {},
          "execution_count": 57
        }
      ]
    },
    {
      "cell_type": "code",
      "metadata": {
        "id": "aCkeNjLlMbXO",
        "colab": {
          "base_uri": "https://localhost:8080/"
        },
        "outputId": "b35b504c-d6e4-458e-ea1b-578dfbdeb771"
      },
      "source": [
        "print(title_countvectorizer.toarray())"
      ],
      "execution_count": null,
      "outputs": [
        {
          "output_type": "stream",
          "name": "stdout",
          "text": [
            "[[0 0 0 ... 0 0 0]\n",
            " [0 0 0 ... 0 0 0]\n",
            " [0 0 0 ... 0 0 0]\n",
            " ...\n",
            " [0 0 0 ... 0 0 0]\n",
            " [0 0 0 ... 0 0 0]\n",
            " [0 0 0 ... 0 0 0]]\n"
          ]
        }
      ]
    },
    {
      "cell_type": "code",
      "metadata": {
        "id": "dqki5PpBKpj1"
      },
      "source": [
        "f2 = '/content/drive/MyDrive/Colab Notebooks/Cohort_Himalaya_AlmaBetter/ML_CAPSTONE/Capstone 3-Ted_Talk_Views_Prediction/Copy of cleaned_data.csv'\n",
        "cleaned_df = pd.read_csv(f2)"
      ],
      "execution_count": null,
      "outputs": []
    },
    {
      "cell_type": "code",
      "metadata": {
        "colab": {
          "base_uri": "https://localhost:8080/",
          "height": 213
        },
        "id": "GFBkIM2OK9Gb",
        "outputId": "6991ebaf-f538-493e-ffeb-b7f3677bbdc6"
      },
      "source": [
        "cleaned_df.head(2)"
      ],
      "execution_count": null,
      "outputs": [
        {
          "output_type": "execute_result",
          "data": {
            "text/html": [
              "<div>\n",
              "<style scoped>\n",
              "    .dataframe tbody tr th:only-of-type {\n",
              "        vertical-align: middle;\n",
              "    }\n",
              "\n",
              "    .dataframe tbody tr th {\n",
              "        vertical-align: top;\n",
              "    }\n",
              "\n",
              "    .dataframe thead th {\n",
              "        text-align: right;\n",
              "    }\n",
              "</style>\n",
              "<table border=\"1\" class=\"dataframe\">\n",
              "  <thead>\n",
              "    <tr style=\"text-align: right;\">\n",
              "      <th></th>\n",
              "      <th>talk_id</th>\n",
              "      <th>views</th>\n",
              "      <th>duration</th>\n",
              "      <th>recorded_date</th>\n",
              "      <th>published_date</th>\n",
              "      <th>event</th>\n",
              "      <th>topics</th>\n",
              "      <th>title</th>\n",
              "      <th>about_speakers</th>\n",
              "      <th>occupations</th>\n",
              "      <th>transcript</th>\n",
              "      <th>description</th>\n",
              "      <th>days_taken_to_publish</th>\n",
              "      <th>time_since_published</th>\n",
              "      <th>daily_views</th>\n",
              "      <th>topics_string</th>\n",
              "      <th>text_corpus</th>\n",
              "    </tr>\n",
              "  </thead>\n",
              "  <tbody>\n",
              "    <tr>\n",
              "      <th>0</th>\n",
              "      <td>1</td>\n",
              "      <td>3523392</td>\n",
              "      <td>977</td>\n",
              "      <td>2006-02-25</td>\n",
              "      <td>2006-06-27</td>\n",
              "      <td>TED2006</td>\n",
              "      <td>['alternative energy', 'cars', 'climate change...</td>\n",
              "      <td>Averting the climate crisis</td>\n",
              "      <td>Nobel Laureate Al Gore focused the world’s att...</td>\n",
              "      <td>climate advocate</td>\n",
              "      <td>Thank you so much, Chris. And it's truly a gre...</td>\n",
              "      <td>With the same humor and humanity he exuded in ...</td>\n",
              "      <td>122 days</td>\n",
              "      <td>5056 days</td>\n",
              "      <td>696.735614</td>\n",
              "      <td>alternative energy cars climate change culture...</td>\n",
              "      <td>alternative energy cars climate change cultur...</td>\n",
              "    </tr>\n",
              "    <tr>\n",
              "      <th>1</th>\n",
              "      <td>92</td>\n",
              "      <td>14501685</td>\n",
              "      <td>1190</td>\n",
              "      <td>2006-02-22</td>\n",
              "      <td>2006-06-27</td>\n",
              "      <td>TED2006</td>\n",
              "      <td>['Africa', 'Asia', 'Google', 'demo', 'economic...</td>\n",
              "      <td>The best stats you've ever seen</td>\n",
              "      <td>In Hans Rosling’s hands, data sings. Global tr...</td>\n",
              "      <td>global health expert; data visionary</td>\n",
              "      <td>About 10 years ago, I took on the task to teac...</td>\n",
              "      <td>You've never seen data presented like this. Wi...</td>\n",
              "      <td>125 days</td>\n",
              "      <td>5056 days</td>\n",
              "      <td>2867.645837</td>\n",
              "      <td>Africa Asia Google demo economics global issue...</td>\n",
              "      <td>Africa Asia Google demo economics global issu...</td>\n",
              "    </tr>\n",
              "  </tbody>\n",
              "</table>\n",
              "</div>"
            ],
            "text/plain": [
              "   talk_id  ...                                        text_corpus\n",
              "0        1  ...   alternative energy cars climate change cultur...\n",
              "1       92  ...   Africa Asia Google demo economics global issu...\n",
              "\n",
              "[2 rows x 17 columns]"
            ]
          },
          "metadata": {},
          "execution_count": 60
        }
      ]
    },
    {
      "cell_type": "markdown",
      "metadata": {
        "id": "rMOHVJ1KB_Zx"
      },
      "source": [
        "#Model using Count Vectorizer"
      ]
    },
    {
      "cell_type": "code",
      "metadata": {
        "colab": {
          "base_uri": "https://localhost:8080/",
          "height": 677
        },
        "id": "cZ3MyFrULZZk",
        "outputId": "2b87c8d7-ce62-4ebf-877f-ab2dc30a9037"
      },
      "source": [
        "sns.distplot(cleaned_df['daily_views'])"
      ],
      "execution_count": null,
      "outputs": [
        {
          "output_type": "stream",
          "name": "stderr",
          "text": [
            "/usr/local/lib/python3.7/dist-packages/seaborn/distributions.py:2557: FutureWarning: `distplot` is a deprecated function and will be removed in a future version. Please adapt your code to use either `displot` (a figure-level function with similar flexibility) or `histplot` (an axes-level function for histograms).\n",
            "  warnings.warn(msg, FutureWarning)\n"
          ]
        },
        {
          "output_type": "execute_result",
          "data": {
            "text/plain": [
              "<matplotlib.axes._subplots.AxesSubplot at 0x7f74fd4cf350>"
            ]
          },
          "metadata": {},
          "execution_count": 61
        },
        {
          "output_type": "display_data",
          "data": {
            "image/png": "[encoded data removed]",
            "text/plain": [
              "<Figure size 1800x720 with 1 Axes>"
            ]
          },
          "metadata": {
            "needs_background": "light"
          }
        }
      ]
    },
    {
      "cell_type": "code",
      "metadata": {
        "id": "xxn-h9hL9myp"
      },
      "source": [
        "X = title_countvectorizer\n",
        "y = cleaned_df['views'].values.reshape(-1,1)"
      ],
      "execution_count": null,
      "outputs": []
    },
    {
      "cell_type": "code",
      "metadata": {
        "id": "KsU8FXl0-GD-"
      },
      "source": [
        "from sklearn.model_selection import train_test_split\n",
        "X_train, X_test, y_train, y_test = train_test_split(X, y, test_size = 0.2)"
      ],
      "execution_count": null,
      "outputs": []
    },
    {
      "cell_type": "code",
      "metadata": {
        "colab": {
          "base_uri": "https://localhost:8080/"
        },
        "id": "LI9qYBPiGPJw",
        "outputId": "f13a4026-8ff6-44ba-c72d-dae1ff5d4fd6"
      },
      "source": [
        "y_train"
      ],
      "execution_count": null,
      "outputs": [
        {
          "output_type": "execute_result",
          "data": {
            "text/plain": [
              "array([[2087077],\n",
              "       [1415402],\n",
              "       [1011840],\n",
              "       ...,\n",
              "       [ 913460],\n",
              "       [3333020],\n",
              "       [1061300]])"
            ]
          },
          "metadata": {},
          "execution_count": 116
        }
      ]
    },
    {
      "cell_type": "code",
      "metadata": {
        "id": "DJQVe5q5LmTd"
      },
      "source": [
        "# from sklearn.preprocessing import StandardScaler\n",
        "# scaler1 = StandardScaler()\n",
        "# y_train = scaler1.fit_transform(y_train)\n",
        "# y_test = scaler1.transform(y_test)"
      ],
      "execution_count": null,
      "outputs": []
    },
    {
      "cell_type": "code",
      "metadata": {
        "id": "ReHat3LZDrRZ"
      },
      "source": [
        "from sklearn.preprocessing import MinMaxScaler\n",
        "scaler2 = MinMaxScaler()\n",
        "y_train = scaler2.fit_transform(y_train)\n",
        "y_test = scaler2.transform(y_test)"
      ],
      "execution_count": null,
      "outputs": []
    },
    {
      "cell_type": "code",
      "metadata": {
        "colab": {
          "base_uri": "https://localhost:8080/"
        },
        "id": "1bn7shVKHAb0",
        "outputId": "125995b7-1ce1-43e3-df39-74a29035b00b"
      },
      "source": [
        "X_train.shape, y_train.shape"
      ],
      "execution_count": null,
      "outputs": [
        {
          "output_type": "execute_result",
          "data": {
            "text/plain": [
              "((3204, 5751), (3204, 1))"
            ]
          },
          "metadata": {},
          "execution_count": 119
        }
      ]
    },
    {
      "cell_type": "code",
      "metadata": {
        "colab": {
          "base_uri": "https://localhost:8080/"
        },
        "id": "vFXb_YAn-QMD",
        "outputId": "65d27521-fe13-4f4b-87e6-7d571e508d06"
      },
      "source": [
        "from sklearn.tree import DecisionTreeRegressor\n",
        "regressor = DecisionTreeRegressor(max_depth= 200, random_state = 0)\n",
        "regressor.fit(X_train, y_train)"
      ],
      "execution_count": null,
      "outputs": [
        {
          "output_type": "execute_result",
          "data": {
            "text/plain": [
              "DecisionTreeRegressor(ccp_alpha=0.0, criterion='mse', max_depth=200,\n",
              "                      max_features=None, max_leaf_nodes=None,\n",
              "                      min_impurity_decrease=0.0, min_impurity_split=None,\n",
              "                      min_samples_leaf=1, min_samples_split=2,\n",
              "                      min_weight_fraction_leaf=0.0, presort='deprecated',\n",
              "                      random_state=0, splitter='best')"
            ]
          },
          "metadata": {},
          "execution_count": 120
        }
      ]
    },
    {
      "cell_type": "code",
      "metadata": {
        "id": "VJb7c5pf_HCg"
      },
      "source": [
        "y_pred_test = regressor.predict(X_test)"
      ],
      "execution_count": null,
      "outputs": []
    },
    {
      "cell_type": "code",
      "metadata": {
        "colab": {
          "base_uri": "https://localhost:8080/"
        },
        "id": "DGVvaqJ4ABQP",
        "outputId": "c7df51a5-4fb3-4008-bdc4-d42d070206a2"
      },
      "source": [
        "y_pred_test"
      ],
      "execution_count": null,
      "outputs": [
        {
          "output_type": "execute_result",
          "data": {
            "text/plain": [
              "array([0.02140699, 0.02214835, 0.02214835, 0.02214835, 0.02214835,\n",
              "       0.02214835, 0.02214835, 0.02214835, 0.01989604, 0.02214835,\n",
              "       0.02214835, 0.02214835, 0.02214835, 0.02214835, 0.02214835,\n",
              "       0.02214835, 0.02214835, 0.02214835, 0.02214835, 0.02214835,\n",
              "       0.02214835, 0.02214835, 0.02214835, 0.02214835, 0.02214835,\n",
              "       0.02214835, 0.02214835, 0.02214835, 0.02214835, 0.02214835,\n",
              "       0.01340639, 0.02214835, 0.02214835, 0.03880351, 0.02214835,\n",
              "       0.02214835, 0.02214835, 0.02214835, 0.02214835, 0.02214835,\n",
              "       0.0174912 , 0.02214835, 0.02214835, 0.02377527, 0.02214835,\n",
              "       0.02214835, 0.02214835, 0.02214835, 0.02214835, 0.02214835,\n",
              "       0.02214835, 0.02214835, 0.02214835, 0.02214835, 0.01060837,\n",
              "       0.03685091, 0.02214835, 0.02214835, 0.02214835, 0.02214835,\n",
              "       0.02214835, 0.02377527, 0.02214835, 0.02214835, 0.02214835,\n",
              "       0.02214835, 0.02214835, 0.02214835, 0.02214835, 0.02214835,\n",
              "       0.02214835, 0.02214835, 0.02214835, 0.02214835, 0.02214835,\n",
              "       0.02214835, 0.02214835, 0.02214835, 0.02214835, 0.02214835,\n",
              "       0.39039302, 0.03472864, 0.02214835, 0.02214835, 0.02214835,\n",
              "       0.02214835, 0.02214835, 0.02214835, 0.02214835, 0.02214835,\n",
              "       0.02214835, 0.10836093, 0.02214835, 0.02214835, 0.02214835,\n",
              "       0.02214835, 0.01353922, 0.03469052, 0.02214835, 0.02214835,\n",
              "       0.02214835, 0.02377527, 0.02214835, 0.02214835, 0.02214835,\n",
              "       0.02214835, 0.02214835, 0.02140699, 0.02214835, 0.03374744,\n",
              "       0.02214835, 0.02214835, 0.02214835, 0.02214835, 0.02214835,\n",
              "       0.02214835, 0.3567054 , 0.02214835, 0.02214835, 0.0665087 ,\n",
              "       0.02214835, 0.02214835, 0.02214835, 0.02214835, 0.01773705,\n",
              "       0.02214835, 0.02214835, 0.02214835, 0.02214835, 0.02214835,\n",
              "       0.02140699, 0.02214835, 0.02214835, 0.02214835, 0.02214835,\n",
              "       0.02214835, 0.02214835, 0.02214835, 0.02214835, 0.03685091,\n",
              "       0.02214835, 0.02214835, 0.09803147, 0.02214835, 0.02214835,\n",
              "       0.02214835, 0.03650511, 0.02214835, 0.02214835, 0.02214835,\n",
              "       0.04044132, 0.02214835, 0.02214835, 0.02214835, 0.02214835,\n",
              "       0.02214835, 0.02214835, 0.02214835, 0.02214835, 0.02214835,\n",
              "       0.02214835, 0.02214835, 0.02214835, 0.02214835, 0.07069408,\n",
              "       0.02214835, 0.02214835, 0.02214835, 0.02214835, 0.02214835,\n",
              "       0.01340639, 0.02214835, 0.02214835, 0.02214835, 0.02214835,\n",
              "       0.02214835, 0.02214835, 0.19877348, 0.02214835, 0.02214835,\n",
              "       0.02214835, 0.02214835, 0.02214835, 0.02214835, 0.02214835,\n",
              "       0.02214835, 0.02214835, 0.02214835, 0.02214835, 0.02214835,\n",
              "       0.02214835, 0.02214835, 0.02214835, 0.02214835, 0.02214835,\n",
              "       0.02214835, 0.02214835, 0.02214835, 0.02214835, 0.02214835,\n",
              "       0.02214835, 0.02214835, 0.02214835, 0.02214835, 0.02214835,\n",
              "       0.05018848, 0.02214835, 0.02214835, 0.02214835, 0.02214835,\n",
              "       0.02214835, 0.02214835, 0.02214835, 0.02214835, 0.02214835,\n",
              "       0.02214835, 0.02214835, 0.02214835, 0.02214835, 0.02214835,\n",
              "       0.02214835, 0.02214835, 0.02214835, 0.02214835, 0.02214835,\n",
              "       0.02214835, 0.02214835, 0.02214835, 0.03469052, 0.02214835,\n",
              "       0.02214835, 0.02214835, 0.02042623, 0.02214835, 0.02214835,\n",
              "       0.02214835, 0.02214835, 0.02214835, 0.02214835, 0.02214835,\n",
              "       0.02214835, 0.02214835, 0.02214835, 0.02214835, 0.02214835,\n",
              "       0.02214835, 0.02214835, 0.02214835, 0.02214835, 0.02214835,\n",
              "       0.02214835, 0.02214835, 0.02214835, 0.02214835, 0.02214835,\n",
              "       0.03469052, 0.02214835, 0.02214835, 0.02214835, 0.02214835,\n",
              "       0.02214835, 0.02214835, 0.02214835, 0.02214835, 0.09101092,\n",
              "       0.02214835, 0.02214835, 0.02214835, 0.02214835, 0.02214835,\n",
              "       0.12323242, 0.02214835, 0.02214835, 0.02214835, 0.02214835,\n",
              "       0.02214835, 0.02214835, 0.02783329, 0.02214835, 0.02214835,\n",
              "       0.02214835, 0.02214835, 0.02214835, 0.02214835, 0.02214835,\n",
              "       0.02214835, 0.02214835, 0.02214835, 0.02737171, 0.02214835,\n",
              "       0.01915578, 0.02377527, 0.02214835, 0.02214835, 0.01989604,\n",
              "       0.02214835, 0.02214835, 0.02214835, 0.02214835, 0.24065701,\n",
              "       0.02214835, 0.14310991, 0.02140699, 0.02214835, 0.02214835,\n",
              "       0.02214835, 0.02214835, 0.02214835, 0.02214835, 0.02214835,\n",
              "       0.02214835, 0.02214835, 0.02214835, 0.02214835, 0.15610137,\n",
              "       0.02214835, 0.02214835, 0.02214835, 0.02214835, 0.02377527,\n",
              "       0.02214835, 0.03978002, 0.02214835, 0.02214835, 0.02214835,\n",
              "       0.02214835, 0.02214835, 0.02214835, 0.02214835, 0.07333169,\n",
              "       0.02214835, 0.02214835, 0.02214835, 0.02214835, 0.02214835,\n",
              "       0.02214835, 0.02214835, 0.02214835, 0.02214835, 0.02214835,\n",
              "       0.02214835, 0.02214835, 0.02214835, 0.02214835, 0.02214835,\n",
              "       0.02214835, 0.02214835, 0.02214835, 0.02214835, 0.02214835,\n",
              "       0.1130097 , 0.02214835, 0.02214835, 0.02214835, 0.02214835,\n",
              "       0.02214835, 0.02214835, 0.02214835, 0.02214835, 0.04507083,\n",
              "       0.02214835, 0.02214835, 0.02214835, 0.02214835, 0.02214835,\n",
              "       0.02214835, 0.02214835, 0.02214835, 0.02214835, 0.02214835,\n",
              "       0.02214835, 0.02214835, 0.02214835, 0.02214835, 0.02214835,\n",
              "       0.02214835, 0.02214835, 0.02214835, 0.02214835, 0.02737171,\n",
              "       0.23289817, 0.02214835, 0.02214835, 0.02214835, 0.02214835,\n",
              "       0.02214835, 0.02214835, 0.02377527, 0.02214835, 0.02214835,\n",
              "       0.02214835, 0.02214835, 0.02214835, 0.02214835, 0.02214835,\n",
              "       0.02214835, 0.02214835, 0.02214835, 0.02214835, 0.02214835,\n",
              "       0.02214835, 0.02214835, 0.02214835, 0.02214835, 0.02214835,\n",
              "       0.02214835, 0.02214835, 0.02214835, 0.02214835, 0.02214835,\n",
              "       0.02214835, 0.02214835, 0.02214835, 0.02214835, 0.03714096,\n",
              "       0.02214835, 0.02214835, 0.02607477, 0.02214835, 0.02214835,\n",
              "       0.02214835, 0.02214835, 0.02214835, 0.02214835, 0.02214835,\n",
              "       0.02214835, 0.02214835, 0.02214835, 0.02214835, 0.02214835,\n",
              "       0.00686462, 0.02214835, 0.02214835, 0.02214835, 0.06646108,\n",
              "       0.02214835, 0.02214835, 0.02214835, 0.07600001, 0.02214835,\n",
              "       0.02214835, 0.02214835, 0.02214835, 0.02214835, 0.02214835,\n",
              "       0.01340639, 0.02214835, 0.02214835, 0.02214835, 0.02214835,\n",
              "       0.02214835, 0.02377527, 0.09582133, 0.02214835, 0.02214835,\n",
              "       0.02214835, 0.02214835, 0.02214835, 0.02214835, 0.03469052,\n",
              "       0.01989604, 0.02214835, 0.02214835, 0.02214835, 0.02214835,\n",
              "       0.02214835, 0.02214835, 0.02214835, 0.02214835, 0.02214835,\n",
              "       0.02214835, 0.02214835, 0.02214835, 0.02214835, 0.02214835,\n",
              "       0.02214835, 0.02214835, 0.02214835, 0.02214835, 0.02214835,\n",
              "       0.02214835, 0.02214835, 0.02214835, 0.02214835, 0.02214835,\n",
              "       0.01989604, 0.02214835, 0.02214835, 0.02214835, 0.02214835,\n",
              "       0.02214835, 0.02214835, 0.02214835, 0.02214835, 0.02214835,\n",
              "       0.02214835, 0.02214835, 0.02214835, 0.02214835, 0.02214835,\n",
              "       0.02214835, 0.02214835, 0.02214835, 0.02214835, 0.02214835,\n",
              "       0.02214835, 0.02214835, 0.02524425, 0.02214835, 0.02214835,\n",
              "       0.02214835, 0.02214835, 0.02214835, 0.02214835, 0.02214835,\n",
              "       0.02214835, 0.02214835, 0.02214835, 0.02214835, 0.02214835,\n",
              "       0.02214835, 0.02214835, 0.02214835, 0.02214835, 0.02214835,\n",
              "       0.02834105, 0.02214835, 0.02214835, 0.02214835, 0.02214835,\n",
              "       0.02214835, 0.02214835, 0.02214835, 0.02214835, 0.02214835,\n",
              "       0.19877348, 0.02214835, 0.02214835, 0.01989604, 0.14924865,\n",
              "       0.02214835, 0.02214835, 0.02214835, 0.02214835, 0.02214835,\n",
              "       0.00332842, 0.02214835, 0.02214835, 0.02214835, 0.02214835,\n",
              "       0.02214835, 0.02214835, 0.02214835, 0.05942698, 0.02214835,\n",
              "       0.02214835, 0.02214835, 0.05388041, 0.02214835, 0.02214835,\n",
              "       0.02214835, 0.02214835, 0.02214835, 0.02214835, 0.02214835,\n",
              "       0.02214835, 0.02214835, 0.02214835, 0.02214835, 0.02214835,\n",
              "       0.02214835, 0.02214835, 0.02214835, 0.02214835, 0.02214835,\n",
              "       0.02105225, 0.02214835, 0.02214835, 0.02214835, 0.02214835,\n",
              "       0.02214835, 0.02214835, 0.02214835, 0.02214835, 0.02214835,\n",
              "       0.02214835, 0.02214835, 0.02214835, 0.02214835, 0.01922117,\n",
              "       0.02214835, 0.02214835, 0.02214835, 0.02214835, 0.02214835,\n",
              "       0.02214835, 0.02214835, 0.02214835, 0.02214835, 0.02214835,\n",
              "       0.02214835, 0.02377527, 0.02214835, 0.02214835, 0.02214835,\n",
              "       0.02214835, 0.02214835, 0.02214835, 0.02214835, 0.02214835,\n",
              "       0.02214835, 0.02214835, 0.02214835, 0.02214835, 0.02214835,\n",
              "       0.02214835, 0.02214835, 0.02214835, 0.02214835, 0.02214835,\n",
              "       0.02214835, 0.02214835, 0.02214835, 0.02214835, 0.02214835,\n",
              "       0.02214835, 0.02214835, 0.15447264, 0.02214835, 0.22093161,\n",
              "       0.02214835, 0.02214835, 0.02214835, 0.02214835, 0.02214835,\n",
              "       0.02377527, 0.02214835, 0.02214835, 0.05018848, 0.02214835,\n",
              "       0.02214835, 0.02214835, 0.02214835, 0.02783329, 0.02214835,\n",
              "       0.02214835, 0.02214835, 0.02377527, 0.02214835, 0.02214835,\n",
              "       0.02214835, 0.01989604, 0.27094276, 0.02214835, 0.02214835,\n",
              "       0.02214835, 0.02214835, 0.08724891, 0.02214835, 0.02214835,\n",
              "       0.02214835, 0.02214835, 0.02214835, 0.02214835, 0.02214835,\n",
              "       0.01922117, 0.02214835, 0.02214835, 0.00686462, 0.02214835,\n",
              "       0.02214835, 0.02214835, 0.02214835, 0.02214835, 0.02214835,\n",
              "       0.02214835, 0.02214835, 0.02214835, 0.02214835, 0.02214835,\n",
              "       0.02214835, 0.02214835, 0.02214835, 0.02214835, 0.02214835,\n",
              "       0.02214835, 0.02377527, 0.02214835, 0.02214835, 0.02214835,\n",
              "       0.02214835, 0.02214835, 0.02214835, 0.02214835, 0.02214835,\n",
              "       0.02214835, 0.02214835, 0.02214835, 0.02214835, 0.02214835,\n",
              "       0.02214835, 0.02214835, 0.02214835, 0.02214835, 0.18988441,\n",
              "       0.02214835, 0.02214835, 0.02214835, 0.02214835, 0.02214835,\n",
              "       0.02214835, 0.02214835, 0.02214835, 0.02214835, 0.02214835,\n",
              "       0.02214835, 0.02214835, 0.08861941, 0.02214835, 0.03374744,\n",
              "       0.08670047, 0.02214835, 0.02214835, 0.02214835, 0.02105008,\n",
              "       0.02214835, 0.02214835, 0.02214835, 0.02214835, 0.02214835,\n",
              "       0.02214835, 0.02214835, 0.02214835, 0.02214835, 0.02214835,\n",
              "       0.02214835, 0.02214835, 0.02214835, 0.02214835, 0.02214835,\n",
              "       0.02214835, 0.02214835, 0.02214835, 0.02214835, 0.02214835,\n",
              "       0.02214835, 0.02214835, 0.02214835, 0.02214835, 0.02214835,\n",
              "       0.02214835, 0.27845001, 0.02214835, 0.02214835, 0.02214835,\n",
              "       0.40028118, 0.12448037, 0.02214835, 0.02214835, 0.01989604,\n",
              "       0.02214835, 0.01989604, 0.02214835, 0.02214835, 0.02214835,\n",
              "       0.06964029, 0.02214835, 0.02214835, 0.02214835, 0.02214835,\n",
              "       0.02214835, 0.02214835, 0.02214835, 0.02214835, 0.02214835,\n",
              "       0.0710064 , 0.02214835, 0.02214835, 0.02214835, 0.02214835,\n",
              "       0.02214835, 0.02214835, 0.02140699, 0.02214835, 0.02214835,\n",
              "       0.02214835, 0.02214835, 0.02214835, 0.02214835, 0.02214835,\n",
              "       0.02214835, 0.02214835, 0.02377527, 0.02214835, 0.02214835,\n",
              "       0.02214835, 0.02214835, 0.02214835, 0.0174912 , 0.0454561 ,\n",
              "       0.02214835])"
            ]
          },
          "metadata": {},
          "execution_count": 122
        }
      ]
    },
    {
      "cell_type": "code",
      "metadata": {
        "colab": {
          "base_uri": "https://localhost:8080/"
        },
        "id": "pOUZKioQBXkv",
        "outputId": "91c5d506-d6e2-44be-922d-ef47e4fe62a6"
      },
      "source": [
        "y_pred_test.shape, y_test.shape"
      ],
      "execution_count": null,
      "outputs": [
        {
          "output_type": "execute_result",
          "data": {
            "text/plain": [
              "((801,), (801, 1))"
            ]
          },
          "metadata": {},
          "execution_count": 123
        }
      ]
    },
    {
      "cell_type": "code",
      "metadata": {
        "id": "hGjrwAoBADZT"
      },
      "source": [
        "from sklearn.metrics import mean_squared_error"
      ],
      "execution_count": null,
      "outputs": []
    },
    {
      "cell_type": "code",
      "metadata": {
        "id": "zLQfzHY9dMKZ"
      },
      "source": [
        "from sklearn.metrics import mean_absolute_error"
      ],
      "execution_count": null,
      "outputs": []
    },
    {
      "cell_type": "code",
      "metadata": {
        "colab": {
          "base_uri": "https://localhost:8080/"
        },
        "id": "yWybS5OwA1TK",
        "outputId": "ff688304-9105-487d-a80d-7ea3514b4824"
      },
      "source": [
        "mse = mean_squared_error(y_test, y_pred_test)\n",
        "rmse = np.sqrt(mse)\n",
        "print(mse)\n",
        "print(rmse)"
      ],
      "execution_count": null,
      "outputs": [
        {
          "output_type": "stream",
          "name": "stdout",
          "text": [
            "0.003546426439133895\n",
            "0.05955188023172648\n"
          ]
        }
      ]
    },
    {
      "cell_type": "code",
      "metadata": {
        "colab": {
          "base_uri": "https://localhost:8080/"
        },
        "id": "PsU_beINeOvh",
        "outputId": "38d96efc-b7c9-407e-fb5b-b77166f174d2"
      },
      "source": [
        "mae = mean_absolute_error(y_test, y_pred_test)\n",
        "print(mae)"
      ],
      "execution_count": null,
      "outputs": [
        {
          "output_type": "stream",
          "name": "stdout",
          "text": [
            "0.024410319283217675\n"
          ]
        }
      ]
    },
    {
      "cell_type": "markdown",
      "metadata": {
        "id": "a0LZ-ah_CP94"
      },
      "source": [
        "#Using Tfidf"
      ]
    },
    {
      "cell_type": "code",
      "metadata": {
        "colab": {
          "base_uri": "https://localhost:8080/"
        },
        "id": "45nxwmuxBx4A",
        "outputId": "bfce22b9-0378-4bcf-fe5f-323e4121269b"
      },
      "source": [
        "from sklearn.feature_extraction.text import TfidfTransformer\n",
        "title_tfidf = TfidfTransformer().fit_transform(title_countvectorizer)\n",
        "print(title_tfidf.shape)"
      ],
      "execution_count": null,
      "outputs": [
        {
          "output_type": "stream",
          "name": "stdout",
          "text": [
            "(4005, 5751)\n"
          ]
        }
      ]
    },
    {
      "cell_type": "code",
      "metadata": {
        "id": "zr9GmRckCZzN"
      },
      "source": [
        "X = title_tfidf\n",
        "y = cleaned_df['daily_views'].values.reshape(-1,1)"
      ],
      "execution_count": null,
      "outputs": []
    },
    {
      "cell_type": "code",
      "metadata": {
        "id": "Ys3DVkoLCqVa"
      },
      "source": [
        "from sklearn.model_selection import train_test_split\n",
        "X_train, X_test, y_train, y_test = train_test_split(X, y, test_size = 0.2)"
      ],
      "execution_count": null,
      "outputs": []
    },
    {
      "cell_type": "code",
      "metadata": {
        "id": "3jc5Xd5DMRKw"
      },
      "source": [
        "# from sklearn.preprocessing import StandardScaler\n",
        "# scaler1 = StandardScaler()\n",
        "# y_train = scaler1.fit_transform(y_train)\n",
        "# y_test = scaler1.transform(y_test)"
      ],
      "execution_count": null,
      "outputs": []
    },
    {
      "cell_type": "code",
      "metadata": {
        "id": "KEgCF7c_NnJA"
      },
      "source": [
        "from sklearn.preprocessing import MinMaxScaler\n",
        "scaler2 = MinMaxScaler()\n",
        "y_train = scaler2.fit_transform(y_train)\n",
        "y_test = scaler2.transform(y_test)"
      ],
      "execution_count": null,
      "outputs": []
    },
    {
      "cell_type": "code",
      "metadata": {
        "colab": {
          "base_uri": "https://localhost:8080/"
        },
        "id": "8QO_6aiADFtB",
        "outputId": "b85a48f7-eeb8-4d6d-8985-253b6e6d22ef"
      },
      "source": [
        "from sklearn.ensemble import RandomForestRegressor\n",
        "regressor = RandomForestRegressor(n_estimators = 1000, max_depth=200, random_state = 0)\n",
        "regressor.fit(X_train, y_train)"
      ],
      "execution_count": null,
      "outputs": [
        {
          "output_type": "stream",
          "name": "stderr",
          "text": [
            "/usr/local/lib/python3.7/dist-packages/ipykernel_launcher.py:3: DataConversionWarning: A column-vector y was passed when a 1d array was expected. Please change the shape of y to (n_samples,), for example using ravel().\n",
            "  This is separate from the ipykernel package so we can avoid doing imports until\n"
          ]
        },
        {
          "output_type": "execute_result",
          "data": {
            "text/plain": [
              "RandomForestRegressor(bootstrap=True, ccp_alpha=0.0, criterion='mse',\n",
              "                      max_depth=200, max_features='auto', max_leaf_nodes=None,\n",
              "                      max_samples=None, min_impurity_decrease=0.0,\n",
              "                      min_impurity_split=None, min_samples_leaf=1,\n",
              "                      min_samples_split=2, min_weight_fraction_leaf=0.0,\n",
              "                      n_estimators=1000, n_jobs=None, oob_score=False,\n",
              "                      random_state=0, verbose=0, warm_start=False)"
            ]
          },
          "metadata": {},
          "execution_count": 136
        }
      ]
    },
    {
      "cell_type": "code",
      "metadata": {
        "id": "HrGwbeVrCv4m"
      },
      "source": [
        "y_pred_test = regressor.predict(X_test)"
      ],
      "execution_count": null,
      "outputs": []
    },
    {
      "cell_type": "code",
      "metadata": {
        "colab": {
          "base_uri": "https://localhost:8080/"
        },
        "id": "yRpXNJziCze7",
        "outputId": "512e3788-1a4c-4af1-f5db-f77a25492825"
      },
      "source": [
        "mse = mean_squared_error(y_test, y_pred_test)\n",
        "rmse = np.sqrt(mse)\n",
        "print(mse)\n",
        "print(rmse)"
      ],
      "execution_count": null,
      "outputs": [
        {
          "output_type": "stream",
          "name": "stdout",
          "text": [
            "0.0021385349979558452\n",
            "0.04624429692357583\n"
          ]
        }
      ]
    },
    {
      "cell_type": "code",
      "metadata": {
        "colab": {
          "base_uri": "https://localhost:8080/"
        },
        "id": "1KJWfxObh5jl",
        "outputId": "1a35c21b-395d-41e9-90e0-c805f829c5d8"
      },
      "source": [
        "mae = mean_absolute_error(y_test, y_pred_test)\n",
        "print(mae)"
      ],
      "execution_count": null,
      "outputs": [
        {
          "output_type": "stream",
          "name": "stdout",
          "text": [
            "0.019495937619016496\n"
          ]
        }
      ]
    },
    {
      "cell_type": "code",
      "metadata": {
        "colab": {
          "base_uri": "https://localhost:8080/"
        },
        "id": "s8M5JdG_C39y",
        "outputId": "5385a87f-7a78-4158-a8d4-262a9f542e66"
      },
      "source": [
        "r2 = r2_score(y_test,y_pred_test)\n",
        "print(r2)"
      ],
      "execution_count": null,
      "outputs": [
        {
          "output_type": "stream",
          "name": "stdout",
          "text": [
            "0.058171305193988165\n"
          ]
        }
      ]
    },
    {
      "cell_type": "markdown",
      "metadata": {
        "id": "ixyOXo7ADasp"
      },
      "source": [
        "#CatBOost"
      ]
    },
    {
      "cell_type": "code",
      "metadata": {
        "colab": {
          "base_uri": "https://localhost:8080/"
        },
        "id": "fSuMIRNdEGDp",
        "outputId": "4ac4123c-1c68-470d-9ea7-de4f6005d341"
      },
      "source": [
        "!pip install catboost"
      ],
      "execution_count": null,
      "outputs": [
        {
          "output_type": "stream",
          "name": "stdout",
          "text": [
            "Collecting catboost\n",
            "  Downloading catboost-0.26.1-cp37-none-manylinux1_x86_64.whl (67.4 MB)\n",
            "\u001b[K     |████████████████████████████████| 67.4 MB 27 kB/s \n",
            "\u001b[?25hRequirement already satisfied: six in /usr/local/lib/python3.7/dist-packages (from catboost) (1.15.0)\n",
            "Requirement already satisfied: graphviz in /usr/local/lib/python3.7/dist-packages (from catboost) (0.10.1)\n",
            "Requirement already satisfied: matplotlib in /usr/local/lib/python3.7/dist-packages (from catboost) (3.2.2)\n",
            "Requirement already satisfied: numpy>=1.16.0 in /usr/local/lib/python3.7/dist-packages (from catboost) (1.19.5)\n",
            "Requirement already satisfied: pandas>=0.24.0 in /usr/local/lib/python3.7/dist-packages (from catboost) (1.1.5)\n",
            "Requirement already satisfied: scipy in /usr/local/lib/python3.7/dist-packages (from catboost) (1.4.1)\n",
            "Requirement already satisfied: plotly in /usr/local/lib/python3.7/dist-packages (from catboost) (4.4.1)\n",
            "Requirement already satisfied: pytz>=2017.2 in /usr/local/lib/python3.7/dist-packages (from pandas>=0.24.0->catboost) (2018.9)\n",
            "Requirement already satisfied: python-dateutil>=2.7.3 in /usr/local/lib/python3.7/dist-packages (from pandas>=0.24.0->catboost) (2.8.2)\n",
            "Requirement already satisfied: kiwisolver>=1.0.1 in /usr/local/lib/python3.7/dist-packages (from matplotlib->catboost) (1.3.1)\n",
            "Requirement already satisfied: pyparsing!=2.0.4,!=2.1.2,!=2.1.6,>=2.0.1 in /usr/local/lib/python3.7/dist-packages (from matplotlib->catboost) (2.4.7)\n",
            "Requirement already satisfied: cycler>=0.10 in /usr/local/lib/python3.7/dist-packages (from matplotlib->catboost) (0.10.0)\n",
            "Requirement already satisfied: retrying>=1.3.3 in /usr/local/lib/python3.7/dist-packages (from plotly->catboost) (1.3.3)\n",
            "Installing collected packages: catboost\n",
            "Successfully installed catboost-0.26.1\n"
          ]
        }
      ]
    },
    {
      "cell_type": "code",
      "metadata": {
        "id": "grV8G0whDagZ"
      },
      "source": [
        "from catboost import CatBoostRegressor"
      ],
      "execution_count": null,
      "outputs": []
    },
    {
      "cell_type": "code",
      "metadata": {
        "colab": {
          "base_uri": "https://localhost:8080/"
        },
        "id": "L3DBmuSUDaWr",
        "outputId": "c94d3170-9b77-4b26-a93e-efb3aed541f6"
      },
      "source": [
        "model = CatBoostRegressor(iterations=50,\n",
        "                          learning_rate=0.6,\n",
        "                          depth=10)\n",
        "model.fit(X_train, y_train)"
      ],
      "execution_count": null,
      "outputs": [
        {
          "output_type": "stream",
          "name": "stdout",
          "text": [
            "0:\tlearn: 0.0414948\ttotal: 145ms\tremaining: 7.11s\n",
            "1:\tlearn: 0.0394231\ttotal: 290ms\tremaining: 6.96s\n",
            "2:\tlearn: 0.0377589\ttotal: 435ms\tremaining: 6.81s\n",
            "3:\tlearn: 0.0362780\ttotal: 583ms\tremaining: 6.7s\n",
            "4:\tlearn: 0.0350755\ttotal: 728ms\tremaining: 6.56s\n",
            "5:\tlearn: 0.0339678\ttotal: 877ms\tremaining: 6.43s\n",
            "6:\tlearn: 0.0329423\ttotal: 1.03s\tremaining: 6.35s\n",
            "7:\tlearn: 0.0321537\ttotal: 1.18s\tremaining: 6.19s\n",
            "8:\tlearn: 0.0314789\ttotal: 1.32s\tremaining: 6.03s\n",
            "9:\tlearn: 0.0310169\ttotal: 1.47s\tremaining: 5.87s\n",
            "10:\tlearn: 0.0305205\ttotal: 1.62s\tremaining: 5.74s\n",
            "11:\tlearn: 0.0300100\ttotal: 1.77s\tremaining: 5.6s\n",
            "12:\tlearn: 0.0294780\ttotal: 1.92s\tremaining: 5.46s\n",
            "13:\tlearn: 0.0289461\ttotal: 2.06s\tremaining: 5.31s\n",
            "14:\tlearn: 0.0282242\ttotal: 2.21s\tremaining: 5.17s\n",
            "15:\tlearn: 0.0276655\ttotal: 2.35s\tremaining: 5s\n",
            "16:\tlearn: 0.0272192\ttotal: 2.5s\tremaining: 4.85s\n",
            "17:\tlearn: 0.0268135\ttotal: 2.64s\tremaining: 4.7s\n",
            "18:\tlearn: 0.0264642\ttotal: 2.79s\tremaining: 4.56s\n",
            "19:\tlearn: 0.0261188\ttotal: 2.94s\tremaining: 4.4s\n",
            "20:\tlearn: 0.0256753\ttotal: 3.08s\tremaining: 4.26s\n",
            "21:\tlearn: 0.0252120\ttotal: 3.23s\tremaining: 4.11s\n",
            "22:\tlearn: 0.0249343\ttotal: 3.38s\tremaining: 3.97s\n",
            "23:\tlearn: 0.0245776\ttotal: 3.52s\tremaining: 3.82s\n",
            "24:\tlearn: 0.0243186\ttotal: 3.67s\tremaining: 3.67s\n",
            "25:\tlearn: 0.0240789\ttotal: 3.82s\tremaining: 3.53s\n",
            "26:\tlearn: 0.0238533\ttotal: 3.97s\tremaining: 3.38s\n",
            "27:\tlearn: 0.0235235\ttotal: 4.12s\tremaining: 3.23s\n",
            "28:\tlearn: 0.0232340\ttotal: 4.26s\tremaining: 3.09s\n",
            "29:\tlearn: 0.0229442\ttotal: 4.41s\tremaining: 2.94s\n",
            "30:\tlearn: 0.0227345\ttotal: 4.56s\tremaining: 2.79s\n",
            "31:\tlearn: 0.0225399\ttotal: 4.7s\tremaining: 2.64s\n",
            "32:\tlearn: 0.0223528\ttotal: 4.84s\tremaining: 2.49s\n",
            "33:\tlearn: 0.0221783\ttotal: 4.99s\tremaining: 2.35s\n",
            "34:\tlearn: 0.0219831\ttotal: 5.14s\tremaining: 2.2s\n",
            "35:\tlearn: 0.0217979\ttotal: 5.29s\tremaining: 2.06s\n",
            "36:\tlearn: 0.0216102\ttotal: 5.43s\tremaining: 1.91s\n",
            "37:\tlearn: 0.0214525\ttotal: 5.57s\tremaining: 1.76s\n",
            "38:\tlearn: 0.0212194\ttotal: 5.72s\tremaining: 1.61s\n",
            "39:\tlearn: 0.0210735\ttotal: 5.86s\tremaining: 1.47s\n",
            "40:\tlearn: 0.0209389\ttotal: 6.01s\tremaining: 1.32s\n",
            "41:\tlearn: 0.0207166\ttotal: 6.15s\tremaining: 1.17s\n",
            "42:\tlearn: 0.0205453\ttotal: 6.31s\tremaining: 1.03s\n",
            "43:\tlearn: 0.0204116\ttotal: 6.46s\tremaining: 881ms\n",
            "44:\tlearn: 0.0202142\ttotal: 6.61s\tremaining: 734ms\n",
            "45:\tlearn: 0.0200863\ttotal: 6.75s\tremaining: 587ms\n",
            "46:\tlearn: 0.0199593\ttotal: 6.89s\tremaining: 440ms\n",
            "47:\tlearn: 0.0198522\ttotal: 7.04s\tremaining: 293ms\n",
            "48:\tlearn: 0.0197363\ttotal: 7.19s\tremaining: 147ms\n",
            "49:\tlearn: 0.0196169\ttotal: 7.33s\tremaining: 0us\n"
          ]
        },
        {
          "output_type": "execute_result",
          "data": {
            "text/plain": [
              "<catboost.core.CatBoostRegressor at 0x7f74ee8e6b10>"
            ]
          },
          "metadata": {},
          "execution_count": 149
        }
      ]
    },
    {
      "cell_type": "code",
      "metadata": {
        "id": "0BElnlP5C5_8"
      },
      "source": [
        "y_test_pred = model.predict(X_test)"
      ],
      "execution_count": null,
      "outputs": []
    },
    {
      "cell_type": "code",
      "metadata": {
        "colab": {
          "base_uri": "https://localhost:8080/"
        },
        "id": "tsytlV0EEhvY",
        "outputId": "c1fc2e8d-7280-4797-d546-7e003c68526e"
      },
      "source": [
        "mse = mean_squared_error(y_test, y_test_pred)\n",
        "rmse = np.sqrt(mse)\n",
        "print(mse)\n",
        "rmse"
      ],
      "execution_count": null,
      "outputs": [
        {
          "output_type": "stream",
          "name": "stdout",
          "text": [
            "0.0018850750232962113\n"
          ]
        },
        {
          "output_type": "execute_result",
          "data": {
            "text/plain": [
              "0.043417450677074663"
            ]
          },
          "metadata": {},
          "execution_count": 151
        }
      ]
    },
    {
      "cell_type": "code",
      "metadata": {
        "colab": {
          "base_uri": "https://localhost:8080/"
        },
        "id": "lgV1fkeJip4m",
        "outputId": "eed556db-4fe3-4cbf-dc90-3e5c35578512"
      },
      "source": [
        "mae = mean_absolute_error(y_test, y_pred_test)\n",
        "print(mae)"
      ],
      "execution_count": null,
      "outputs": [
        {
          "output_type": "stream",
          "name": "stdout",
          "text": [
            "0.019495937619016496\n"
          ]
        }
      ]
    },
    {
      "cell_type": "markdown",
      "metadata": {
        "id": "RsCr7UjnE-6Z"
      },
      "source": [
        "#MLP REGRESSOR"
      ]
    },
    {
      "cell_type": "code",
      "metadata": {
        "colab": {
          "base_uri": "https://localhost:8080/"
        },
        "id": "EBUHYiBrErYX",
        "outputId": "c4c84713-c0df-49e7-c565-0a12066f473e"
      },
      "source": [
        "from sklearn.neural_network import MLPRegressor\n",
        "regr = MLPRegressor(hidden_layer_sizes=(10,), activation='relu',\n",
        "         solver='adam', alpha=0.001, batch_size='auto',\n",
        "         learning_rate='adaptive', learning_rate_init=0.01,\n",
        "         power_t=0.5, max_iter=1000, shuffle=True, random_state=9,\n",
        "         tol=0.0001, verbose=False, warm_start=False, momentum=0.9,\n",
        "         nesterovs_momentum=True, early_stopping=False,\n",
        "         validation_fraction=0.1, beta_1=0.9, beta_2=0.999,\n",
        "         epsilon=1e-08).fit(X_train, y_train)"
      ],
      "execution_count": null,
      "outputs": [
        {
          "output_type": "stream",
          "name": "stderr",
          "text": [
            "/usr/local/lib/python3.7/dist-packages/sklearn/neural_network/_multilayer_perceptron.py:1342: DataConversionWarning: A column-vector y was passed when a 1d array was expected. Please change the shape of y to (n_samples, ), for example using ravel().\n",
            "  y = column_or_1d(y, warn=True)\n"
          ]
        }
      ]
    },
    {
      "cell_type": "code",
      "metadata": {
        "id": "MLbqIYBnHUh-"
      },
      "source": [
        "y_test_pred1 = regr.predict(X_test)"
      ],
      "execution_count": null,
      "outputs": []
    },
    {
      "cell_type": "code",
      "metadata": {
        "colab": {
          "base_uri": "https://localhost:8080/"
        },
        "id": "dXDz271EFRmY",
        "outputId": "a5bab0e6-531f-4f92-c5d3-9cca2540c3ee"
      },
      "source": [
        "regr.score(X_test, y_test)"
      ],
      "execution_count": null,
      "outputs": [
        {
          "output_type": "execute_result",
          "data": {
            "text/plain": [
              "-0.3303147377610038"
            ]
          },
          "metadata": {},
          "execution_count": 155
        }
      ]
    },
    {
      "cell_type": "code",
      "metadata": {
        "colab": {
          "base_uri": "https://localhost:8080/"
        },
        "id": "9Dt-UMLIGZ6G",
        "outputId": "78822f9b-56c6-4906-e1f5-f61695f43d42"
      },
      "source": [
        "mse = mean_squared_error(y_test, y_test_pred1)\n",
        "rmse = np.sqrt(mse)\n",
        "print(mse)\n",
        "rmse"
      ],
      "execution_count": null,
      "outputs": [
        {
          "output_type": "stream",
          "name": "stdout",
          "text": [
            "0.003020639146680838\n"
          ]
        },
        {
          "output_type": "execute_result",
          "data": {
            "text/plain": [
              "0.05496034158082388"
            ]
          },
          "metadata": {},
          "execution_count": 157
        }
      ]
    },
    {
      "cell_type": "code",
      "metadata": {
        "colab": {
          "base_uri": "https://localhost:8080/"
        },
        "id": "gfOJpTpVjd6_",
        "outputId": "a9f50824-c1a0-479a-a6cf-e91782cc64c1"
      },
      "source": [
        "mae = mean_absolute_error(y_test, y_test_pred1)\n",
        "print(mae)"
      ],
      "execution_count": null,
      "outputs": [
        {
          "output_type": "stream",
          "name": "stdout",
          "text": [
            "0.03070296023454528\n"
          ]
        }
      ]
    },
    {
      "cell_type": "markdown",
      "metadata": {
        "id": "EXRjp3l4USt6"
      },
      "source": [
        "#XGB Regressor"
      ]
    },
    {
      "cell_type": "code",
      "metadata": {
        "id": "o7XQ1H2DHdVY"
      },
      "source": [
        "import xgboost as xgb"
      ],
      "execution_count": null,
      "outputs": []
    },
    {
      "cell_type": "code",
      "metadata": {
        "id": "FFn1aAJRUhv-"
      },
      "source": [
        "xg_reg = xgb.XGBRegressor(objective ='reg:linear', colsample_bytree = 0.3, learning_rate = 0.1,\n",
        "                max_depth = 5, alpha = 10, n_estimators = 10)"
      ],
      "execution_count": null,
      "outputs": []
    },
    {
      "cell_type": "code",
      "metadata": {
        "colab": {
          "base_uri": "https://localhost:8080/"
        },
        "id": "K1B36kFNUqEp",
        "outputId": "e615c940-bff7-432b-ba45-b9a01e9a9027"
      },
      "source": [
        "xg_reg.fit(X_train,y_train)\n",
        "\n",
        "preds = xg_reg.predict(X_test)"
      ],
      "execution_count": null,
      "outputs": [
        {
          "output_type": "stream",
          "name": "stdout",
          "text": [
            "[05:51:40] WARNING: /workspace/src/objective/regression_obj.cu:152: reg:linear is now deprecated in favor of reg:squarederror.\n"
          ]
        }
      ]
    },
    {
      "cell_type": "code",
      "metadata": {
        "colab": {
          "base_uri": "https://localhost:8080/"
        },
        "id": "z64tvArrU5Uw",
        "outputId": "eb4b8b1f-6ec3-4b6f-8f0b-7881cb76f660"
      },
      "source": [
        "mse = mean_squared_error(y_test, preds)\n",
        "rmse = np.sqrt(mean_squared_error(y_test, preds))\n",
        "print(mse)\n",
        "print(\"RMSE: %f\" % (rmse))"
      ],
      "execution_count": null,
      "outputs": [
        {
          "output_type": "stream",
          "name": "stdout",
          "text": [
            "0.029527025653263653\n",
            "RMSE: 0.171834\n"
          ]
        }
      ]
    },
    {
      "cell_type": "code",
      "metadata": {
        "id": "XxzGIlJUVJsl",
        "colab": {
          "base_uri": "https://localhost:8080/"
        },
        "outputId": "6f30fddf-d700-4eed-e450-a0ace7331add"
      },
      "source": [
        "mae = mean_absolute_error(y_test,  preds)\n",
        "print(mae)"
      ],
      "execution_count": null,
      "outputs": [
        {
          "output_type": "stream",
          "name": "stdout",
          "text": [
            "0.1692659386976051\n"
          ]
        }
      ]
    },
    {
      "cell_type": "code",
      "metadata": {
        "id": "rGson0yIkIz8"
      },
      "source": [
        ""
      ],
      "execution_count": null,
      "outputs": []
    }
  ]
}